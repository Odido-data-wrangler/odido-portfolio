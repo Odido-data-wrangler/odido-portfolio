{
 "cells": [
  {
   "cell_type": "code",
   "execution_count": 1,
   "metadata": {},
   "outputs": [
    {
     "name": "stderr",
     "output_type": "stream",
     "text": [
      "/Users/DINGZEEFS/Documents/Fine_tuning_odido/feedback-analysis-env/lib/python3.12/site-packages/tqdm/auto.py:21: TqdmWarning: IProgress not found. Please update jupyter and ipywidgets. See https://ipywidgets.readthedocs.io/en/stable/user_install.html\n",
      "  from .autonotebook import tqdm as notebook_tqdm\n",
      "2025-03-29 00:31:46,382 - New Data Processor Notebook - INFO - Input File: Synthetic_Data_and_AI_results-1 (1).xlsx\n",
      "2025-03-29 00:31:46,382 - New Data Processor Notebook - INFO - Output Directory: /Users/DINGZEEFS/Documents/Fine_tuning_odido/output_dir/new_data_notebook_results\n",
      "2025-03-29 00:31:46,382 - New Data Processor Notebook - INFO - Model Directory: /Users/DINGZEEFS/Documents/Fine_tuning_odido/output_dir\n"
     ]
    }
   ],
   "source": [
    "import os\n",
    "import pandas as pd\n",
    "import logging\n",
    "import re\n",
    "import plotly.express as px\n",
    "import plotly.graph_objects as go\n",
    "from plotly.subplots import make_subplots\n",
    "import numpy as np\n",
    "from pathlib import Path\n",
    "\n",
    "# Import custom modules (make sure they are in the Python path or same directory)\n",
    "from customer_feedback_analyzer import CustomerFeedbackAnalyzer\n",
    "from bertopic import BERTopic\n",
    "from bert_sentiment_trainer import BertSentimentModel\n",
    "\n",
    "# Configure logging (optional for notebook, but good practice)\n",
    "logging.basicConfig(level=logging.INFO, format='%(asctime)s - %(name)s - %(levelname)s - %(message)s')\n",
    "logger = logging.getLogger(\"New Data Processor Notebook\")\n",
    "\n",
    "# --- Parameters to Modify --- #\n",
    "INPUT_FILE = \"Synthetic_Data_and_AI_results-1 (1).xlsx\" # Path to your new data file (Excel or CSV)\n",
    "TEXT_COLUMN = \"Comment\"            # Name of the column containing the feedback text\n",
    "OPENAI_API_KEY = None           # Set your OpenAI API key here if you want to use LLM preprocessing, otherwise leave as None\n",
    "# --- --- --- --- --- --- --- --\n",
    "\n",
    "# Directories (using absolute paths from the original script for consistency)\n",
    "BASE_DIR = Path(\"/Users/DINGZEEFS/Documents/Fine_tuning_odido\")\n",
    "OUTPUT_DIR = BASE_DIR / \"output_dir\"\n",
    "MODEL_DIR = OUTPUT_DIR # Models are expected to be in the main output directory\n",
    "NEW_OUTPUT_DIR = OUTPUT_DIR / \"new_data_notebook_results\" # Separate output for this notebook\n",
    "VIS_DIR = NEW_OUTPUT_DIR / \"visualizations\"\n",
    "\n",
    "# Ensure input file path is absolute or relative to the notebook's location\n",
    "# If INPUT_FILE is just a filename, assume it's in the same directory as the notebook\n",
    "if not os.path.isabs(INPUT_FILE) and not os.path.exists(INPUT_FILE):\n",
    "    INPUT_FILE = BASE_DIR / INPUT_FILE\n",
    "\n",
    "logger.info(f\"Input File: {INPUT_FILE}\")\n",
    "logger.info(f\"Output Directory: {NEW_OUTPUT_DIR}\")\n",
    "logger.info(f\"Model Directory: {MODEL_DIR}\")\n",
    "\n",
    "# Dutch stop words (copied from regenerate_visualizations.py)\n",
    "DUTCH_STOP_WORDS = [\n",
    "    'de', 'het', 'een', 'van', 'in', 'op', 'met', 'is', 'zijn', 'was', 'dat',\n",
    "    'ik', 'je', 'hij', 'zij', 'wij', 'jullie', 'ze', 'deze', 'dit', 'die',\n",
    "    'bij', 'aan', 'als', 'door', 'uit', 'over', 'om', 'voor', 'na', 'er', 'niet',\n",
    "    'ook', 'maar', 'dan', 'dus', 'nog', 'al', 'zo', 'kan', 'of', 'naar', 'worden',\n",
    "    'tot', 'onder', 'al', 'ben', 'tegen', 'sinds', 'zonder', 'te', 'wel', 'omdat',\n",
    "    'zich', 'u', 'uw', 'mijn', 'hun', 'veel', 'meer', 'andere', 'heeft'\n",
    "]"
   ]
  },
  {
   "cell_type": "code",
   "execution_count": 2,
   "metadata": {},
   "outputs": [],
   "source": [
    "# Function from regenerate_visualizations.py\n",
    "def clean_topic_terms(topic_model):\n",
    "    \"\"\"Get more meaningful topic terms by filtering common words.\"\"\"\n",
    "    improved_topics = {}\n",
    "    topic_info = topic_model.get_topic_info()\n",
    "\n",
    "    for topic_id in topic_info['Topic']:\n",
    "        if topic_id == -1: # Skip outlier topic\n",
    "            continue\n",
    "\n",
    "        # Get topic terms\n",
    "        topic_terms = topic_model.get_topic(topic_id)\n",
    "        if not topic_terms: # Handle case where topic might not have terms\n",
    "             improved_topics[topic_id] = []\n",
    "             continue\n",
    "\n",
    "        # Filter the terms\n",
    "        filtered_terms = []\n",
    "        for word, score in topic_terms:\n",
    "            # Create a clean word by replacing underscores with spaces (common in BERTopic)\n",
    "            clean_word = word.replace('_', ' ')\n",
    "\n",
    "            # Filter out single words that are stopwords or very short\n",
    "            if len(clean_word.split()) > 1:\n",
    "                # This is a multi-word phrase, keep it\n",
    "                filtered_terms.append((clean_word, score))\n",
    "            elif clean_word.lower() not in DUTCH_STOP_WORDS and len(clean_word) > 3:\n",
    "                # This is a single word but not a stopword and longer than 3 chars\n",
    "                filtered_terms.append((clean_word, score))\n",
    "\n",
    "        # If we have meaningful terms, use them\n",
    "        if filtered_terms:\n",
    "            improved_topics[topic_id] = filtered_terms[:10]  # Get top 10 terms\n",
    "        else:\n",
    "            # Fallback to the original terms but skip very common words\n",
    "            fallback_terms = []\n",
    "            for word, score in topic_terms:\n",
    "                clean_word = word.replace('_', ' ')\n",
    "                if clean_word.lower() not in DUTCH_STOP_WORDS:\n",
    "                    fallback_terms.append((clean_word, score))\n",
    "            improved_topics[topic_id] = fallback_terms[:10]\n",
    "\n",
    "    return improved_topics"
   ]
  },
  {
   "cell_type": "code",
   "execution_count": 3,
   "metadata": {},
   "outputs": [],
   "source": [
    "# Function from regenerate_visualizations.py\n",
    "def create_custom_barchart(topic_model, improved_topics, output_dir, display_inline=True):\n",
    "    \"\"\"Create a custom barchart with descriptive topic labels and more meaningful terms.\"\"\"\n",
    "    # Get topic info with descriptive labels\n",
    "    topic_info = topic_model.get_topic_info()\n",
    "\n",
    "    # Dictionary to map raw topic names to cleaner names (adjust as needed)\n",
    "    topic_name_mapping = {\n",
    "        \"Product\": \"Productkwaliteit\",\n",
    "        \"Customerservice\": \"Klantenservice\",\n",
    "        \"Aankoop / Levering\": \"Aankoop en Levering\",\n",
    "        \"Merk Perceptie\": \"Merk Perceptie\",\n",
    "        \"4_snelheid_10 van_10 van de_van de beloofde\": \"Snelheid internet\",\n",
    "        \"5_ipv6_niet_instellen_de\": \"IPv6 Issues\",\n",
    "        \"6_tv_de tv_product_bij\": \"TV Box Issues\",\n",
    "        \"7_in_product_goed_dekking\": \"Bereik/Dekking\",\n",
    "        \"8_app_de ben_ben app_de ben app\": \"Ben App\",\n",
    "        \"9_simkaart_nieuwe simkaart_de_nieuwe\": \"Simkaart Issues\",\n",
    "        \"10_prijs_de prijs_prijs de prijs_prijs de\": \"Prijs\",\n",
    "        \"11_wifi_de wifi_de_meer\": \"Wifi Issues\",\n",
    "        \"12_ben_de_klant_is\": \"Klantrelatie\",\n",
    "        \"13_de_van_is_het\": \"Algemeen\"\n",
    "        # Add more mappings if new raw topic names appear\n",
    "    }\n",
    "\n",
    "    # Get top topics excluding outliers\n",
    "    top_topics = topic_info[topic_info['Topic'] != -1].sort_values('Count', ascending=False).head(8)\n",
    "\n",
    "    if top_topics.empty:\n",
    "        logger.warning(\"No topics found (excluding outliers) to generate custom barchart.\")\n",
    "        return None\n",
    "\n",
    "    num_topics = len(top_topics)\n",
    "    cols = min(num_topics, 4)\n",
    "    rows = (num_topics + cols - 1) // cols # Calculate rows needed\n",
    "\n",
    "    # Create subplot grid\n",
    "    subplot_titles = [topic_name_mapping.get(row['Name'], row['Name']) for _, row in top_topics.iterrows()]\n",
    "    fig = make_subplots(\n",
    "        rows=rows,\n",
    "        cols=cols,\n",
    "        subplot_titles=subplot_titles,\n",
    "        vertical_spacing=0.25, # Adjust spacing if needed\n",
    "        horizontal_spacing=0.1\n",
    "    )\n",
    "\n",
    "    # Colors (ensure enough colors for top_n topics)\n",
    "    colors = px.colors.qualitative.Plotly[:num_topics]\n",
    "\n",
    "    # Add the bar charts for each topic\n",
    "    for i, (_, row) in enumerate(top_topics.iterrows()):\n",
    "        topic_id = row['Topic']\n",
    "        topic_count = row['Count']\n",
    "        raw_name = row['Name']\n",
    "        clean_name = topic_name_mapping.get(raw_name, raw_name)\n",
    "\n",
    "        subplot_row = (i // cols) + 1\n",
    "        subplot_col = (i % cols) + 1\n",
    "\n",
    "        # Get improved terms for this topic\n",
    "        if topic_id in improved_topics and improved_topics[topic_id]:\n",
    "            terms = improved_topics[topic_id][:5] # Top 5 improved words\n",
    "        else:\n",
    "             terms = topic_model.get_topic(topic_id)\n",
    "             if terms: # Check if terms exist\n",
    "                 terms = terms[:5]\n",
    "             else: # Handle case with no terms\n",
    "                 terms = []\n",
    "\n",
    "        if not terms:\n",
    "            # Add placeholder text if no terms are available\n",
    "             fig.add_annotation(text=\"No terms found\",\n",
    "                               xref=\"paper\", yref=\"paper\",\n",
    "                               x=0.5, y=0.5,\n",
    "                               showarrow=False,\n",
    "                               row=subplot_row, col=subplot_col)\n",
    "             continue # Skip adding bar trace if no terms\n",
    "\n",
    "        words, weights = zip(*terms)\n",
    "\n",
    "        # Add bar chart to the subplot\n",
    "        fig.add_trace(\n",
    "            go.Bar(\n",
    "                x=weights,\n",
    "                y=words,\n",
    "                orientation='h',\n",
    "                marker=dict(color=colors[i]),\n",
    "                name=clean_name,\n",
    "                showlegend=False\n",
    "            ),\n",
    "            row=subplot_row,\n",
    "            col=subplot_col\n",
    "        )\n",
    "\n",
    "        # Add count annotation below title\n",
    "        # Note: Annotations relative to subplots can be tricky. This adds it near the top of the plot area.\n",
    "        # We might need to adjust positioning based on actual plot rendering.\n",
    "        # fig.layout.annotations[i].update(text=f\"{subplot_titles[i]}<br><i>{topic_count} mentions</i>\")\n",
    "\n",
    "    # Update layout\n",
    "    fig.update_layout(\n",
    "        title_text=\"Top Topics with Meaningful Terms\",\n",
    "        height=300 * rows, # Adjust height based on rows\n",
    "        # width=1200,\n",
    "        margin=dict(t=80, b=40, l=50, r=30),\n",
    "        font=dict(size=10),\n",
    "        showlegend=False\n",
    "    )\n",
    "\n",
    "    # Update axes for all subplots\n",
    "    # Finding a common range can be tricky, let Plotly auto-range for now\n",
    "    # max_weight = max(max(zip(*improved_topics[tid][:5]))[1] for tid in top_topics['Topic'] if tid in improved_topics and improved_topics[tid])\n",
    "    # fig.update_xaxes(title_text=\"Term Weight\", range=[0, max_weight * 1.1])\n",
    "    fig.update_yaxes(autorange=\"reversed\") # Show top terms at the top\n",
    "\n",
    "    # Save the figure\n",
    "    output_path = os.path.join(output_dir, \"meaningful_topic_barchart.html\")\n",
    "    fig.write_html(output_path)\n",
    "    logger.info(f\"Meaningful topic barchart saved to {output_path}\")\n",
    "\n",
    "    if display_inline:\n",
    "        fig.show()\n",
    "\n",
    "    return fig"
   ]
  },
  {
   "cell_type": "code",
   "execution_count": 4,
   "metadata": {},
   "outputs": [],
   "source": [
    "# Function from visualizations.py (modified for inline display)\n",
    "def create_topic_distribution_chart(df, output_file=None, display_inline=True):\n",
    "    \"\"\"Create a chart showing the distribution of topics.\"\"\"\n",
    "    if 'topic_name' not in df.columns:\n",
    "        logger.error(\"Column 'topic_name' not found in DataFrame for topic distribution chart.\")\n",
    "        return None\n",
    "\n",
    "    # Count topics, excluding potential outliers mapped to 'Overig' if desired\n",
    "    # Or use 'schema_main_category' if that's the final topic representation\n",
    "    topic_counts = df['topic_name'].value_counts().reset_index()\n",
    "    topic_counts.columns = ['Topic', 'Count']\n",
    "\n",
    "    if topic_counts.empty:\n",
    "        logger.warning(\"No topic data found to generate distribution chart.\")\n",
    "        return None\n",
    "\n",
    "    # Create chart\n",
    "    fig = px.bar(topic_counts, x='Count', y='Topic', orientation='h',\n",
    "                 title='Topic Distribution',\n",
    "                 labels={'Count': 'Number of Comments', 'Topic': 'Topic'},\n",
    "                 text='Count') # Add count labels to bars\n",
    "\n",
    "    fig.update_layout(yaxis={'categoryorder':'total ascending'}) # Sort topics by count\n",
    "    fig.update_traces(textposition='outside')\n",
    "\n",
    "    # Save to file\n",
    "    if output_file:\n",
    "        fig.write_html(output_file)\n",
    "        logger.info(f\"Topic distribution chart saved to {output_file}\")\n",
    "\n",
    "    if display_inline:\n",
    "        fig.show()\n",
    "\n",
    "    return fig"
   ]
  },
  {
   "cell_type": "code",
   "execution_count": 5,
   "metadata": {},
   "outputs": [],
   "source": [
    "# Function from visualizations.py (modified for inline display)\n",
    "def create_sentiment_pie_chart(df, sentiment_column='bert_sentiment', output_file=None, display_inline=True):\n",
    "    \"\"\"Create a pie chart showing sentiment distribution.\"\"\"\n",
    "    if sentiment_column not in df.columns:\n",
    "        logger.error(f\"Column '{sentiment_column}' not found in DataFrame for sentiment pie chart.\")\n",
    "        return None\n",
    "\n",
    "    # Count sentiments\n",
    "    sentiment_counts = df[sentiment_column].value_counts().reset_index()\n",
    "    sentiment_counts.columns = ['Sentiment', 'Count']\n",
    "\n",
    "    if sentiment_counts.empty:\n",
    "        logger.warning(\"No sentiment data found to generate pie chart.\")\n",
    "        return None\n",
    "\n",
    "    # Create chart\n",
    "    fig = px.pie(sentiment_counts, values='Count', names='Sentiment',\n",
    "                 title=f'Sentiment Distribution ({sentiment_column})',\n",
    "                 color='Sentiment', # Optional: color mapping\n",
    "                 color_discrete_map={'Positive':'green', 'Negative':'red', 'Neutral':'grey'})\n",
    "\n",
    "    fig.update_traces(textposition='inside', textinfo='percent+label+value')\n",
    "\n",
    "    # Save to file\n",
    "    if output_file:\n",
    "        fig.write_html(output_file)\n",
    "        logger.info(f\"Sentiment pie chart saved to {output_file}\")\n",
    "\n",
    "    if display_inline:\n",
    "        fig.show()\n",
    "\n",
    "    return fig"
   ]
  },
  {
   "cell_type": "code",
   "execution_count": 6,
   "metadata": {},
   "outputs": [
    {
     "name": "stderr",
     "output_type": "stream",
     "text": [
      "2025-03-29 00:31:46,432 - New Data Processor Notebook - INFO - Initializing analyzer...\n",
      "2025-03-29 00:31:46,434 - New Data Processor Notebook - INFO - Analyzer initialized.\n"
     ]
    }
   ],
   "source": [
    "# Create output directories\n",
    "os.makedirs(NEW_OUTPUT_DIR, exist_ok=True)\n",
    "os.makedirs(VIS_DIR, exist_ok=True)\n",
    "\n",
    "# Initialize analyzer\n",
    "# Note: We only pass arguments expected by the __init__ method.\n",
    "# model_dir is likely inferred from output_dir or handled internally by load/save methods.\n",
    "# text_column is passed to specific methods later.\n",
    "logger.info(\"Initializing analyzer...\")\n",
    "analyzer = CustomerFeedbackAnalyzer(\n",
    "    openai_api_key=OPENAI_API_KEY, # Will be None if not provided\n",
    "    output_dir=NEW_OUTPUT_DIR    # Output specific to this notebook run\n",
    ")\n",
    "logger.info(\"Analyzer initialized.\")\n",
    "\n",
    "# The TEXT_COLUMN variable defined in the setup cell will be used when calling\n",
    "# methods like analyzer.apply_bert_sentiment(..., text_column=TEXT_COLUMN) later."
   ]
  },
  {
   "cell_type": "code",
   "execution_count": 7,
   "metadata": {},
   "outputs": [
    {
     "name": "stderr",
     "output_type": "stream",
     "text": [
      "2025-03-29 00:31:46,441 - New Data Processor Notebook - INFO - Loading data from Synthetic_Data_and_AI_results-1 (1).xlsx...\n",
      "2025-03-29 00:31:46,523 - New Data Processor Notebook - INFO - Loaded 20 rows from Synthetic_Data_and_AI_results-1 (1).xlsx\n",
      "2025-03-29 00:31:46,523 - New Data Processor Notebook - INFO - Columns: ['Business Unit', 'List Id', 'Campaign Id', 'Campaign Name', 'Campaign Type', 'Mail Id', 'Mail Name', 'Reason', 'Score', 'Comment', 'Event Timestamp']\n"
     ]
    },
    {
     "data": {
      "text/html": [
       "<div>\n",
       "<style scoped>\n",
       "    .dataframe tbody tr th:only-of-type {\n",
       "        vertical-align: middle;\n",
       "    }\n",
       "\n",
       "    .dataframe tbody tr th {\n",
       "        vertical-align: top;\n",
       "    }\n",
       "\n",
       "    .dataframe thead th {\n",
       "        text-align: right;\n",
       "    }\n",
       "</style>\n",
       "<table border=\"1\" class=\"dataframe\">\n",
       "  <thead>\n",
       "    <tr style=\"text-align: right;\">\n",
       "      <th></th>\n",
       "      <th>Business Unit</th>\n",
       "      <th>List Id</th>\n",
       "      <th>Campaign Id</th>\n",
       "      <th>Campaign Name</th>\n",
       "      <th>Campaign Type</th>\n",
       "      <th>Mail Id</th>\n",
       "      <th>Mail Name</th>\n",
       "      <th>Reason</th>\n",
       "      <th>Score</th>\n",
       "      <th>Comment</th>\n",
       "      <th>Event Timestamp</th>\n",
       "    </tr>\n",
       "  </thead>\n",
       "  <tbody>\n",
       "    <tr>\n",
       "      <th>0</th>\n",
       "      <td>B2C - BEN - MOBILE</td>\n",
       "      <td>4058</td>\n",
       "      <td>10933</td>\n",
       "      <td>NaN</td>\n",
       "      <td>Unknown</td>\n",
       "      <td>NaN</td>\n",
       "      <td>NaN</td>\n",
       "      <td>Brand</td>\n",
       "      <td>8</td>\n",
       "      <td>Ben is betaalbaar in deze dure tijd | Vroeger ...</td>\n",
       "      <td>2025-02-19T16:01:29.999Z</td>\n",
       "    </tr>\n",
       "    <tr>\n",
       "      <th>1</th>\n",
       "      <td>B2C - Odido_mobile_fixed</td>\n",
       "      <td>4059</td>\n",
       "      <td>10934</td>\n",
       "      <td>Zomercampagne</td>\n",
       "      <td>Retention</td>\n",
       "      <td>2315.0</td>\n",
       "      <td>Zomer Actie</td>\n",
       "      <td>Service</td>\n",
       "      <td>2</td>\n",
       "      <td>Mijn verbinding werkt dus niet! | Mijn verbind...</td>\n",
       "      <td>2025-02-20T09:14:53.234Z</td>\n",
       "    </tr>\n",
       "    <tr>\n",
       "      <th>2</th>\n",
       "      <td>B2C - BEN - MOBILE</td>\n",
       "      <td>4062</td>\n",
       "      <td>10940</td>\n",
       "      <td>Loyaliteit 2025</td>\n",
       "      <td>Loyalty</td>\n",
       "      <td>2317.0</td>\n",
       "      <td>Klant Beloning</td>\n",
       "      <td>Service</td>\n",
       "      <td>8</td>\n",
       "      <td>Al 3 jaar klant en erg tevreden over de klante...</td>\n",
       "      <td>2025-02-20T13:42:17.567Z</td>\n",
       "    </tr>\n",
       "    <tr>\n",
       "      <th>3</th>\n",
       "      <td>B2C - Odido_mobile_fixed</td>\n",
       "      <td>4065</td>\n",
       "      <td>10945</td>\n",
       "      <td>NaN</td>\n",
       "      <td>Unknown</td>\n",
       "      <td>NaN</td>\n",
       "      <td>NaN</td>\n",
       "      <td>Product</td>\n",
       "      <td>3</td>\n",
       "      <td>De TV box hapert constant, bij elke zender. He...</td>\n",
       "      <td>2025-02-21T08:23:45.123Z</td>\n",
       "    </tr>\n",
       "    <tr>\n",
       "      <th>4</th>\n",
       "      <td>B2C - BEN - MOBILE</td>\n",
       "      <td>4070</td>\n",
       "      <td>10950</td>\n",
       "      <td>Voorjaar 2025</td>\n",
       "      <td>Acquisition</td>\n",
       "      <td>2325.0</td>\n",
       "      <td>Nieuwe Klanten</td>\n",
       "      <td>Price</td>\n",
       "      <td>7</td>\n",
       "      <td>Overgestapt naar Ben vanwege de lage prijzen. ...</td>\n",
       "      <td>2025-02-22T10:15:32.456Z</td>\n",
       "    </tr>\n",
       "  </tbody>\n",
       "</table>\n",
       "</div>"
      ],
      "text/plain": [
       "              Business Unit  List Id  Campaign Id    Campaign Name  \\\n",
       "0        B2C - BEN - MOBILE     4058        10933              NaN   \n",
       "1  B2C - Odido_mobile_fixed     4059        10934    Zomercampagne   \n",
       "2        B2C - BEN - MOBILE     4062        10940  Loyaliteit 2025   \n",
       "3  B2C - Odido_mobile_fixed     4065        10945              NaN   \n",
       "4        B2C - BEN - MOBILE     4070        10950    Voorjaar 2025   \n",
       "\n",
       "  Campaign Type  Mail Id       Mail Name   Reason  Score  \\\n",
       "0       Unknown      NaN             NaN    Brand      8   \n",
       "1     Retention   2315.0     Zomer Actie  Service      2   \n",
       "2       Loyalty   2317.0  Klant Beloning  Service      8   \n",
       "3       Unknown      NaN             NaN  Product      3   \n",
       "4   Acquisition   2325.0  Nieuwe Klanten    Price      7   \n",
       "\n",
       "                                             Comment           Event Timestamp  \n",
       "0  Ben is betaalbaar in deze dure tijd | Vroeger ...  2025-02-19T16:01:29.999Z  \n",
       "1  Mijn verbinding werkt dus niet! | Mijn verbind...  2025-02-20T09:14:53.234Z  \n",
       "2  Al 3 jaar klant en erg tevreden over de klante...  2025-02-20T13:42:17.567Z  \n",
       "3  De TV box hapert constant, bij elke zender. He...  2025-02-21T08:23:45.123Z  \n",
       "4  Overgestapt naar Ben vanwege de lage prijzen. ...  2025-02-22T10:15:32.456Z  "
      ]
     },
     "metadata": {},
     "output_type": "display_data"
    }
   ],
   "source": [
    "logger.info(f\"Loading data from {INPUT_FILE}...\")\n",
    "try:\n",
    "    if str(INPUT_FILE).endswith('.xlsx'):\n",
    "        df = pd.read_excel(INPUT_FILE)\n",
    "    elif str(INPUT_FILE).endswith('.csv'):\n",
    "        # Try detecting separator, fall back to comma\n",
    "        try:\n",
    "            df = pd.read_csv(INPUT_FILE, sep=None, engine='python') # Auto-detect separator\n",
    "        except Exception:\n",
    "             df = pd.read_csv(INPUT_FILE) # Default to comma\n",
    "    else:\n",
    "        raise ValueError(\"Input file must be .xlsx or .csv\")\n",
    "\n",
    "    logger.info(f\"Loaded {len(df)} rows from {INPUT_FILE}\")\n",
    "    logger.info(f\"Columns: {df.columns.tolist()}\")\n",
    "\n",
    "    # Ensure the specified text column exists\n",
    "    if TEXT_COLUMN not in df.columns:\n",
    "        raise ValueError(f\"Specified text column '{TEXT_COLUMN}' not found in the input file. Available columns: {df.columns.tolist()}\")\n",
    "\n",
    "    # Display first few rows\n",
    "    display(df.head())\n",
    "\n",
    "except FileNotFoundError:\n",
    "    logger.error(f\"Error: Input file not found at {INPUT_FILE}\")\n",
    "    # Stop execution or handle error appropriately\n",
    "    raise\n",
    "except Exception as e:\n",
    "    logger.error(f\"Error loading data: {str(e)}\")\n",
    "    raise"
   ]
  },
  {
   "cell_type": "code",
   "execution_count": 8,
   "metadata": {},
   "outputs": [
    {
     "name": "stderr",
     "output_type": "stream",
     "text": [
      "2025-03-29 00:31:46,538 - New Data Processor Notebook - INFO - Preprocessing data...\n",
      "2025-03-29 00:31:46,615 - New Data Processor Notebook - INFO - No API key provided. Using simple preprocessing...\n",
      "2025-03-29 00:31:46,660 - New Data Processor Notebook - INFO - Adding placeholder sentiment columns for compatibility.\n",
      "2025-03-29 00:31:46,663 - New Data Processor Notebook - INFO - Preprocessing complete for 20 rows\n"
     ]
    },
    {
     "data": {
      "text/html": [
       "<div>\n",
       "<style scoped>\n",
       "    .dataframe tbody tr th:only-of-type {\n",
       "        vertical-align: middle;\n",
       "    }\n",
       "\n",
       "    .dataframe tbody tr th {\n",
       "        vertical-align: top;\n",
       "    }\n",
       "\n",
       "    .dataframe thead th {\n",
       "        text-align: right;\n",
       "    }\n",
       "</style>\n",
       "<table border=\"1\" class=\"dataframe\">\n",
       "  <thead>\n",
       "    <tr style=\"text-align: right;\">\n",
       "      <th></th>\n",
       "      <th>Comment</th>\n",
       "      <th>preprocessed_text</th>\n",
       "      <th>sentiment</th>\n",
       "    </tr>\n",
       "  </thead>\n",
       "  <tbody>\n",
       "    <tr>\n",
       "      <th>0</th>\n",
       "      <td>Ben is betaalbaar in deze dure tijd | Vroeger ...</td>\n",
       "      <td>ben is betaalbaar in deze dure tijd  vroeger m...</td>\n",
       "      <td>Neutral</td>\n",
       "    </tr>\n",
       "    <tr>\n",
       "      <th>1</th>\n",
       "      <td>Mijn verbinding werkt dus niet! | Mijn verbind...</td>\n",
       "      <td>mijn verbinding werkt dus niet  mijn verbindin...</td>\n",
       "      <td>Neutral</td>\n",
       "    </tr>\n",
       "    <tr>\n",
       "      <th>2</th>\n",
       "      <td>Al 3 jaar klant en erg tevreden over de klante...</td>\n",
       "      <td>al  jaar klant en erg tevreden over de klanten...</td>\n",
       "      <td>Neutral</td>\n",
       "    </tr>\n",
       "    <tr>\n",
       "      <th>3</th>\n",
       "      <td>De TV box hapert constant, bij elke zender. He...</td>\n",
       "      <td>de tv box hapert constant bij elke zender heb ...</td>\n",
       "      <td>Neutral</td>\n",
       "    </tr>\n",
       "    <tr>\n",
       "      <th>4</th>\n",
       "      <td>Overgestapt naar Ben vanwege de lage prijzen. ...</td>\n",
       "      <td>overgestapt naar ben vanwege de lage prijzen t...</td>\n",
       "      <td>Neutral</td>\n",
       "    </tr>\n",
       "  </tbody>\n",
       "</table>\n",
       "</div>"
      ],
      "text/plain": [
       "                                             Comment  \\\n",
       "0  Ben is betaalbaar in deze dure tijd | Vroeger ...   \n",
       "1  Mijn verbinding werkt dus niet! | Mijn verbind...   \n",
       "2  Al 3 jaar klant en erg tevreden over de klante...   \n",
       "3  De TV box hapert constant, bij elke zender. He...   \n",
       "4  Overgestapt naar Ben vanwege de lage prijzen. ...   \n",
       "\n",
       "                                   preprocessed_text sentiment  \n",
       "0  ben is betaalbaar in deze dure tijd  vroeger m...   Neutral  \n",
       "1  mijn verbinding werkt dus niet  mijn verbindin...   Neutral  \n",
       "2  al  jaar klant en erg tevreden over de klanten...   Neutral  \n",
       "3  de tv box hapert constant bij elke zender heb ...   Neutral  \n",
       "4  overgestapt naar ben vanwege de lage prijzen t...   Neutral  "
      ]
     },
     "metadata": {},
     "output_type": "display_data"
    }
   ],
   "source": [
    "import re # Make sure re is imported if not already done in the first cell\n",
    "import numpy as np # Import numpy for nan\n",
    "\n",
    "logger.info(\"Preprocessing data...\")\n",
    "preprocessed_texts = []\n",
    "\n",
    "# Determine if LLM preprocessing should be used\n",
    "use_llm_preprocessing = bool(analyzer.openai_client)\n",
    "\n",
    "if use_llm_preprocessing:\n",
    "    logger.info(\"Using OpenAI API for enhanced preprocessing...\")\n",
    "    # --- LLM Preprocessing Handling ---\n",
    "    # This section needs careful implementation based on how your LLM preprocessing\n",
    "    # (e.g., analyzer.preprocess_data or llm_preprocessing.py) actually works.\n",
    "    # It should ideally populate columns like 'sentiment', 'sentiment_score', etc.\n",
    "    # For now, falling back to simple preprocessing with placeholders.\n",
    "    logger.warning(\"LLM preprocessing logic in notebook needs review/implementation. Falling back to simple preprocessing.\")\n",
    "    for text in df[TEXT_COLUMN].astype(str):\n",
    "        if pd.isna(text) or not text:\n",
    "            cleaned_text = \"\"\n",
    "        else:\n",
    "            cleaned_text = str(text).lower()\n",
    "            cleaned_text = re.sub(r'[^a-z\\s]', '', cleaned_text) # Keep only lowercase letters and spaces\n",
    "        preprocessed_texts.append(cleaned_text)\n",
    "\n",
    "    processed_df = df.copy()\n",
    "    processed_df['preprocessed_text'] = preprocessed_texts\n",
    "    processed_df['combined_text'] = processed_df['preprocessed_text']\n",
    "    # Add placeholders assuming LLM didn't run or populate these\n",
    "    processed_df['sentiment'] = 'Neutral' # Placeholder\n",
    "    processed_df['sentiment_score'] = 0.0    # Placeholder\n",
    "    processed_df['sentiment_label'] = 1      # Placeholder (Neutral)\n",
    "    # --- End LLM Handling Placeholder ---\n",
    "\n",
    "else:\n",
    "    # Simple preprocessing (lowercase, remove special chars)\n",
    "    logger.info(\"No API key provided. Using simple preprocessing...\")\n",
    "    for text in df[TEXT_COLUMN].astype(str):\n",
    "        if pd.isna(text) or not text:\n",
    "             cleaned_text = \"\"\n",
    "        else:\n",
    "             cleaned_text = str(text).lower()\n",
    "             cleaned_text = re.sub(r'[^a-z\\s]', '', cleaned_text)\n",
    "        preprocessed_texts.append(cleaned_text)\n",
    "\n",
    "    # Create a new DataFrame or add to existing one\n",
    "    processed_df = df.copy()\n",
    "    processed_df['preprocessed_text'] = preprocessed_texts\n",
    "    processed_df['combined_text'] = processed_df['preprocessed_text']\n",
    "\n",
    "    # *** Add placeholder columns required by apply_bert_sentiment ***\n",
    "    logger.info(\"Adding placeholder sentiment columns for compatibility.\")\n",
    "    processed_df['sentiment'] = 'Neutral' # Placeholder value\n",
    "    processed_df['sentiment_score'] = 0.0    # Placeholder value\n",
    "    processed_df['sentiment_label'] = 1      # Placeholder value (assuming 1=Neutral)\n",
    "\n",
    "\n",
    "logger.info(f\"Preprocessing complete for {len(processed_df)} rows\")\n",
    "# Display relevant columns including the new placeholder\n",
    "display(processed_df[[TEXT_COLUMN, 'preprocessed_text', 'sentiment']].head())"
   ]
  },
  {
   "cell_type": "code",
   "execution_count": 9,
   "metadata": {},
   "outputs": [
    {
     "name": "stderr",
     "output_type": "stream",
     "text": [
      "2025-03-29 00:31:46,671 - New Data Processor Notebook - INFO - Loading trained BERT sentiment model...\n"
     ]
    },
    {
     "name": "stdout",
     "output_type": "stream",
     "text": [
      "Loading tokenizer from /Users/DINGZEEFS/Documents/Fine_tuning_odido/output_dir/bert-sentiment-model...\n",
      "Loading model from /Users/DINGZEEFS/Documents/Fine_tuning_odido/output_dir/bert-sentiment-model...\n"
     ]
    },
    {
     "name": "stderr",
     "output_type": "stream",
     "text": [
      "2025-03-29 00:31:46,906 - New Data Processor Notebook - INFO - BertSentimentModel wrapper loaded and assigned to analyzer.\n",
      "2025-03-29 00:31:46,906 - New Data Processor Notebook - INFO - Loading trained topic model...\n",
      "2025-03-29 00:31:49,226 - New Data Processor Notebook - INFO - Topic model loaded successfully and assigned to analyzer.\n"
     ]
    }
   ],
   "source": [
    "# Load sentiment model (uses saved BERT)\n",
    "logger.info(\"Loading trained BERT sentiment model...\")\n",
    "try:\n",
    "    # Load BERT model directly using the BertSentimentModel class\n",
    "    sentiment_model_path = MODEL_DIR / \"bert-sentiment-model\"\n",
    "    bert_model_wrapper = BertSentimentModel.load(str(sentiment_model_path))\n",
    "    # Assign the loaded model wrapper to the analyzer instance\n",
    "    analyzer.bert_sentiment_model = bert_model_wrapper\n",
    "    logger.info(\"BertSentimentModel wrapper loaded and assigned to analyzer.\")\n",
    "\n",
    "except FileNotFoundError:\n",
    "    logger.error(f\"Error: Sentiment model file/directory not found at {sentiment_model_path}\")\n",
    "    logger.error(\"Ensure the model was trained and saved correctly using run_pipeline.py\")\n",
    "    raise\n",
    "except Exception as e:\n",
    "    logger.error(f\"Error loading sentiment model: {e}\")\n",
    "    raise\n",
    "\n",
    "# Load topic model (uses saved BERTopic model)\n",
    "logger.info(\"Loading trained topic model...\")\n",
    "try:\n",
    "    # Load BERTopic model directly\n",
    "    topic_model_path = MODEL_DIR / \"topic_model\"\n",
    "    topic_model = BERTopic.load(str(topic_model_path))\n",
    "    # Assign the loaded model to the analyzer instance (optional, but might be useful)\n",
    "    analyzer.topic_model = topic_model\n",
    "    logger.info(\"Topic model loaded successfully and assigned to analyzer.\")\n",
    "except FileNotFoundError:\n",
    "     logger.error(f\"Error: Topic model file not found at {topic_model_path}\")\n",
    "     logger.error(\"Ensure the model was trained and saved correctly using run_pipeline.py\")\n",
    "     raise\n",
    "except Exception as e:\n",
    "    logger.error(f\"Error loading topic model: {e}\")\n",
    "    raise\n",
    "\n",
    "# Note: We are loading the models directly here, not using methods from the analyzer object.\n",
    "# The loaded models are stored in bert_model_wrapper and topic_model variables\n",
    "# and also assigned to the analyzer instance for potential use by its other methods."
   ]
  },
  {
   "cell_type": "code",
   "execution_count": 10,
   "metadata": {},
   "outputs": [
    {
     "name": "stderr",
     "output_type": "stream",
     "text": [
      "2025-03-29 00:31:49,236 - New Data Processor Notebook - INFO - Applying trained BERT sentiment model...\n",
      "2025-03-29 00:31:49,238 - Customer Feedback Analysis - INFO - Applying BERT sentiment model to reviews...\n",
      "Predicting sentiment: 100%|██████████| 1/1 [00:00<00:00,  1.02it/s]\n",
      "2025-03-29 00:31:50,267 - Customer Feedback Analysis - INFO - BERT sentiment analysis complete\n",
      "2025-03-29 00:31:50,270 - Customer Feedback Analysis - INFO - Agreement between LLM and BERT sentiment: 0.00%\n",
      "2025-03-29 00:31:50,271 - New Data Processor Notebook - INFO - Sentiment analysis complete.\n"
     ]
    },
    {
     "data": {
      "text/html": [
       "<div>\n",
       "<style scoped>\n",
       "    .dataframe tbody tr th:only-of-type {\n",
       "        vertical-align: middle;\n",
       "    }\n",
       "\n",
       "    .dataframe tbody tr th {\n",
       "        vertical-align: top;\n",
       "    }\n",
       "\n",
       "    .dataframe thead th {\n",
       "        text-align: right;\n",
       "    }\n",
       "</style>\n",
       "<table border=\"1\" class=\"dataframe\">\n",
       "  <thead>\n",
       "    <tr style=\"text-align: right;\">\n",
       "      <th></th>\n",
       "      <th>combined_text</th>\n",
       "      <th>bert_sentiment</th>\n",
       "      <th>bert_sentiment_score</th>\n",
       "    </tr>\n",
       "  </thead>\n",
       "  <tbody>\n",
       "    <tr>\n",
       "      <th>0</th>\n",
       "      <td>ben is betaalbaar in deze dure tijd  vroeger m...</td>\n",
       "      <td>positive</td>\n",
       "      <td>0.853181</td>\n",
       "    </tr>\n",
       "    <tr>\n",
       "      <th>1</th>\n",
       "      <td>mijn verbinding werkt dus niet  mijn verbindin...</td>\n",
       "      <td>negative</td>\n",
       "      <td>0.980791</td>\n",
       "    </tr>\n",
       "    <tr>\n",
       "      <th>2</th>\n",
       "      <td>al  jaar klant en erg tevreden over de klanten...</td>\n",
       "      <td>positive</td>\n",
       "      <td>0.983737</td>\n",
       "    </tr>\n",
       "    <tr>\n",
       "      <th>3</th>\n",
       "      <td>de tv box hapert constant bij elke zender heb ...</td>\n",
       "      <td>negative</td>\n",
       "      <td>0.983840</td>\n",
       "    </tr>\n",
       "    <tr>\n",
       "      <th>4</th>\n",
       "      <td>overgestapt naar ben vanwege de lage prijzen t...</td>\n",
       "      <td>positive</td>\n",
       "      <td>0.977336</td>\n",
       "    </tr>\n",
       "  </tbody>\n",
       "</table>\n",
       "</div>"
      ],
      "text/plain": [
       "                                       combined_text bert_sentiment  \\\n",
       "0  ben is betaalbaar in deze dure tijd  vroeger m...       positive   \n",
       "1  mijn verbinding werkt dus niet  mijn verbindin...       negative   \n",
       "2  al  jaar klant en erg tevreden over de klanten...       positive   \n",
       "3  de tv box hapert constant bij elke zender heb ...       negative   \n",
       "4  overgestapt naar ben vanwege de lage prijzen t...       positive   \n",
       "\n",
       "   bert_sentiment_score  \n",
       "0              0.853181  \n",
       "1              0.980791  \n",
       "2              0.983737  \n",
       "3              0.983840  \n",
       "4              0.977336  "
      ]
     },
     "metadata": {},
     "output_type": "display_data"
    },
    {
     "name": "stderr",
     "output_type": "stream",
     "text": [
      "2025-03-29 00:31:50,275 - New Data Processor Notebook - INFO - Computing embeddings for topic modeling...\n",
      "2025-03-29 00:31:50,276 - Customer Feedback Analysis - INFO - Loading precomputed embeddings from /Users/DINGZEEFS/Documents/Fine_tuning_odido/output_dir/new_data_notebook_results/embeddings.npy\n",
      "2025-03-29 00:31:50,279 - New Data Processor Notebook - INFO - Embeddings computed with shape: (20, 768)\n",
      "2025-03-29 00:31:50,280 - New Data Processor Notebook - INFO - Applying topic model...\n",
      "2025-03-29 00:31:50,285 - New Data Processor Notebook - INFO - Topic modeling complete.\n",
      "2025-03-29 00:31:50,286 - New Data Processor Notebook - INFO - Assigned topic probabilities calculated from probability matrix.\n"
     ]
    },
    {
     "data": {
      "text/html": [
       "<div>\n",
       "<style scoped>\n",
       "    .dataframe tbody tr th:only-of-type {\n",
       "        vertical-align: middle;\n",
       "    }\n",
       "\n",
       "    .dataframe tbody tr th {\n",
       "        vertical-align: top;\n",
       "    }\n",
       "\n",
       "    .dataframe thead th {\n",
       "        text-align: right;\n",
       "    }\n",
       "</style>\n",
       "<table border=\"1\" class=\"dataframe\">\n",
       "  <thead>\n",
       "    <tr style=\"text-align: right;\">\n",
       "      <th></th>\n",
       "      <th>combined_text</th>\n",
       "      <th>bert_sentiment</th>\n",
       "      <th>raw_topic_id</th>\n",
       "      <th>topic_probability</th>\n",
       "    </tr>\n",
       "  </thead>\n",
       "  <tbody>\n",
       "    <tr>\n",
       "      <th>0</th>\n",
       "      <td>ben is betaalbaar in deze dure tijd  vroeger m...</td>\n",
       "      <td>positive</td>\n",
       "      <td>10</td>\n",
       "      <td>0.501629</td>\n",
       "    </tr>\n",
       "    <tr>\n",
       "      <th>1</th>\n",
       "      <td>mijn verbinding werkt dus niet  mijn verbindin...</td>\n",
       "      <td>negative</td>\n",
       "      <td>11</td>\n",
       "      <td>0.486776</td>\n",
       "    </tr>\n",
       "    <tr>\n",
       "      <th>2</th>\n",
       "      <td>al  jaar klant en erg tevreden over de klanten...</td>\n",
       "      <td>positive</td>\n",
       "      <td>1</td>\n",
       "      <td>0.629950</td>\n",
       "    </tr>\n",
       "    <tr>\n",
       "      <th>3</th>\n",
       "      <td>de tv box hapert constant bij elke zender heb ...</td>\n",
       "      <td>negative</td>\n",
       "      <td>6</td>\n",
       "      <td>0.508880</td>\n",
       "    </tr>\n",
       "    <tr>\n",
       "      <th>4</th>\n",
       "      <td>overgestapt naar ben vanwege de lage prijzen t...</td>\n",
       "      <td>positive</td>\n",
       "      <td>11</td>\n",
       "      <td>0.395845</td>\n",
       "    </tr>\n",
       "  </tbody>\n",
       "</table>\n",
       "</div>"
      ],
      "text/plain": [
       "                                       combined_text bert_sentiment  \\\n",
       "0  ben is betaalbaar in deze dure tijd  vroeger m...       positive   \n",
       "1  mijn verbinding werkt dus niet  mijn verbindin...       negative   \n",
       "2  al  jaar klant en erg tevreden over de klanten...       positive   \n",
       "3  de tv box hapert constant bij elke zender heb ...       negative   \n",
       "4  overgestapt naar ben vanwege de lage prijzen t...       positive   \n",
       "\n",
       "   raw_topic_id  topic_probability  \n",
       "0            10           0.501629  \n",
       "1            11           0.486776  \n",
       "2             1           0.629950  \n",
       "3             6           0.508880  \n",
       "4            11           0.395845  "
      ]
     },
     "metadata": {},
     "output_type": "display_data"
    }
   ],
   "source": [
    "# Apply sentiment model (uses BERT)\n",
    "# Ensure the correct text column is passed\n",
    "logger.info(\"Applying trained BERT sentiment model...\")\n",
    "df_with_sentiment = analyzer.apply_bert_sentiment(processed_df, text_column='combined_text')\n",
    "logger.info(\"Sentiment analysis complete.\")\n",
    "display(df_with_sentiment[['combined_text', 'bert_sentiment', 'bert_sentiment_score']].head())\n",
    "\n",
    "# --- Apply Topic Model --- #\n",
    "\n",
    "# Step 1: Compute embeddings (if not already done by analyzer)\n",
    "# Check if embeddings are needed explicitly for transform\n",
    "logger.info(\"Computing embeddings for topic modeling...\")\n",
    "embeddings = analyzer.compute_embeddings(df_with_sentiment, text_column='combined_text')\n",
    "logger.info(f\"Embeddings computed with shape: {embeddings.shape}\")\n",
    "\n",
    "# Step 2: Apply topic model using transform()\n",
    "logger.info(\"Applying topic model...\")\n",
    "# Make sure BERTopic was initialized with calculate_probabilities=True if you want probabilities\n",
    "topics, probs = topic_model.transform(\n",
    "    df_with_sentiment['combined_text'].tolist(),\n",
    "    embeddings=embeddings # Pass pre-computed embeddings\n",
    ")\n",
    "logger.info(\"Topic modeling complete.\")\n",
    "\n",
    "# --- Correctly handle probabilities ---\n",
    "# Add raw topic IDs to the DataFrame\n",
    "df_with_sentiment['raw_topic_id'] = topics\n",
    "\n",
    "# Calculate the probability of the assigned topic (maximum probability for that doc)\n",
    "if probs is not None:\n",
    "    # Ensure probs is a NumPy array for calculations\n",
    "    probs = np.array(probs)\n",
    "    if probs.ndim == 2:\n",
    "        # Get the probability of the MOST likely topic for each doc\n",
    "        assigned_topic_probabilities = np.max(probs, axis=1)\n",
    "        df_with_sentiment['topic_probability'] = assigned_topic_probabilities\n",
    "        logger.info(\"Assigned topic probabilities calculated from probability matrix.\")\n",
    "    else:\n",
    "        # Handle unexpected shape for probs\n",
    "        logger.warning(f\"Expected a 2D array for topic probabilities, but got shape {probs.shape}. Setting probabilities to 0.\")\n",
    "        df_with_sentiment['topic_probability'] = 0.0\n",
    "else:\n",
    "    # Handle case where probabilities were not calculated (e.g., calculate_probabilities=False)\n",
    "    logger.warning(\"Topic probabilities were not calculated by BERTopic. Setting probabilities to 0.\")\n",
    "    df_with_sentiment['topic_probability'] = 0.0\n",
    "# --- End probability handling ---\n",
    "\n",
    "display(df_with_sentiment[['combined_text', 'bert_sentiment', 'raw_topic_id', 'topic_probability']].head())\n"
   ]
  },
  {
   "cell_type": "code",
   "execution_count": 11,
   "metadata": {},
   "outputs": [
    {
     "name": "stderr",
     "output_type": "stream",
     "text": [
      "2025-03-29 00:31:50,299 - New Data Processor Notebook - INFO - Generating final analysis results (combining sentiment, topics, schema mapping, etc.)...\n",
      "2025-03-29 00:31:50,301 - Customer Feedback Analysis - INFO - Generating final analysis results...\n",
      "2025-03-29 00:31:50,330 - Customer Feedback Analysis - INFO - Analysis results saved to /Users/DINGZEEFS/Documents/Fine_tuning_odido/output_dir/new_data_notebook_results/analysis_results.csv\n",
      "2025-03-29 00:31:50,332 - Customer Feedback Analysis - INFO - Sentiment agreement between LLM and BERT: 0.00%\n",
      "2025-03-29 00:31:50,332 - New Data Processor Notebook - INFO - Main analysis results DataFrame generated.\n"
     ]
    },
    {
     "data": {
      "text/html": [
       "<div>\n",
       "<style scoped>\n",
       "    .dataframe tbody tr th:only-of-type {\n",
       "        vertical-align: middle;\n",
       "    }\n",
       "\n",
       "    .dataframe tbody tr th {\n",
       "        vertical-align: top;\n",
       "    }\n",
       "\n",
       "    .dataframe thead th {\n",
       "        text-align: right;\n",
       "    }\n",
       "</style>\n",
       "<table border=\"1\" class=\"dataframe\">\n",
       "  <thead>\n",
       "    <tr style=\"text-align: right;\">\n",
       "      <th></th>\n",
       "      <th>original_index</th>\n",
       "      <th>text</th>\n",
       "      <th>intent</th>\n",
       "      <th>combined_text</th>\n",
       "      <th>representative_text</th>\n",
       "      <th>opinion_phrases</th>\n",
       "      <th>original_topic_id</th>\n",
       "      <th>original_topic_name</th>\n",
       "      <th>original_topic_keywords</th>\n",
       "      <th>schema_main_category</th>\n",
       "      <th>schema_sub_topic</th>\n",
       "      <th>topic_id</th>\n",
       "      <th>topic_name</th>\n",
       "      <th>topic_keywords</th>\n",
       "      <th>topic_probability</th>\n",
       "      <th>llm_sentiment</th>\n",
       "      <th>llm_sentiment_score</th>\n",
       "      <th>bert_sentiment</th>\n",
       "      <th>bert_sentiment_score</th>\n",
       "      <th>named_entities</th>\n",
       "    </tr>\n",
       "  </thead>\n",
       "  <tbody>\n",
       "    <tr>\n",
       "      <th>0</th>\n",
       "      <td>0</td>\n",
       "      <td></td>\n",
       "      <td></td>\n",
       "      <td>ben is betaalbaar in deze dure tijd  vroeger m...</td>\n",
       "      <td>ben is betaalbaar in deze dure tijd  vroeger m...</td>\n",
       "      <td>Betalen daarom ben ik tevreden bij ben maar ik.</td>\n",
       "      <td>10</td>\n",
       "      <td>Onderwerp: Prijsstelling</td>\n",
       "      <td>prijs, data, product</td>\n",
       "      <td>Prijs &amp; Kosten</td>\n",
       "      <td>Prijs-kwaliteitverhouding</td>\n",
       "      <td>10</td>\n",
       "      <td>Prijs &amp; Kosten</td>\n",
       "      <td>Prijs-kwaliteitverhouding</td>\n",
       "      <td>0.501629</td>\n",
       "      <td>Neutral</td>\n",
       "      <td>0.0</td>\n",
       "      <td>positive</td>\n",
       "      <td>0.853181</td>\n",
       "      <td>[]</td>\n",
       "    </tr>\n",
       "    <tr>\n",
       "      <th>1</th>\n",
       "      <td>1</td>\n",
       "      <td></td>\n",
       "      <td></td>\n",
       "      <td>mijn verbinding werkt dus niet  mijn verbindin...</td>\n",
       "      <td>mijn verbinding werkt dus niet  mijn verbindin...</td>\n",
       "      <td>Mijn verbinding werkt dus niet mijn verbinding...</td>\n",
       "      <td>11</td>\n",
       "      <td>Wifi-problemen bij meerdere apparaten</td>\n",
       "      <td>wifi, meer, router, valt, product, verbinding,...</td>\n",
       "      <td>Productkwaliteit &amp; Ervaring</td>\n",
       "      <td>Prestaties &amp; Functionaliteit</td>\n",
       "      <td>11</td>\n",
       "      <td>Productkwaliteit &amp; Ervaring</td>\n",
       "      <td>Prestaties &amp; Functionaliteit</td>\n",
       "      <td>0.486776</td>\n",
       "      <td>Neutral</td>\n",
       "      <td>0.0</td>\n",
       "      <td>negative</td>\n",
       "      <td>0.980791</td>\n",
       "      <td>[]</td>\n",
       "    </tr>\n",
       "    <tr>\n",
       "      <th>2</th>\n",
       "      <td>2</td>\n",
       "      <td></td>\n",
       "      <td></td>\n",
       "      <td>al  jaar klant en erg tevreden over de klanten...</td>\n",
       "      <td>al  jaar klant en erg tevreden over de klanten...</td>\n",
       "      <td>Al jaar klant en erg tevreden over de klantens...</td>\n",
       "      <td>1</td>\n",
       "      <td>Klantenservice bereikbaarheidsproblemen</td>\n",
       "      <td>klantenservice, geen, klantenservice de klant</td>\n",
       "      <td>Customer Service</td>\n",
       "      <td>Responsiviteit</td>\n",
       "      <td>1</td>\n",
       "      <td>Customer Service</td>\n",
       "      <td>Responsiviteit</td>\n",
       "      <td>0.629950</td>\n",
       "      <td>Neutral</td>\n",
       "      <td>0.0</td>\n",
       "      <td>positive</td>\n",
       "      <td>0.983737</td>\n",
       "      <td>[]</td>\n",
       "    </tr>\n",
       "    <tr>\n",
       "      <th>3</th>\n",
       "      <td>3</td>\n",
       "      <td></td>\n",
       "      <td></td>\n",
       "      <td>de tv box hapert constant bij elke zender heb ...</td>\n",
       "      <td>de tv box hapert constant bij elke zender heb ...</td>\n",
       "      <td>Gebeld maar nog steeds niet opgelost nu weer m...</td>\n",
       "      <td>6</td>\n",
       "      <td>Technische problemen met de TV box</td>\n",
       "      <td>tv, product, bij, signaal, elke</td>\n",
       "      <td>Productkwaliteit &amp; Ervaring</td>\n",
       "      <td>Gebruiksgemak</td>\n",
       "      <td>6</td>\n",
       "      <td>Productkwaliteit &amp; Ervaring</td>\n",
       "      <td>Gebruiksgemak</td>\n",
       "      <td>0.508880</td>\n",
       "      <td>Neutral</td>\n",
       "      <td>0.0</td>\n",
       "      <td>negative</td>\n",
       "      <td>0.983840</td>\n",
       "      <td>[]</td>\n",
       "    </tr>\n",
       "    <tr>\n",
       "      <th>4</th>\n",
       "      <td>4</td>\n",
       "      <td></td>\n",
       "      <td></td>\n",
       "      <td>overgestapt naar ben vanwege de lage prijzen t...</td>\n",
       "      <td>overgestapt naar ben vanwege de lage prijzen t...</td>\n",
       "      <td>Overgestapt naar ben vanwege de.; Tot nu toe z...</td>\n",
       "      <td>11</td>\n",
       "      <td>Wifi-problemen bij meerdere apparaten</td>\n",
       "      <td>wifi, meer, router, valt, product, verbinding,...</td>\n",
       "      <td>Productkwaliteit &amp; Ervaring</td>\n",
       "      <td>Prestaties &amp; Functionaliteit</td>\n",
       "      <td>11</td>\n",
       "      <td>Productkwaliteit &amp; Ervaring</td>\n",
       "      <td>Prestaties &amp; Functionaliteit</td>\n",
       "      <td>0.395845</td>\n",
       "      <td>Neutral</td>\n",
       "      <td>0.0</td>\n",
       "      <td>positive</td>\n",
       "      <td>0.977336</td>\n",
       "      <td>[]</td>\n",
       "    </tr>\n",
       "  </tbody>\n",
       "</table>\n",
       "</div>"
      ],
      "text/plain": [
       "   original_index text intent  \\\n",
       "0               0               \n",
       "1               1               \n",
       "2               2               \n",
       "3               3               \n",
       "4               4               \n",
       "\n",
       "                                       combined_text  \\\n",
       "0  ben is betaalbaar in deze dure tijd  vroeger m...   \n",
       "1  mijn verbinding werkt dus niet  mijn verbindin...   \n",
       "2  al  jaar klant en erg tevreden over de klanten...   \n",
       "3  de tv box hapert constant bij elke zender heb ...   \n",
       "4  overgestapt naar ben vanwege de lage prijzen t...   \n",
       "\n",
       "                                 representative_text  \\\n",
       "0  ben is betaalbaar in deze dure tijd  vroeger m...   \n",
       "1  mijn verbinding werkt dus niet  mijn verbindin...   \n",
       "2  al  jaar klant en erg tevreden over de klanten...   \n",
       "3  de tv box hapert constant bij elke zender heb ...   \n",
       "4  overgestapt naar ben vanwege de lage prijzen t...   \n",
       "\n",
       "                                     opinion_phrases  original_topic_id  \\\n",
       "0    Betalen daarom ben ik tevreden bij ben maar ik.                 10   \n",
       "1  Mijn verbinding werkt dus niet mijn verbinding...                 11   \n",
       "2  Al jaar klant en erg tevreden over de klantens...                  1   \n",
       "3  Gebeld maar nog steeds niet opgelost nu weer m...                  6   \n",
       "4  Overgestapt naar ben vanwege de.; Tot nu toe z...                 11   \n",
       "\n",
       "                       original_topic_name  \\\n",
       "0                 Onderwerp: Prijsstelling   \n",
       "1    Wifi-problemen bij meerdere apparaten   \n",
       "2  Klantenservice bereikbaarheidsproblemen   \n",
       "3       Technische problemen met de TV box   \n",
       "4    Wifi-problemen bij meerdere apparaten   \n",
       "\n",
       "                             original_topic_keywords  \\\n",
       "0                               prijs, data, product   \n",
       "1  wifi, meer, router, valt, product, verbinding,...   \n",
       "2      klantenservice, geen, klantenservice de klant   \n",
       "3                    tv, product, bij, signaal, elke   \n",
       "4  wifi, meer, router, valt, product, verbinding,...   \n",
       "\n",
       "          schema_main_category              schema_sub_topic  topic_id  \\\n",
       "0               Prijs & Kosten     Prijs-kwaliteitverhouding        10   \n",
       "1  Productkwaliteit & Ervaring  Prestaties & Functionaliteit        11   \n",
       "2             Customer Service                Responsiviteit         1   \n",
       "3  Productkwaliteit & Ervaring                 Gebruiksgemak         6   \n",
       "4  Productkwaliteit & Ervaring  Prestaties & Functionaliteit        11   \n",
       "\n",
       "                    topic_name                topic_keywords  \\\n",
       "0               Prijs & Kosten     Prijs-kwaliteitverhouding   \n",
       "1  Productkwaliteit & Ervaring  Prestaties & Functionaliteit   \n",
       "2             Customer Service                Responsiviteit   \n",
       "3  Productkwaliteit & Ervaring                 Gebruiksgemak   \n",
       "4  Productkwaliteit & Ervaring  Prestaties & Functionaliteit   \n",
       "\n",
       "   topic_probability llm_sentiment  llm_sentiment_score bert_sentiment  \\\n",
       "0           0.501629       Neutral                  0.0       positive   \n",
       "1           0.486776       Neutral                  0.0       negative   \n",
       "2           0.629950       Neutral                  0.0       positive   \n",
       "3           0.508880       Neutral                  0.0       negative   \n",
       "4           0.395845       Neutral                  0.0       positive   \n",
       "\n",
       "   bert_sentiment_score named_entities  \n",
       "0              0.853181             []  \n",
       "1              0.980791             []  \n",
       "2              0.983737             []  \n",
       "3              0.983840             []  \n",
       "4              0.977336             []  "
      ]
     },
     "metadata": {},
     "output_type": "display_data"
    },
    {
     "name": "stderr",
     "output_type": "stream",
     "text": [
      "2025-03-29 00:31:50,345 - New Data Processor Notebook - INFO - Calculating sentiment distribution by schema category...\n",
      "2025-03-29 00:31:50,351 - New Data Processor Notebook - INFO - Sentiment Distribution by Schema Category calculated:\n"
     ]
    },
    {
     "data": {
      "text/html": [
       "<div>\n",
       "<style scoped>\n",
       "    .dataframe tbody tr th:only-of-type {\n",
       "        vertical-align: middle;\n",
       "    }\n",
       "\n",
       "    .dataframe tbody tr th {\n",
       "        vertical-align: top;\n",
       "    }\n",
       "\n",
       "    .dataframe thead th {\n",
       "        text-align: right;\n",
       "    }\n",
       "</style>\n",
       "<table border=\"1\" class=\"dataframe\">\n",
       "  <thead>\n",
       "    <tr style=\"text-align: right;\">\n",
       "      <th>bert_sentiment</th>\n",
       "      <th>negative</th>\n",
       "      <th>positive</th>\n",
       "    </tr>\n",
       "    <tr>\n",
       "      <th>schema_main_category</th>\n",
       "      <th></th>\n",
       "      <th></th>\n",
       "    </tr>\n",
       "  </thead>\n",
       "  <tbody>\n",
       "    <tr>\n",
       "      <th>Customer Service</th>\n",
       "      <td>1</td>\n",
       "      <td>5</td>\n",
       "    </tr>\n",
       "    <tr>\n",
       "      <th>Overig</th>\n",
       "      <td>0</td>\n",
       "      <td>1</td>\n",
       "    </tr>\n",
       "    <tr>\n",
       "      <th>Prijs &amp; Kosten</th>\n",
       "      <td>3</td>\n",
       "      <td>2</td>\n",
       "    </tr>\n",
       "    <tr>\n",
       "      <th>Productkwaliteit &amp; Ervaring</th>\n",
       "      <td>5</td>\n",
       "      <td>3</td>\n",
       "    </tr>\n",
       "  </tbody>\n",
       "</table>\n",
       "</div>"
      ],
      "text/plain": [
       "bert_sentiment               negative  positive\n",
       "schema_main_category                           \n",
       "Customer Service                    1         5\n",
       "Overig                              0         1\n",
       "Prijs & Kosten                      3         2\n",
       "Productkwaliteit & Ervaring         5         3"
      ]
     },
     "metadata": {},
     "output_type": "display_data"
    },
    {
     "name": "stderr",
     "output_type": "stream",
     "text": [
      "2025-03-29 00:31:50,361 - New Data Processor Notebook - INFO - Results saved to /Users/DINGZEEFS/Documents/Fine_tuning_odido/output_dir/new_data_notebook_results/new_data_analysis_notebook.csv\n"
     ]
    }
   ],
   "source": [
    "logger.info(\"Generating final analysis results (combining sentiment, topics, schema mapping, etc.)...\")\n",
    "# Call the method, expecting only the main results DataFrame in return\n",
    "try:\n",
    "    results_df = analyzer.generate_analysis_results(df_with_sentiment, topics, probs, topic_model)\n",
    "    logger.info(\"Main analysis results DataFrame generated.\")\n",
    "    display(results_df.head())\n",
    "except Exception as e:\n",
    "    logger.error(f\"Error during generate_analysis_results: {e}\")\n",
    "    # Potentially display df_with_sentiment to see what was passed in\n",
    "    logger.info(\"DataFrame passed to generate_analysis_results:\")\n",
    "    display(df_with_sentiment.head())\n",
    "    raise # Re-raise the exception\n",
    "\n",
    "# --- Calculate sentiment_by_topic separately ---\n",
    "logger.info(\"Calculating sentiment distribution by schema category...\")\n",
    "try:\n",
    "    # Ensure the necessary columns exist in the returned DataFrame\n",
    "    if 'schema_main_category' in results_df.columns and 'bert_sentiment' in results_df.columns:\n",
    "        sentiment_by_topic = results_df.groupby('schema_main_category')['bert_sentiment'].value_counts().unstack(fill_value=0)\n",
    "        logger.info(\"Sentiment Distribution by Schema Category calculated:\")\n",
    "        display(sentiment_by_topic)\n",
    "    else:\n",
    "        logger.warning(\"Could not calculate sentiment by topic: Required columns ('schema_main_category' or 'bert_sentiment') not found in results_df.\")\n",
    "        sentiment_by_topic = None # Set to None if calculation fails\n",
    "except Exception as e:\n",
    "     logger.error(f\"Error calculating sentiment by topic: {e}\")\n",
    "     sentiment_by_topic = None\n",
    "# --- End separate calculation ---\n",
    "\n",
    "\n",
    "# Save results\n",
    "output_csv_path = NEW_OUTPUT_DIR / \"new_data_analysis_notebook.csv\"\n",
    "results_df.to_csv(output_csv_path, index=False)\n",
    "logger.info(f\"Results saved to {output_csv_path}\")\n"
   ]
  },
  {
   "cell_type": "code",
   "execution_count": 12,
   "metadata": {},
   "outputs": [
    {
     "name": "stderr",
     "output_type": "stream",
     "text": [
      "2025-03-29 00:31:50,372 - New Data Processor Notebook - INFO - Generating visualizations...\n",
      "2025-03-29 00:31:50,374 - New Data Processor Notebook - INFO - Creating Topic Distribution Chart...\n",
      "2025-03-29 00:31:50,907 - New Data Processor Notebook - INFO - Topic distribution chart saved to /Users/DINGZEEFS/Documents/Fine_tuning_odido/output_dir/new_data_notebook_results/visualizations/new_data_topic_distribution.html\n"
     ]
    },
    {
     "data": {
      "application/vnd.plotly.v1+json": {
       "config": {
        "plotlyServerURL": "https://plot.ly"
       },
       "data": [
        {
         "hovertemplate": "Number of Comments=%{text}<br>Topic=%{y}<extra></extra>",
         "legendgroup": "",
         "marker": {
          "color": "#636efa",
          "pattern": {
           "shape": ""
          }
         },
         "name": "",
         "orientation": "h",
         "showlegend": false,
         "text": {
          "bdata": "AAAAAAAAIEAAAAAAAAAYQAAAAAAAABRAAAAAAAAA8D8=",
          "dtype": "f8"
         },
         "textposition": "outside",
         "type": "bar",
         "x": {
          "bdata": "CAYFAQ==",
          "dtype": "i1"
         },
         "xaxis": "x",
         "y": [
          "Productkwaliteit & Ervaring",
          "Customer Service",
          "Prijs & Kosten",
          "Overig"
         ],
         "yaxis": "y"
        }
       ],
       "layout": {
        "barmode": "relative",
        "legend": {
         "tracegroupgap": 0
        },
        "template": {
         "data": {
          "bar": [
           {
            "error_x": {
             "color": "#2a3f5f"
            },
            "error_y": {
             "color": "#2a3f5f"
            },
            "marker": {
             "line": {
              "color": "#E5ECF6",
              "width": 0.5
             },
             "pattern": {
              "fillmode": "overlay",
              "size": 10,
              "solidity": 0.2
             }
            },
            "type": "bar"
           }
          ],
          "barpolar": [
           {
            "marker": {
             "line": {
              "color": "#E5ECF6",
              "width": 0.5
             },
             "pattern": {
              "fillmode": "overlay",
              "size": 10,
              "solidity": 0.2
             }
            },
            "type": "barpolar"
           }
          ],
          "carpet": [
           {
            "aaxis": {
             "endlinecolor": "#2a3f5f",
             "gridcolor": "white",
             "linecolor": "white",
             "minorgridcolor": "white",
             "startlinecolor": "#2a3f5f"
            },
            "baxis": {
             "endlinecolor": "#2a3f5f",
             "gridcolor": "white",
             "linecolor": "white",
             "minorgridcolor": "white",
             "startlinecolor": "#2a3f5f"
            },
            "type": "carpet"
           }
          ],
          "choropleth": [
           {
            "colorbar": {
             "outlinewidth": 0,
             "ticks": ""
            },
            "type": "choropleth"
           }
          ],
          "contour": [
           {
            "colorbar": {
             "outlinewidth": 0,
             "ticks": ""
            },
            "colorscale": [
             [
              0,
              "#0d0887"
             ],
             [
              0.1111111111111111,
              "#46039f"
             ],
             [
              0.2222222222222222,
              "#7201a8"
             ],
             [
              0.3333333333333333,
              "#9c179e"
             ],
             [
              0.4444444444444444,
              "#bd3786"
             ],
             [
              0.5555555555555556,
              "#d8576b"
             ],
             [
              0.6666666666666666,
              "#ed7953"
             ],
             [
              0.7777777777777778,
              "#fb9f3a"
             ],
             [
              0.8888888888888888,
              "#fdca26"
             ],
             [
              1,
              "#f0f921"
             ]
            ],
            "type": "contour"
           }
          ],
          "contourcarpet": [
           {
            "colorbar": {
             "outlinewidth": 0,
             "ticks": ""
            },
            "type": "contourcarpet"
           }
          ],
          "heatmap": [
           {
            "colorbar": {
             "outlinewidth": 0,
             "ticks": ""
            },
            "colorscale": [
             [
              0,
              "#0d0887"
             ],
             [
              0.1111111111111111,
              "#46039f"
             ],
             [
              0.2222222222222222,
              "#7201a8"
             ],
             [
              0.3333333333333333,
              "#9c179e"
             ],
             [
              0.4444444444444444,
              "#bd3786"
             ],
             [
              0.5555555555555556,
              "#d8576b"
             ],
             [
              0.6666666666666666,
              "#ed7953"
             ],
             [
              0.7777777777777778,
              "#fb9f3a"
             ],
             [
              0.8888888888888888,
              "#fdca26"
             ],
             [
              1,
              "#f0f921"
             ]
            ],
            "type": "heatmap"
           }
          ],
          "histogram": [
           {
            "marker": {
             "pattern": {
              "fillmode": "overlay",
              "size": 10,
              "solidity": 0.2
             }
            },
            "type": "histogram"
           }
          ],
          "histogram2d": [
           {
            "colorbar": {
             "outlinewidth": 0,
             "ticks": ""
            },
            "colorscale": [
             [
              0,
              "#0d0887"
             ],
             [
              0.1111111111111111,
              "#46039f"
             ],
             [
              0.2222222222222222,
              "#7201a8"
             ],
             [
              0.3333333333333333,
              "#9c179e"
             ],
             [
              0.4444444444444444,
              "#bd3786"
             ],
             [
              0.5555555555555556,
              "#d8576b"
             ],
             [
              0.6666666666666666,
              "#ed7953"
             ],
             [
              0.7777777777777778,
              "#fb9f3a"
             ],
             [
              0.8888888888888888,
              "#fdca26"
             ],
             [
              1,
              "#f0f921"
             ]
            ],
            "type": "histogram2d"
           }
          ],
          "histogram2dcontour": [
           {
            "colorbar": {
             "outlinewidth": 0,
             "ticks": ""
            },
            "colorscale": [
             [
              0,
              "#0d0887"
             ],
             [
              0.1111111111111111,
              "#46039f"
             ],
             [
              0.2222222222222222,
              "#7201a8"
             ],
             [
              0.3333333333333333,
              "#9c179e"
             ],
             [
              0.4444444444444444,
              "#bd3786"
             ],
             [
              0.5555555555555556,
              "#d8576b"
             ],
             [
              0.6666666666666666,
              "#ed7953"
             ],
             [
              0.7777777777777778,
              "#fb9f3a"
             ],
             [
              0.8888888888888888,
              "#fdca26"
             ],
             [
              1,
              "#f0f921"
             ]
            ],
            "type": "histogram2dcontour"
           }
          ],
          "mesh3d": [
           {
            "colorbar": {
             "outlinewidth": 0,
             "ticks": ""
            },
            "type": "mesh3d"
           }
          ],
          "parcoords": [
           {
            "line": {
             "colorbar": {
              "outlinewidth": 0,
              "ticks": ""
             }
            },
            "type": "parcoords"
           }
          ],
          "pie": [
           {
            "automargin": true,
            "type": "pie"
           }
          ],
          "scatter": [
           {
            "fillpattern": {
             "fillmode": "overlay",
             "size": 10,
             "solidity": 0.2
            },
            "type": "scatter"
           }
          ],
          "scatter3d": [
           {
            "line": {
             "colorbar": {
              "outlinewidth": 0,
              "ticks": ""
             }
            },
            "marker": {
             "colorbar": {
              "outlinewidth": 0,
              "ticks": ""
             }
            },
            "type": "scatter3d"
           }
          ],
          "scattercarpet": [
           {
            "marker": {
             "colorbar": {
              "outlinewidth": 0,
              "ticks": ""
             }
            },
            "type": "scattercarpet"
           }
          ],
          "scattergeo": [
           {
            "marker": {
             "colorbar": {
              "outlinewidth": 0,
              "ticks": ""
             }
            },
            "type": "scattergeo"
           }
          ],
          "scattergl": [
           {
            "marker": {
             "colorbar": {
              "outlinewidth": 0,
              "ticks": ""
             }
            },
            "type": "scattergl"
           }
          ],
          "scattermap": [
           {
            "marker": {
             "colorbar": {
              "outlinewidth": 0,
              "ticks": ""
             }
            },
            "type": "scattermap"
           }
          ],
          "scattermapbox": [
           {
            "marker": {
             "colorbar": {
              "outlinewidth": 0,
              "ticks": ""
             }
            },
            "type": "scattermapbox"
           }
          ],
          "scatterpolar": [
           {
            "marker": {
             "colorbar": {
              "outlinewidth": 0,
              "ticks": ""
             }
            },
            "type": "scatterpolar"
           }
          ],
          "scatterpolargl": [
           {
            "marker": {
             "colorbar": {
              "outlinewidth": 0,
              "ticks": ""
             }
            },
            "type": "scatterpolargl"
           }
          ],
          "scatterternary": [
           {
            "marker": {
             "colorbar": {
              "outlinewidth": 0,
              "ticks": ""
             }
            },
            "type": "scatterternary"
           }
          ],
          "surface": [
           {
            "colorbar": {
             "outlinewidth": 0,
             "ticks": ""
            },
            "colorscale": [
             [
              0,
              "#0d0887"
             ],
             [
              0.1111111111111111,
              "#46039f"
             ],
             [
              0.2222222222222222,
              "#7201a8"
             ],
             [
              0.3333333333333333,
              "#9c179e"
             ],
             [
              0.4444444444444444,
              "#bd3786"
             ],
             [
              0.5555555555555556,
              "#d8576b"
             ],
             [
              0.6666666666666666,
              "#ed7953"
             ],
             [
              0.7777777777777778,
              "#fb9f3a"
             ],
             [
              0.8888888888888888,
              "#fdca26"
             ],
             [
              1,
              "#f0f921"
             ]
            ],
            "type": "surface"
           }
          ],
          "table": [
           {
            "cells": {
             "fill": {
              "color": "#EBF0F8"
             },
             "line": {
              "color": "white"
             }
            },
            "header": {
             "fill": {
              "color": "#C8D4E3"
             },
             "line": {
              "color": "white"
             }
            },
            "type": "table"
           }
          ]
         },
         "layout": {
          "annotationdefaults": {
           "arrowcolor": "#2a3f5f",
           "arrowhead": 0,
           "arrowwidth": 1
          },
          "autotypenumbers": "strict",
          "coloraxis": {
           "colorbar": {
            "outlinewidth": 0,
            "ticks": ""
           }
          },
          "colorscale": {
           "diverging": [
            [
             0,
             "#8e0152"
            ],
            [
             0.1,
             "#c51b7d"
            ],
            [
             0.2,
             "#de77ae"
            ],
            [
             0.3,
             "#f1b6da"
            ],
            [
             0.4,
             "#fde0ef"
            ],
            [
             0.5,
             "#f7f7f7"
            ],
            [
             0.6,
             "#e6f5d0"
            ],
            [
             0.7,
             "#b8e186"
            ],
            [
             0.8,
             "#7fbc41"
            ],
            [
             0.9,
             "#4d9221"
            ],
            [
             1,
             "#276419"
            ]
           ],
           "sequential": [
            [
             0,
             "#0d0887"
            ],
            [
             0.1111111111111111,
             "#46039f"
            ],
            [
             0.2222222222222222,
             "#7201a8"
            ],
            [
             0.3333333333333333,
             "#9c179e"
            ],
            [
             0.4444444444444444,
             "#bd3786"
            ],
            [
             0.5555555555555556,
             "#d8576b"
            ],
            [
             0.6666666666666666,
             "#ed7953"
            ],
            [
             0.7777777777777778,
             "#fb9f3a"
            ],
            [
             0.8888888888888888,
             "#fdca26"
            ],
            [
             1,
             "#f0f921"
            ]
           ],
           "sequentialminus": [
            [
             0,
             "#0d0887"
            ],
            [
             0.1111111111111111,
             "#46039f"
            ],
            [
             0.2222222222222222,
             "#7201a8"
            ],
            [
             0.3333333333333333,
             "#9c179e"
            ],
            [
             0.4444444444444444,
             "#bd3786"
            ],
            [
             0.5555555555555556,
             "#d8576b"
            ],
            [
             0.6666666666666666,
             "#ed7953"
            ],
            [
             0.7777777777777778,
             "#fb9f3a"
            ],
            [
             0.8888888888888888,
             "#fdca26"
            ],
            [
             1,
             "#f0f921"
            ]
           ]
          },
          "colorway": [
           "#636efa",
           "#EF553B",
           "#00cc96",
           "#ab63fa",
           "#FFA15A",
           "#19d3f3",
           "#FF6692",
           "#B6E880",
           "#FF97FF",
           "#FECB52"
          ],
          "font": {
           "color": "#2a3f5f"
          },
          "geo": {
           "bgcolor": "white",
           "lakecolor": "white",
           "landcolor": "#E5ECF6",
           "showlakes": true,
           "showland": true,
           "subunitcolor": "white"
          },
          "hoverlabel": {
           "align": "left"
          },
          "hovermode": "closest",
          "mapbox": {
           "style": "light"
          },
          "paper_bgcolor": "white",
          "plot_bgcolor": "#E5ECF6",
          "polar": {
           "angularaxis": {
            "gridcolor": "white",
            "linecolor": "white",
            "ticks": ""
           },
           "bgcolor": "#E5ECF6",
           "radialaxis": {
            "gridcolor": "white",
            "linecolor": "white",
            "ticks": ""
           }
          },
          "scene": {
           "xaxis": {
            "backgroundcolor": "#E5ECF6",
            "gridcolor": "white",
            "gridwidth": 2,
            "linecolor": "white",
            "showbackground": true,
            "ticks": "",
            "zerolinecolor": "white"
           },
           "yaxis": {
            "backgroundcolor": "#E5ECF6",
            "gridcolor": "white",
            "gridwidth": 2,
            "linecolor": "white",
            "showbackground": true,
            "ticks": "",
            "zerolinecolor": "white"
           },
           "zaxis": {
            "backgroundcolor": "#E5ECF6",
            "gridcolor": "white",
            "gridwidth": 2,
            "linecolor": "white",
            "showbackground": true,
            "ticks": "",
            "zerolinecolor": "white"
           }
          },
          "shapedefaults": {
           "line": {
            "color": "#2a3f5f"
           }
          },
          "ternary": {
           "aaxis": {
            "gridcolor": "white",
            "linecolor": "white",
            "ticks": ""
           },
           "baxis": {
            "gridcolor": "white",
            "linecolor": "white",
            "ticks": ""
           },
           "bgcolor": "#E5ECF6",
           "caxis": {
            "gridcolor": "white",
            "linecolor": "white",
            "ticks": ""
           }
          },
          "title": {
           "x": 0.05
          },
          "xaxis": {
           "automargin": true,
           "gridcolor": "white",
           "linecolor": "white",
           "ticks": "",
           "title": {
            "standoff": 15
           },
           "zerolinecolor": "white",
           "zerolinewidth": 2
          },
          "yaxis": {
           "automargin": true,
           "gridcolor": "white",
           "linecolor": "white",
           "ticks": "",
           "title": {
            "standoff": 15
           },
           "zerolinecolor": "white",
           "zerolinewidth": 2
          }
         }
        },
        "title": {
         "text": "Topic Distribution"
        },
        "xaxis": {
         "anchor": "y",
         "domain": [
          0,
          1
         ],
         "title": {
          "text": "Number of Comments"
         }
        },
        "yaxis": {
         "anchor": "x",
         "categoryorder": "total ascending",
         "domain": [
          0,
          1
         ],
         "title": {
          "text": "Topic"
         }
        }
       }
      }
     },
     "metadata": {},
     "output_type": "display_data"
    },
    {
     "name": "stderr",
     "output_type": "stream",
     "text": [
      "2025-03-29 00:31:51,410 - New Data Processor Notebook - INFO - Creating Sentiment Pie Chart (BERT)...\n",
      "2025-03-29 00:31:51,458 - New Data Processor Notebook - INFO - Sentiment pie chart saved to /Users/DINGZEEFS/Documents/Fine_tuning_odido/output_dir/new_data_notebook_results/visualizations/new_data_bert_sentiment.html\n"
     ]
    },
    {
     "data": {
      "application/vnd.plotly.v1+json": {
       "config": {
        "plotlyServerURL": "https://plot.ly"
       },
       "data": [
        {
         "customdata": [
          [
           "positive"
          ],
          [
           "negative"
          ]
         ],
         "domain": {
          "x": [
           0,
           1
          ],
          "y": [
           0,
           1
          ]
         },
         "hovertemplate": "Sentiment=%{customdata[0]}<br>Count=%{value}<extra></extra>",
         "labels": [
          "positive",
          "negative"
         ],
         "legendgroup": "",
         "marker": {
          "colors": [
           "#ab63fa",
           "#FFA15A"
          ]
         },
         "name": "",
         "showlegend": true,
         "textinfo": "percent+label+value",
         "textposition": "inside",
         "type": "pie",
         "values": {
          "bdata": "Cwk=",
          "dtype": "i1"
         }
        }
       ],
       "layout": {
        "legend": {
         "tracegroupgap": 0
        },
        "template": {
         "data": {
          "bar": [
           {
            "error_x": {
             "color": "#2a3f5f"
            },
            "error_y": {
             "color": "#2a3f5f"
            },
            "marker": {
             "line": {
              "color": "#E5ECF6",
              "width": 0.5
             },
             "pattern": {
              "fillmode": "overlay",
              "size": 10,
              "solidity": 0.2
             }
            },
            "type": "bar"
           }
          ],
          "barpolar": [
           {
            "marker": {
             "line": {
              "color": "#E5ECF6",
              "width": 0.5
             },
             "pattern": {
              "fillmode": "overlay",
              "size": 10,
              "solidity": 0.2
             }
            },
            "type": "barpolar"
           }
          ],
          "carpet": [
           {
            "aaxis": {
             "endlinecolor": "#2a3f5f",
             "gridcolor": "white",
             "linecolor": "white",
             "minorgridcolor": "white",
             "startlinecolor": "#2a3f5f"
            },
            "baxis": {
             "endlinecolor": "#2a3f5f",
             "gridcolor": "white",
             "linecolor": "white",
             "minorgridcolor": "white",
             "startlinecolor": "#2a3f5f"
            },
            "type": "carpet"
           }
          ],
          "choropleth": [
           {
            "colorbar": {
             "outlinewidth": 0,
             "ticks": ""
            },
            "type": "choropleth"
           }
          ],
          "contour": [
           {
            "colorbar": {
             "outlinewidth": 0,
             "ticks": ""
            },
            "colorscale": [
             [
              0,
              "#0d0887"
             ],
             [
              0.1111111111111111,
              "#46039f"
             ],
             [
              0.2222222222222222,
              "#7201a8"
             ],
             [
              0.3333333333333333,
              "#9c179e"
             ],
             [
              0.4444444444444444,
              "#bd3786"
             ],
             [
              0.5555555555555556,
              "#d8576b"
             ],
             [
              0.6666666666666666,
              "#ed7953"
             ],
             [
              0.7777777777777778,
              "#fb9f3a"
             ],
             [
              0.8888888888888888,
              "#fdca26"
             ],
             [
              1,
              "#f0f921"
             ]
            ],
            "type": "contour"
           }
          ],
          "contourcarpet": [
           {
            "colorbar": {
             "outlinewidth": 0,
             "ticks": ""
            },
            "type": "contourcarpet"
           }
          ],
          "heatmap": [
           {
            "colorbar": {
             "outlinewidth": 0,
             "ticks": ""
            },
            "colorscale": [
             [
              0,
              "#0d0887"
             ],
             [
              0.1111111111111111,
              "#46039f"
             ],
             [
              0.2222222222222222,
              "#7201a8"
             ],
             [
              0.3333333333333333,
              "#9c179e"
             ],
             [
              0.4444444444444444,
              "#bd3786"
             ],
             [
              0.5555555555555556,
              "#d8576b"
             ],
             [
              0.6666666666666666,
              "#ed7953"
             ],
             [
              0.7777777777777778,
              "#fb9f3a"
             ],
             [
              0.8888888888888888,
              "#fdca26"
             ],
             [
              1,
              "#f0f921"
             ]
            ],
            "type": "heatmap"
           }
          ],
          "histogram": [
           {
            "marker": {
             "pattern": {
              "fillmode": "overlay",
              "size": 10,
              "solidity": 0.2
             }
            },
            "type": "histogram"
           }
          ],
          "histogram2d": [
           {
            "colorbar": {
             "outlinewidth": 0,
             "ticks": ""
            },
            "colorscale": [
             [
              0,
              "#0d0887"
             ],
             [
              0.1111111111111111,
              "#46039f"
             ],
             [
              0.2222222222222222,
              "#7201a8"
             ],
             [
              0.3333333333333333,
              "#9c179e"
             ],
             [
              0.4444444444444444,
              "#bd3786"
             ],
             [
              0.5555555555555556,
              "#d8576b"
             ],
             [
              0.6666666666666666,
              "#ed7953"
             ],
             [
              0.7777777777777778,
              "#fb9f3a"
             ],
             [
              0.8888888888888888,
              "#fdca26"
             ],
             [
              1,
              "#f0f921"
             ]
            ],
            "type": "histogram2d"
           }
          ],
          "histogram2dcontour": [
           {
            "colorbar": {
             "outlinewidth": 0,
             "ticks": ""
            },
            "colorscale": [
             [
              0,
              "#0d0887"
             ],
             [
              0.1111111111111111,
              "#46039f"
             ],
             [
              0.2222222222222222,
              "#7201a8"
             ],
             [
              0.3333333333333333,
              "#9c179e"
             ],
             [
              0.4444444444444444,
              "#bd3786"
             ],
             [
              0.5555555555555556,
              "#d8576b"
             ],
             [
              0.6666666666666666,
              "#ed7953"
             ],
             [
              0.7777777777777778,
              "#fb9f3a"
             ],
             [
              0.8888888888888888,
              "#fdca26"
             ],
             [
              1,
              "#f0f921"
             ]
            ],
            "type": "histogram2dcontour"
           }
          ],
          "mesh3d": [
           {
            "colorbar": {
             "outlinewidth": 0,
             "ticks": ""
            },
            "type": "mesh3d"
           }
          ],
          "parcoords": [
           {
            "line": {
             "colorbar": {
              "outlinewidth": 0,
              "ticks": ""
             }
            },
            "type": "parcoords"
           }
          ],
          "pie": [
           {
            "automargin": true,
            "type": "pie"
           }
          ],
          "scatter": [
           {
            "fillpattern": {
             "fillmode": "overlay",
             "size": 10,
             "solidity": 0.2
            },
            "type": "scatter"
           }
          ],
          "scatter3d": [
           {
            "line": {
             "colorbar": {
              "outlinewidth": 0,
              "ticks": ""
             }
            },
            "marker": {
             "colorbar": {
              "outlinewidth": 0,
              "ticks": ""
             }
            },
            "type": "scatter3d"
           }
          ],
          "scattercarpet": [
           {
            "marker": {
             "colorbar": {
              "outlinewidth": 0,
              "ticks": ""
             }
            },
            "type": "scattercarpet"
           }
          ],
          "scattergeo": [
           {
            "marker": {
             "colorbar": {
              "outlinewidth": 0,
              "ticks": ""
             }
            },
            "type": "scattergeo"
           }
          ],
          "scattergl": [
           {
            "marker": {
             "colorbar": {
              "outlinewidth": 0,
              "ticks": ""
             }
            },
            "type": "scattergl"
           }
          ],
          "scattermap": [
           {
            "marker": {
             "colorbar": {
              "outlinewidth": 0,
              "ticks": ""
             }
            },
            "type": "scattermap"
           }
          ],
          "scattermapbox": [
           {
            "marker": {
             "colorbar": {
              "outlinewidth": 0,
              "ticks": ""
             }
            },
            "type": "scattermapbox"
           }
          ],
          "scatterpolar": [
           {
            "marker": {
             "colorbar": {
              "outlinewidth": 0,
              "ticks": ""
             }
            },
            "type": "scatterpolar"
           }
          ],
          "scatterpolargl": [
           {
            "marker": {
             "colorbar": {
              "outlinewidth": 0,
              "ticks": ""
             }
            },
            "type": "scatterpolargl"
           }
          ],
          "scatterternary": [
           {
            "marker": {
             "colorbar": {
              "outlinewidth": 0,
              "ticks": ""
             }
            },
            "type": "scatterternary"
           }
          ],
          "surface": [
           {
            "colorbar": {
             "outlinewidth": 0,
             "ticks": ""
            },
            "colorscale": [
             [
              0,
              "#0d0887"
             ],
             [
              0.1111111111111111,
              "#46039f"
             ],
             [
              0.2222222222222222,
              "#7201a8"
             ],
             [
              0.3333333333333333,
              "#9c179e"
             ],
             [
              0.4444444444444444,
              "#bd3786"
             ],
             [
              0.5555555555555556,
              "#d8576b"
             ],
             [
              0.6666666666666666,
              "#ed7953"
             ],
             [
              0.7777777777777778,
              "#fb9f3a"
             ],
             [
              0.8888888888888888,
              "#fdca26"
             ],
             [
              1,
              "#f0f921"
             ]
            ],
            "type": "surface"
           }
          ],
          "table": [
           {
            "cells": {
             "fill": {
              "color": "#EBF0F8"
             },
             "line": {
              "color": "white"
             }
            },
            "header": {
             "fill": {
              "color": "#C8D4E3"
             },
             "line": {
              "color": "white"
             }
            },
            "type": "table"
           }
          ]
         },
         "layout": {
          "annotationdefaults": {
           "arrowcolor": "#2a3f5f",
           "arrowhead": 0,
           "arrowwidth": 1
          },
          "autotypenumbers": "strict",
          "coloraxis": {
           "colorbar": {
            "outlinewidth": 0,
            "ticks": ""
           }
          },
          "colorscale": {
           "diverging": [
            [
             0,
             "#8e0152"
            ],
            [
             0.1,
             "#c51b7d"
            ],
            [
             0.2,
             "#de77ae"
            ],
            [
             0.3,
             "#f1b6da"
            ],
            [
             0.4,
             "#fde0ef"
            ],
            [
             0.5,
             "#f7f7f7"
            ],
            [
             0.6,
             "#e6f5d0"
            ],
            [
             0.7,
             "#b8e186"
            ],
            [
             0.8,
             "#7fbc41"
            ],
            [
             0.9,
             "#4d9221"
            ],
            [
             1,
             "#276419"
            ]
           ],
           "sequential": [
            [
             0,
             "#0d0887"
            ],
            [
             0.1111111111111111,
             "#46039f"
            ],
            [
             0.2222222222222222,
             "#7201a8"
            ],
            [
             0.3333333333333333,
             "#9c179e"
            ],
            [
             0.4444444444444444,
             "#bd3786"
            ],
            [
             0.5555555555555556,
             "#d8576b"
            ],
            [
             0.6666666666666666,
             "#ed7953"
            ],
            [
             0.7777777777777778,
             "#fb9f3a"
            ],
            [
             0.8888888888888888,
             "#fdca26"
            ],
            [
             1,
             "#f0f921"
            ]
           ],
           "sequentialminus": [
            [
             0,
             "#0d0887"
            ],
            [
             0.1111111111111111,
             "#46039f"
            ],
            [
             0.2222222222222222,
             "#7201a8"
            ],
            [
             0.3333333333333333,
             "#9c179e"
            ],
            [
             0.4444444444444444,
             "#bd3786"
            ],
            [
             0.5555555555555556,
             "#d8576b"
            ],
            [
             0.6666666666666666,
             "#ed7953"
            ],
            [
             0.7777777777777778,
             "#fb9f3a"
            ],
            [
             0.8888888888888888,
             "#fdca26"
            ],
            [
             1,
             "#f0f921"
            ]
           ]
          },
          "colorway": [
           "#636efa",
           "#EF553B",
           "#00cc96",
           "#ab63fa",
           "#FFA15A",
           "#19d3f3",
           "#FF6692",
           "#B6E880",
           "#FF97FF",
           "#FECB52"
          ],
          "font": {
           "color": "#2a3f5f"
          },
          "geo": {
           "bgcolor": "white",
           "lakecolor": "white",
           "landcolor": "#E5ECF6",
           "showlakes": true,
           "showland": true,
           "subunitcolor": "white"
          },
          "hoverlabel": {
           "align": "left"
          },
          "hovermode": "closest",
          "mapbox": {
           "style": "light"
          },
          "paper_bgcolor": "white",
          "plot_bgcolor": "#E5ECF6",
          "polar": {
           "angularaxis": {
            "gridcolor": "white",
            "linecolor": "white",
            "ticks": ""
           },
           "bgcolor": "#E5ECF6",
           "radialaxis": {
            "gridcolor": "white",
            "linecolor": "white",
            "ticks": ""
           }
          },
          "scene": {
           "xaxis": {
            "backgroundcolor": "#E5ECF6",
            "gridcolor": "white",
            "gridwidth": 2,
            "linecolor": "white",
            "showbackground": true,
            "ticks": "",
            "zerolinecolor": "white"
           },
           "yaxis": {
            "backgroundcolor": "#E5ECF6",
            "gridcolor": "white",
            "gridwidth": 2,
            "linecolor": "white",
            "showbackground": true,
            "ticks": "",
            "zerolinecolor": "white"
           },
           "zaxis": {
            "backgroundcolor": "#E5ECF6",
            "gridcolor": "white",
            "gridwidth": 2,
            "linecolor": "white",
            "showbackground": true,
            "ticks": "",
            "zerolinecolor": "white"
           }
          },
          "shapedefaults": {
           "line": {
            "color": "#2a3f5f"
           }
          },
          "ternary": {
           "aaxis": {
            "gridcolor": "white",
            "linecolor": "white",
            "ticks": ""
           },
           "baxis": {
            "gridcolor": "white",
            "linecolor": "white",
            "ticks": ""
           },
           "bgcolor": "#E5ECF6",
           "caxis": {
            "gridcolor": "white",
            "linecolor": "white",
            "ticks": ""
           }
          },
          "title": {
           "x": 0.05
          },
          "xaxis": {
           "automargin": true,
           "gridcolor": "white",
           "linecolor": "white",
           "ticks": "",
           "title": {
            "standoff": 15
           },
           "zerolinecolor": "white",
           "zerolinewidth": 2
          },
          "yaxis": {
           "automargin": true,
           "gridcolor": "white",
           "linecolor": "white",
           "ticks": "",
           "title": {
            "standoff": 15
           },
           "zerolinecolor": "white",
           "zerolinewidth": 2
          }
         }
        },
        "title": {
         "text": "Sentiment Distribution (bert_sentiment)"
        }
       }
      }
     },
     "metadata": {},
     "output_type": "display_data"
    },
    {
     "name": "stderr",
     "output_type": "stream",
     "text": [
      "2025-03-29 00:31:51,463 - New Data Processor Notebook - INFO - Cleaning topic terms...\n",
      "2025-03-29 00:31:51,466 - New Data Processor Notebook - INFO - Creating Custom Topic Barchart...\n",
      "2025-03-29 00:31:51,508 - New Data Processor Notebook - INFO - Meaningful topic barchart saved to /Users/DINGZEEFS/Documents/Fine_tuning_odido/output_dir/new_data_notebook_results/visualizations/meaningful_topic_barchart.html\n"
     ]
    },
    {
     "data": {
      "application/vnd.plotly.v1+json": {
       "config": {
        "plotlyServerURL": "https://plot.ly"
       },
       "data": [
        {
         "marker": {
          "color": "#636EFA"
         },
         "name": "Algemeen",
         "orientation": "h",
         "showlegend": false,
         "type": "bar",
         "x": [
          0.01749182368924586,
          0.015521577650655156
         ],
         "xaxis": "x",
         "y": [
          "klantenservice",
          "levering"
         ],
         "yaxis": "y"
        },
        {
         "marker": {
          "color": "#EF553B"
         },
         "name": "Klantrelatie",
         "orientation": "h",
         "showlegend": false,
         "type": "bar",
         "x": [
          0.030303669384770755,
          0.02367476330028323,
          0.022472245792461903,
          0.02132503251466078
         ],
         "xaxis": "x2",
         "y": [
          "klant",
          "de klant",
          "van ben",
          "merk"
         ],
         "yaxis": "y2"
        },
        {
         "marker": {
          "color": "#00CC96"
         },
         "name": "Klantenservice",
         "orientation": "h",
         "showlegend": false,
         "type": "bar",
         "x": [
          0.07676311023719512,
          0.036196310642718936,
          0.033459431588494515,
          0.023926325811974593,
          0.023089035738361383
         ],
         "xaxis": "x3",
         "y": [
          "klantenservice",
          "klantenservice de",
          "de klantenservice",
          "klant",
          "klantenservice de klant"
         ],
         "yaxis": "y3"
        },
        {
         "marker": {
          "color": "#AB63FA"
         },
         "name": "Aankoop en Levering",
         "orientation": "h",
         "showlegend": false,
         "type": "bar",
         "x": [
          0.10143201365321641,
          0.10061050644501887,
          0.07829963209135742,
          0.046123859656930964,
          0.04438236342094076
         ],
         "xaxis": "x4",
         "y": [
          "aankoop",
          "levering",
          "aankoop levering",
          "aankoop of",
          "aankoop of levering"
         ],
         "yaxis": "y4"
        },
        {
         "marker": {
          "color": "#FFA15A"
         },
         "name": "TV Box Issues",
         "orientation": "h",
         "showlegend": false,
         "type": "bar",
         "x": [
          0.05575298406835039,
          0.05397013496160521,
          0.03768410514931024,
          0.03750541764689436,
          0.0359128019109611
         ],
         "xaxis": "x5",
         "y": [
          "de tv",
          "product",
          "product het",
          "product de tv",
          "signaal"
         ],
         "yaxis": "y5"
        },
        {
         "marker": {
          "color": "#19D3F3"
         },
         "name": "Bereik/Dekking",
         "orientation": "h",
         "showlegend": false,
         "type": "bar",
         "x": [
          0.04626282095129877,
          0.04409894083165332,
          0.04115848401185059,
          0.03184400114469623,
          0.028661444805257907
         ],
         "xaxis": "x6",
         "y": [
          "product",
          "goed",
          "dekking",
          "bereik",
          "product de"
         ],
         "yaxis": "y6"
        },
        {
         "marker": {
          "color": "#FF6692"
         },
         "name": "Wifi Issues",
         "orientation": "h",
         "showlegend": false,
         "type": "bar",
         "x": [
          0.0612847309153662,
          0.04326502377452456,
          0.03244295250384651,
          0.028995237056110266,
          0.026297489845166097
         ],
         "xaxis": "x7",
         "y": [
          "wifi",
          "de wifi",
          "router",
          "valt",
          "product"
         ],
         "yaxis": "y7"
        },
        {
         "marker": {
          "color": "#B6E880"
         },
         "name": "Ben App",
         "orientation": "h",
         "showlegend": false,
         "type": "bar",
         "x": [
          0.06805740416746406,
          0.06293867804394879,
          0.06293867804394879,
          0.0583713673837433,
          0.0513515201065991
         ],
         "xaxis": "x8",
         "y": [
          "de ben",
          "ben app",
          "de ben app",
          "product de",
          "product"
         ],
         "yaxis": "y8"
        }
       ],
       "layout": {
        "annotations": [
         {
          "font": {
           "size": 16
          },
          "showarrow": false,
          "text": "Algemeen",
          "x": 0.0875,
          "xanchor": "center",
          "xref": "paper",
          "y": 1,
          "yanchor": "bottom",
          "yref": "paper"
         },
         {
          "font": {
           "size": 16
          },
          "showarrow": false,
          "text": "Klantrelatie",
          "x": 0.36250000000000004,
          "xanchor": "center",
          "xref": "paper",
          "y": 1,
          "yanchor": "bottom",
          "yref": "paper"
         },
         {
          "font": {
           "size": 16
          },
          "showarrow": false,
          "text": "Klantenservice",
          "x": 0.6375000000000001,
          "xanchor": "center",
          "xref": "paper",
          "y": 1,
          "yanchor": "bottom",
          "yref": "paper"
         },
         {
          "font": {
           "size": 16
          },
          "showarrow": false,
          "text": "Aankoop en Levering",
          "x": 0.9125,
          "xanchor": "center",
          "xref": "paper",
          "y": 1,
          "yanchor": "bottom",
          "yref": "paper"
         },
         {
          "font": {
           "size": 16
          },
          "showarrow": false,
          "text": "TV Box Issues",
          "x": 0.0875,
          "xanchor": "center",
          "xref": "paper",
          "y": 0.375,
          "yanchor": "bottom",
          "yref": "paper"
         },
         {
          "font": {
           "size": 16
          },
          "showarrow": false,
          "text": "Bereik/Dekking",
          "x": 0.36250000000000004,
          "xanchor": "center",
          "xref": "paper",
          "y": 0.375,
          "yanchor": "bottom",
          "yref": "paper"
         },
         {
          "font": {
           "size": 16
          },
          "showarrow": false,
          "text": "Wifi Issues",
          "x": 0.6375000000000001,
          "xanchor": "center",
          "xref": "paper",
          "y": 0.375,
          "yanchor": "bottom",
          "yref": "paper"
         },
         {
          "font": {
           "size": 16
          },
          "showarrow": false,
          "text": "Ben App",
          "x": 0.9125,
          "xanchor": "center",
          "xref": "paper",
          "y": 0.375,
          "yanchor": "bottom",
          "yref": "paper"
         }
        ],
        "font": {
         "size": 10
        },
        "height": 600,
        "margin": {
         "b": 40,
         "l": 50,
         "r": 30,
         "t": 80
        },
        "showlegend": false,
        "template": {
         "data": {
          "bar": [
           {
            "error_x": {
             "color": "#2a3f5f"
            },
            "error_y": {
             "color": "#2a3f5f"
            },
            "marker": {
             "line": {
              "color": "#E5ECF6",
              "width": 0.5
             },
             "pattern": {
              "fillmode": "overlay",
              "size": 10,
              "solidity": 0.2
             }
            },
            "type": "bar"
           }
          ],
          "barpolar": [
           {
            "marker": {
             "line": {
              "color": "#E5ECF6",
              "width": 0.5
             },
             "pattern": {
              "fillmode": "overlay",
              "size": 10,
              "solidity": 0.2
             }
            },
            "type": "barpolar"
           }
          ],
          "carpet": [
           {
            "aaxis": {
             "endlinecolor": "#2a3f5f",
             "gridcolor": "white",
             "linecolor": "white",
             "minorgridcolor": "white",
             "startlinecolor": "#2a3f5f"
            },
            "baxis": {
             "endlinecolor": "#2a3f5f",
             "gridcolor": "white",
             "linecolor": "white",
             "minorgridcolor": "white",
             "startlinecolor": "#2a3f5f"
            },
            "type": "carpet"
           }
          ],
          "choropleth": [
           {
            "colorbar": {
             "outlinewidth": 0,
             "ticks": ""
            },
            "type": "choropleth"
           }
          ],
          "contour": [
           {
            "colorbar": {
             "outlinewidth": 0,
             "ticks": ""
            },
            "colorscale": [
             [
              0,
              "#0d0887"
             ],
             [
              0.1111111111111111,
              "#46039f"
             ],
             [
              0.2222222222222222,
              "#7201a8"
             ],
             [
              0.3333333333333333,
              "#9c179e"
             ],
             [
              0.4444444444444444,
              "#bd3786"
             ],
             [
              0.5555555555555556,
              "#d8576b"
             ],
             [
              0.6666666666666666,
              "#ed7953"
             ],
             [
              0.7777777777777778,
              "#fb9f3a"
             ],
             [
              0.8888888888888888,
              "#fdca26"
             ],
             [
              1,
              "#f0f921"
             ]
            ],
            "type": "contour"
           }
          ],
          "contourcarpet": [
           {
            "colorbar": {
             "outlinewidth": 0,
             "ticks": ""
            },
            "type": "contourcarpet"
           }
          ],
          "heatmap": [
           {
            "colorbar": {
             "outlinewidth": 0,
             "ticks": ""
            },
            "colorscale": [
             [
              0,
              "#0d0887"
             ],
             [
              0.1111111111111111,
              "#46039f"
             ],
             [
              0.2222222222222222,
              "#7201a8"
             ],
             [
              0.3333333333333333,
              "#9c179e"
             ],
             [
              0.4444444444444444,
              "#bd3786"
             ],
             [
              0.5555555555555556,
              "#d8576b"
             ],
             [
              0.6666666666666666,
              "#ed7953"
             ],
             [
              0.7777777777777778,
              "#fb9f3a"
             ],
             [
              0.8888888888888888,
              "#fdca26"
             ],
             [
              1,
              "#f0f921"
             ]
            ],
            "type": "heatmap"
           }
          ],
          "histogram": [
           {
            "marker": {
             "pattern": {
              "fillmode": "overlay",
              "size": 10,
              "solidity": 0.2
             }
            },
            "type": "histogram"
           }
          ],
          "histogram2d": [
           {
            "colorbar": {
             "outlinewidth": 0,
             "ticks": ""
            },
            "colorscale": [
             [
              0,
              "#0d0887"
             ],
             [
              0.1111111111111111,
              "#46039f"
             ],
             [
              0.2222222222222222,
              "#7201a8"
             ],
             [
              0.3333333333333333,
              "#9c179e"
             ],
             [
              0.4444444444444444,
              "#bd3786"
             ],
             [
              0.5555555555555556,
              "#d8576b"
             ],
             [
              0.6666666666666666,
              "#ed7953"
             ],
             [
              0.7777777777777778,
              "#fb9f3a"
             ],
             [
              0.8888888888888888,
              "#fdca26"
             ],
             [
              1,
              "#f0f921"
             ]
            ],
            "type": "histogram2d"
           }
          ],
          "histogram2dcontour": [
           {
            "colorbar": {
             "outlinewidth": 0,
             "ticks": ""
            },
            "colorscale": [
             [
              0,
              "#0d0887"
             ],
             [
              0.1111111111111111,
              "#46039f"
             ],
             [
              0.2222222222222222,
              "#7201a8"
             ],
             [
              0.3333333333333333,
              "#9c179e"
             ],
             [
              0.4444444444444444,
              "#bd3786"
             ],
             [
              0.5555555555555556,
              "#d8576b"
             ],
             [
              0.6666666666666666,
              "#ed7953"
             ],
             [
              0.7777777777777778,
              "#fb9f3a"
             ],
             [
              0.8888888888888888,
              "#fdca26"
             ],
             [
              1,
              "#f0f921"
             ]
            ],
            "type": "histogram2dcontour"
           }
          ],
          "mesh3d": [
           {
            "colorbar": {
             "outlinewidth": 0,
             "ticks": ""
            },
            "type": "mesh3d"
           }
          ],
          "parcoords": [
           {
            "line": {
             "colorbar": {
              "outlinewidth": 0,
              "ticks": ""
             }
            },
            "type": "parcoords"
           }
          ],
          "pie": [
           {
            "automargin": true,
            "type": "pie"
           }
          ],
          "scatter": [
           {
            "fillpattern": {
             "fillmode": "overlay",
             "size": 10,
             "solidity": 0.2
            },
            "type": "scatter"
           }
          ],
          "scatter3d": [
           {
            "line": {
             "colorbar": {
              "outlinewidth": 0,
              "ticks": ""
             }
            },
            "marker": {
             "colorbar": {
              "outlinewidth": 0,
              "ticks": ""
             }
            },
            "type": "scatter3d"
           }
          ],
          "scattercarpet": [
           {
            "marker": {
             "colorbar": {
              "outlinewidth": 0,
              "ticks": ""
             }
            },
            "type": "scattercarpet"
           }
          ],
          "scattergeo": [
           {
            "marker": {
             "colorbar": {
              "outlinewidth": 0,
              "ticks": ""
             }
            },
            "type": "scattergeo"
           }
          ],
          "scattergl": [
           {
            "marker": {
             "colorbar": {
              "outlinewidth": 0,
              "ticks": ""
             }
            },
            "type": "scattergl"
           }
          ],
          "scattermap": [
           {
            "marker": {
             "colorbar": {
              "outlinewidth": 0,
              "ticks": ""
             }
            },
            "type": "scattermap"
           }
          ],
          "scattermapbox": [
           {
            "marker": {
             "colorbar": {
              "outlinewidth": 0,
              "ticks": ""
             }
            },
            "type": "scattermapbox"
           }
          ],
          "scatterpolar": [
           {
            "marker": {
             "colorbar": {
              "outlinewidth": 0,
              "ticks": ""
             }
            },
            "type": "scatterpolar"
           }
          ],
          "scatterpolargl": [
           {
            "marker": {
             "colorbar": {
              "outlinewidth": 0,
              "ticks": ""
             }
            },
            "type": "scatterpolargl"
           }
          ],
          "scatterternary": [
           {
            "marker": {
             "colorbar": {
              "outlinewidth": 0,
              "ticks": ""
             }
            },
            "type": "scatterternary"
           }
          ],
          "surface": [
           {
            "colorbar": {
             "outlinewidth": 0,
             "ticks": ""
            },
            "colorscale": [
             [
              0,
              "#0d0887"
             ],
             [
              0.1111111111111111,
              "#46039f"
             ],
             [
              0.2222222222222222,
              "#7201a8"
             ],
             [
              0.3333333333333333,
              "#9c179e"
             ],
             [
              0.4444444444444444,
              "#bd3786"
             ],
             [
              0.5555555555555556,
              "#d8576b"
             ],
             [
              0.6666666666666666,
              "#ed7953"
             ],
             [
              0.7777777777777778,
              "#fb9f3a"
             ],
             [
              0.8888888888888888,
              "#fdca26"
             ],
             [
              1,
              "#f0f921"
             ]
            ],
            "type": "surface"
           }
          ],
          "table": [
           {
            "cells": {
             "fill": {
              "color": "#EBF0F8"
             },
             "line": {
              "color": "white"
             }
            },
            "header": {
             "fill": {
              "color": "#C8D4E3"
             },
             "line": {
              "color": "white"
             }
            },
            "type": "table"
           }
          ]
         },
         "layout": {
          "annotationdefaults": {
           "arrowcolor": "#2a3f5f",
           "arrowhead": 0,
           "arrowwidth": 1
          },
          "autotypenumbers": "strict",
          "coloraxis": {
           "colorbar": {
            "outlinewidth": 0,
            "ticks": ""
           }
          },
          "colorscale": {
           "diverging": [
            [
             0,
             "#8e0152"
            ],
            [
             0.1,
             "#c51b7d"
            ],
            [
             0.2,
             "#de77ae"
            ],
            [
             0.3,
             "#f1b6da"
            ],
            [
             0.4,
             "#fde0ef"
            ],
            [
             0.5,
             "#f7f7f7"
            ],
            [
             0.6,
             "#e6f5d0"
            ],
            [
             0.7,
             "#b8e186"
            ],
            [
             0.8,
             "#7fbc41"
            ],
            [
             0.9,
             "#4d9221"
            ],
            [
             1,
             "#276419"
            ]
           ],
           "sequential": [
            [
             0,
             "#0d0887"
            ],
            [
             0.1111111111111111,
             "#46039f"
            ],
            [
             0.2222222222222222,
             "#7201a8"
            ],
            [
             0.3333333333333333,
             "#9c179e"
            ],
            [
             0.4444444444444444,
             "#bd3786"
            ],
            [
             0.5555555555555556,
             "#d8576b"
            ],
            [
             0.6666666666666666,
             "#ed7953"
            ],
            [
             0.7777777777777778,
             "#fb9f3a"
            ],
            [
             0.8888888888888888,
             "#fdca26"
            ],
            [
             1,
             "#f0f921"
            ]
           ],
           "sequentialminus": [
            [
             0,
             "#0d0887"
            ],
            [
             0.1111111111111111,
             "#46039f"
            ],
            [
             0.2222222222222222,
             "#7201a8"
            ],
            [
             0.3333333333333333,
             "#9c179e"
            ],
            [
             0.4444444444444444,
             "#bd3786"
            ],
            [
             0.5555555555555556,
             "#d8576b"
            ],
            [
             0.6666666666666666,
             "#ed7953"
            ],
            [
             0.7777777777777778,
             "#fb9f3a"
            ],
            [
             0.8888888888888888,
             "#fdca26"
            ],
            [
             1,
             "#f0f921"
            ]
           ]
          },
          "colorway": [
           "#636efa",
           "#EF553B",
           "#00cc96",
           "#ab63fa",
           "#FFA15A",
           "#19d3f3",
           "#FF6692",
           "#B6E880",
           "#FF97FF",
           "#FECB52"
          ],
          "font": {
           "color": "#2a3f5f"
          },
          "geo": {
           "bgcolor": "white",
           "lakecolor": "white",
           "landcolor": "#E5ECF6",
           "showlakes": true,
           "showland": true,
           "subunitcolor": "white"
          },
          "hoverlabel": {
           "align": "left"
          },
          "hovermode": "closest",
          "mapbox": {
           "style": "light"
          },
          "paper_bgcolor": "white",
          "plot_bgcolor": "#E5ECF6",
          "polar": {
           "angularaxis": {
            "gridcolor": "white",
            "linecolor": "white",
            "ticks": ""
           },
           "bgcolor": "#E5ECF6",
           "radialaxis": {
            "gridcolor": "white",
            "linecolor": "white",
            "ticks": ""
           }
          },
          "scene": {
           "xaxis": {
            "backgroundcolor": "#E5ECF6",
            "gridcolor": "white",
            "gridwidth": 2,
            "linecolor": "white",
            "showbackground": true,
            "ticks": "",
            "zerolinecolor": "white"
           },
           "yaxis": {
            "backgroundcolor": "#E5ECF6",
            "gridcolor": "white",
            "gridwidth": 2,
            "linecolor": "white",
            "showbackground": true,
            "ticks": "",
            "zerolinecolor": "white"
           },
           "zaxis": {
            "backgroundcolor": "#E5ECF6",
            "gridcolor": "white",
            "gridwidth": 2,
            "linecolor": "white",
            "showbackground": true,
            "ticks": "",
            "zerolinecolor": "white"
           }
          },
          "shapedefaults": {
           "line": {
            "color": "#2a3f5f"
           }
          },
          "ternary": {
           "aaxis": {
            "gridcolor": "white",
            "linecolor": "white",
            "ticks": ""
           },
           "baxis": {
            "gridcolor": "white",
            "linecolor": "white",
            "ticks": ""
           },
           "bgcolor": "#E5ECF6",
           "caxis": {
            "gridcolor": "white",
            "linecolor": "white",
            "ticks": ""
           }
          },
          "title": {
           "x": 0.05
          },
          "xaxis": {
           "automargin": true,
           "gridcolor": "white",
           "linecolor": "white",
           "ticks": "",
           "title": {
            "standoff": 15
           },
           "zerolinecolor": "white",
           "zerolinewidth": 2
          },
          "yaxis": {
           "automargin": true,
           "gridcolor": "white",
           "linecolor": "white",
           "ticks": "",
           "title": {
            "standoff": 15
           },
           "zerolinecolor": "white",
           "zerolinewidth": 2
          }
         }
        },
        "title": {
         "text": "Top Topics with Meaningful Terms"
        },
        "xaxis": {
         "anchor": "y",
         "domain": [
          0,
          0.175
         ]
        },
        "xaxis2": {
         "anchor": "y2",
         "domain": [
          0.275,
          0.45
         ]
        },
        "xaxis3": {
         "anchor": "y3",
         "domain": [
          0.55,
          0.7250000000000001
         ]
        },
        "xaxis4": {
         "anchor": "y4",
         "domain": [
          0.825,
          1
         ]
        },
        "xaxis5": {
         "anchor": "y5",
         "domain": [
          0,
          0.175
         ]
        },
        "xaxis6": {
         "anchor": "y6",
         "domain": [
          0.275,
          0.45
         ]
        },
        "xaxis7": {
         "anchor": "y7",
         "domain": [
          0.55,
          0.7250000000000001
         ]
        },
        "xaxis8": {
         "anchor": "y8",
         "domain": [
          0.825,
          1
         ]
        },
        "yaxis": {
         "anchor": "x",
         "autorange": "reversed",
         "domain": [
          0.625,
          1
         ]
        },
        "yaxis2": {
         "anchor": "x2",
         "autorange": "reversed",
         "domain": [
          0.625,
          1
         ]
        },
        "yaxis3": {
         "anchor": "x3",
         "autorange": "reversed",
         "domain": [
          0.625,
          1
         ]
        },
        "yaxis4": {
         "anchor": "x4",
         "autorange": "reversed",
         "domain": [
          0.625,
          1
         ]
        },
        "yaxis5": {
         "anchor": "x5",
         "autorange": "reversed",
         "domain": [
          0,
          0.375
         ]
        },
        "yaxis6": {
         "anchor": "x6",
         "autorange": "reversed",
         "domain": [
          0,
          0.375
         ]
        },
        "yaxis7": {
         "anchor": "x7",
         "autorange": "reversed",
         "domain": [
          0,
          0.375
         ]
        },
        "yaxis8": {
         "anchor": "x8",
         "autorange": "reversed",
         "domain": [
          0,
          0.375
         ]
        }
       }
      }
     },
     "metadata": {},
     "output_type": "display_data"
    },
    {
     "name": "stderr",
     "output_type": "stream",
     "text": [
      "2025-03-29 00:31:51,512 - New Data Processor Notebook - INFO - Visualizations saved to /Users/DINGZEEFS/Documents/Fine_tuning_odido/output_dir/new_data_notebook_results/visualizations and displayed inline.\n",
      "2025-03-29 00:31:51,513 - New Data Processor Notebook - INFO - Processing complete. Final results CSV at: /Users/DINGZEEFS/Documents/Fine_tuning_odido/output_dir/new_data_notebook_results/new_data_analysis_notebook.csv\n"
     ]
    }
   ],
   "source": [
    "logger.info(\"Generating visualizations...\")\n",
    "\n",
    "# Create topic distribution chart\n",
    "logger.info(\"Creating Topic Distribution Chart...\")\n",
    "create_topic_distribution_chart(\n",
    "    results_df,\n",
    "    output_file=VIS_DIR / \"new_data_topic_distribution.html\",\n",
    "    display_inline=True\n",
    ")\n",
    "\n",
    "# Create sentiment pie charts\n",
    "logger.info(\"Creating Sentiment Pie Chart (BERT)...\")\n",
    "create_sentiment_pie_chart(\n",
    "    results_df,\n",
    "    sentiment_column='bert_sentiment', # Make sure this column name matches the output of apply_bert_sentiment\n",
    "    output_file=VIS_DIR / \"new_data_bert_sentiment.html\",\n",
    "    display_inline=True\n",
    ")\n",
    "\n",
    "# Get improved topic terms\n",
    "logger.info(\"Cleaning topic terms...\")\n",
    "improved_topics = clean_topic_terms(topic_model)\n",
    "\n",
    "# Create meaningful topic visualization\n",
    "logger.info(\"Creating Custom Topic Barchart...\")\n",
    "create_custom_barchart(\n",
    "    topic_model,\n",
    "    improved_topics,\n",
    "    VIS_DIR,\n",
    "    display_inline=True\n",
    ")\n",
    "\n",
    "logger.info(f\"Visualizations saved to {VIS_DIR} and displayed inline.\")\n",
    "logger.info(f\"Processing complete. Final results CSV at: {output_csv_path}\")"
   ]
  },
  {
   "cell_type": "code",
   "execution_count": 13,
   "metadata": {},
   "outputs": [],
   "source": [
    "# Function from visualizations.py (modified for inline display)\n",
    "def create_topic_sentiment_heatmap(df, sentiment_column='bert_sentiment', output_file=None, display_inline=True):\n",
    "    \"\"\"Create a heatmap showing sentiment distribution by topic.\"\"\"\n",
    "    if 'topic_name' not in df.columns or sentiment_column not in df.columns:\n",
    "         logger.error(f\"Required columns ('topic_name', '{sentiment_column}') not found for heatmap.\")\n",
    "         return None\n",
    "\n",
    "    try:\n",
    "        # Create cross-tabulation, normalize by topic (index)\n",
    "        topic_sentiment = pd.crosstab(df['topic_name'], df[sentiment_column], normalize='index') * 100\n",
    "        topic_sentiment = topic_sentiment.fillna(0) # Fill NaN if a topic has only one sentiment\n",
    "\n",
    "        # Reshape for plotting\n",
    "        plot_df = topic_sentiment.reset_index().melt(id_vars='topic_name',\n",
    "                                                    var_name='Sentiment',\n",
    "                                                    value_name='Percentage')\n",
    "\n",
    "        # Create heatmap\n",
    "        fig = px.density_heatmap(plot_df, x='Sentiment', y='topic_name', z='Percentage',\n",
    "                               title=f'Sentiment Distribution by Topic (%) - {sentiment_column}',\n",
    "                               labels={'topic_name': 'Topic', 'Percentage': 'Percentage (%)'},\n",
    "                               color_continuous_scale=\"Viridis\") # Or choose another scale\n",
    "\n",
    "        fig.update_layout(yaxis={'categoryorder':'total descending'}) # Order topics by count or alphabetically\n",
    "\n",
    "        # Save to file\n",
    "        if output_file:\n",
    "            fig.write_html(output_file)\n",
    "            logger.info(f\"Topic sentiment heatmap saved to {output_file}\")\n",
    "\n",
    "        if display_inline:\n",
    "            fig.show()\n",
    "\n",
    "        return fig\n",
    "    except Exception as e:\n",
    "        logger.error(f\"Error creating topic sentiment heatmap: {e}\")\n",
    "        return None"
   ]
  },
  {
   "cell_type": "code",
   "execution_count": 14,
   "metadata": {},
   "outputs": [],
   "source": [
    "# Function from visualizations.py (modified for inline display)\n",
    "# Requires networkx library (pip install networkx) and import networkx as nx\n",
    "def create_theme_network_graph(df, min_co_occurrence=3, output_file=None, display_inline=True):\n",
    "    \"\"\"Create a network graph of co-occurring topics/themes.\"\"\"\n",
    "    if 'topic_name' not in df.columns:\n",
    "        logger.error(\"Column 'topic_name' not found for theme network graph.\")\n",
    "        return None\n",
    "    if 'original_index' not in df.columns: # Assuming 'original_index' links rows after potential processing\n",
    "        logger.warning(\"Column 'original_index' not found. Co-occurrence might be inaccurate if rows were duplicated.\")\n",
    "        # Use simple index if original_index is missing\n",
    "        df_indices = df.index\n",
    "    else:\n",
    "        df_indices = df['original_index']\n",
    "\n",
    "\n",
    "    try:\n",
    "        import networkx as nx # Ensure networkx is imported\n",
    "\n",
    "        # Create a graph\n",
    "        G = nx.Graph()\n",
    "\n",
    "        # Add topics as nodes with their counts\n",
    "        topic_counts = df['topic_name'].value_counts()\n",
    "        for topic, count in topic_counts.items():\n",
    "             G.add_node(topic, size=count) # Store count for potential sizing later\n",
    "\n",
    "        # Find co-occurrences\n",
    "        # Group by original document index (if available) to see topics mentioned in the same review\n",
    "        # This assumes your 'results_df' might have multiple rows per original review if preprocessing expanded it.\n",
    "        # If each row in results_df represents one unique review, grouping by index is simpler.\n",
    "        # Using df_indices determined above.\n",
    "        grouped = df.groupby(df_indices)['topic_name'].apply(list)\n",
    "\n",
    "        co_occurrence_counts = {}\n",
    "        for topics_in_doc in grouped:\n",
    "            unique_topics = sorted(list(set(topics_in_doc))) # Unique topics per doc\n",
    "            # Iterate through all unique pairs within the document\n",
    "            for i in range(len(unique_topics)):\n",
    "                for j in range(i + 1, len(unique_topics)):\n",
    "                    topic1, topic2 = unique_topics[i], unique_topics[j]\n",
    "                    pair = tuple(sorted((topic1, topic2))) # Ensure consistent pair order\n",
    "                    co_occurrence_counts[pair] = co_occurrence_counts.get(pair, 0) + 1\n",
    "\n",
    "        # Add edges based on co-occurrence count\n",
    "        for pair, count in co_occurrence_counts.items():\n",
    "            if count >= min_co_occurrence:\n",
    "                G.add_edge(pair[0], pair[1], weight=count)\n",
    "\n",
    "        if not G.edges():\n",
    "            logger.warning(f\"No topic co-occurrences found with minimum count {min_co_occurrence}.\")\n",
    "            # Optionally display just the nodes\n",
    "            # return None # Or display node-only graph\n",
    "\n",
    "        # Convert to plotly\n",
    "        pos = nx.spring_layout(G, k=0.6, iterations=50) # Adjust layout parameters\n",
    "\n",
    "        # Create Edges\n",
    "        edge_x, edge_y = [], []\n",
    "        edge_weights = []\n",
    "        for edge in G.edges(data=True):\n",
    "            x0, y0 = pos[edge[0]]\n",
    "            x1, y1 = pos[edge[1]]\n",
    "            edge_x.extend([x0, x1, None])\n",
    "            edge_y.extend([y0, y1, None])\n",
    "            edge_weights.append(edge[2]['weight']) # Get weight for potential line thickness\n",
    "\n",
    "        # Normalize weights for line width (example)\n",
    "        min_weight = min(edge_weights) if edge_weights else 1\n",
    "        max_weight = max(edge_weights) if edge_weights else 1\n",
    "        normalized_widths = [1 + 4 * (w - min_weight) / max(1, max_weight - min_weight) for w in edge_weights] # Scale width e.g. 1 to 5\n",
    "\n",
    "        # Create edge trace with varying width (tricky with None separators)\n",
    "        # Simpler: use constant width or color intensity\n",
    "        edge_trace = go.Scatter(\n",
    "            x=edge_x, y=edge_y,\n",
    "            line=dict(width=1.5, color='#888'), # Use constant width for simplicity\n",
    "            hoverinfo='none',\n",
    "            mode='lines')\n",
    "\n",
    "        # Create Nodes\n",
    "        node_x, node_y, node_text, node_size, node_color = [], [], [], [], []\n",
    "        node_adjacencies = []\n",
    "        for node, adjacencies in enumerate(G.adjacency()):\n",
    "             node_adjacencies.append(len(adjacencies[1]))\n",
    "\n",
    "        # Determine node sizes (e.g., based on degree or topic count)\n",
    "        node_degrees = [G.degree(node) for node in G.nodes()]\n",
    "        min_degree = min(node_degrees) if node_degrees else 0\n",
    "        max_degree = max(node_degrees) if node_degrees else 1\n",
    "        scaled_sizes = [10 + 20 * (d - min_degree) / max(1, max_degree - min_degree) for d in node_degrees] # Scale size e.g. 10 to 30\n",
    "\n",
    "\n",
    "        for i, node in enumerate(G.nodes()):\n",
    "            x, y = pos[node]\n",
    "            node_x.append(x)\n",
    "            node_y.append(y)\n",
    "            node_text.append(f\"{node}<br>Connections: {node_degrees[i]}<br>Mentions: {topic_counts.get(node, 0)}\")\n",
    "            node_size.append(scaled_sizes[i])\n",
    "            node_color.append(scaled_sizes[i]) # Color by size/degree\n",
    "\n",
    "\n",
    "        node_trace = go.Scatter(\n",
    "            x=node_x, y=node_y, text=node_text, mode='markers+text', textposition=\"top center\",\n",
    "            hoverinfo='text',\n",
    "            marker=dict(\n",
    "                showscale=True,\n",
    "                colorscale='Viridis', # Or another scale\n",
    "                color=node_color,\n",
    "                size=node_size,\n",
    "                colorbar=dict(\n",
    "                    thickness=15,\n",
    "                    title='Node Connections/Size', # Adjust title\n",
    "                    xanchor='left',\n",
    "                    titleside='right'\n",
    "                ),\n",
    "                line_width=1,\n",
    "                line_color='black'\n",
    "             )\n",
    "        )\n",
    "\n",
    "\n",
    "        # Create figure\n",
    "        fig = go.Figure(data=[edge_trace, node_trace],\n",
    "                     layout=go.Layout(\n",
    "                        title=f'Topic Co-occurrence Network (Min Co-occurrence: {min_co_occurrence})',\n",
    "                        titlefont_size=16,\n",
    "                        showlegend=False,\n",
    "                        hovermode='closest',\n",
    "                        margin=dict(b=20,l=5,r=5,t=40),\n",
    "                        xaxis=dict(showgrid=False, zeroline=False, showticklabels=False),\n",
    "                        yaxis=dict(showgrid=False, zeroline=False, showticklabels=False))\n",
    "                    )\n",
    "\n",
    "        # Save to file\n",
    "        if output_file:\n",
    "            fig.write_html(output_file)\n",
    "            logger.info(f\"Theme network graph saved to {output_file}\")\n",
    "\n",
    "        if display_inline:\n",
    "            fig.show()\n",
    "\n",
    "        return fig\n",
    "\n",
    "    except ImportError:\n",
    "        logger.error(\"NetworkX library not found. Please install it using 'pip install networkx'\")\n",
    "        return None\n",
    "    except Exception as e:\n",
    "        logger.error(f\"Error creating theme network graph: {e}\")\n",
    "        return None"
   ]
  },
  {
   "cell_type": "code",
   "execution_count": 15,
   "metadata": {},
   "outputs": [],
   "source": [
    "# Function from visualizations.py (modified for inline display where possible)\n",
    "def create_bertopic_visualizations(topic_model, output_dir, display_inline=True):\n",
    "    \"\"\"Create standard BERTopic visualizations.\"\"\"\n",
    "    if topic_model is None:\n",
    "        logger.error(\"BERTopic model is None, cannot create visualizations.\")\n",
    "        return False\n",
    "\n",
    "    vis_successful = False\n",
    "\n",
    "    # Create topic similarity map\n",
    "    try:\n",
    "        logger.info(\"Creating BERTopic: Topic Similarity Map...\")\n",
    "        fig_similarity = topic_model.visualize_topics()\n",
    "        if fig_similarity:\n",
    "            output_path = os.path.join(output_dir, \"bertopic_similarity_map.html\")\n",
    "            fig_similarity.write_html(output_path)\n",
    "            logger.info(f\"Topic Similarity Map saved to {output_path}\")\n",
    "            if display_inline:\n",
    "                fig_similarity.show()\n",
    "            vis_successful = True\n",
    "        else:\n",
    "            logger.warning(\"Could not generate topic similarity map.\")\n",
    "    except Exception as e:\n",
    "        logger.error(f\"Error creating topic similarity visualization: {str(e)}\")\n",
    "\n",
    "    # Create barcharts for top topics\n",
    "    try:\n",
    "        logger.info(\"Creating BERTopic: Topic Barchart...\")\n",
    "        # Use custom_labels=True if your model has them set, otherwise False\n",
    "        # Check if custom labels exist before trying to use them\n",
    "        has_custom_labels = topic_model.custom_labels_ is not None\n",
    "        fig_barchart = topic_model.visualize_barchart(top_n_topics=12, custom_labels=has_custom_labels, height=400)\n",
    "        if fig_barchart:\n",
    "            output_path = os.path.join(output_dir, \"bertopic_barchart.html\")\n",
    "            fig_barchart.write_html(output_path)\n",
    "            logger.info(f\"Topic Barchart saved to {output_path}\")\n",
    "            if display_inline:\n",
    "                fig_barchart.show()\n",
    "            vis_successful = True\n",
    "        else:\n",
    "            logger.warning(\"Could not generate topic barchart.\")\n",
    "    except Exception as e:\n",
    "        logger.error(f\"Error creating barchart visualization: {str(e)}\")\n",
    "\n",
    "    # Create topic word scores (Term Rank) - Usually generates multiple plots, harder to show inline\n",
    "    logger.info(\"Creating BERTopic: Term Rank Charts (saving to files)...\")\n",
    "    try:\n",
    "        topics_to_visualize = sorted(set(topic_model.topics_))\n",
    "        term_rank_saved = False\n",
    "        for topic_id in topics_to_visualize:\n",
    "            if topic_id != -1:  # Skip outlier topic\n",
    "                try:\n",
    "                    # Use custom_labels=True if available\n",
    "                    has_custom_labels = topic_model.custom_labels_ is not None\n",
    "                    fig_term_rank = topic_model.visualize_term_rank(topics=[topic_id], custom_labels=has_custom_labels)\n",
    "                    if fig_term_rank:\n",
    "                        output_path = os.path.join(output_dir, f\"bertopic_term_rank_topic_{topic_id}.html\")\n",
    "                        fig_term_rank.write_html(output_path)\n",
    "                        term_rank_saved = True\n",
    "                        # fig_term_rank.show() # Showing potentially many plots inline might be too much\n",
    "                except Exception as e_inner:\n",
    "                     logger.warning(f\"Could not generate term rank for topic {topic_id}: {e_inner}\")\n",
    "        if term_rank_saved:\n",
    "             logger.info(f\"Term Rank charts saved to {output_dir}\")\n",
    "             vis_successful = True # Mark as successful if at least one saved\n",
    "        else:\n",
    "             logger.warning(\"Could not save any term rank charts.\")\n",
    "\n",
    "    except Exception as e:\n",
    "        logger.error(f\"Error creating term rank visualizations: {str(e)}\")\n",
    "\n",
    "    # Hierarchical clustering visualization (often requires original documents, might fail)\n",
    "    # logger.info(\"Attempting BERTopic: Hierarchical Clustering...\")\n",
    "    # try:\n",
    "    #     # Reduce topics first for a cleaner hierarchy if many topics exist\n",
    "    #     if len(topic_model.get_topic_info()) > 50: # Example threshold\n",
    "    #          hierarchical_topics = topic_model.hierarchical_topics(docs) # Requires original 'docs'\n",
    "    #     else:\n",
    "    #          hierarchical_topics = topic_model.hierarchical_topics() # Might still need docs\n",
    "    #\n",
    "    #     fig_hierarchy = topic_model.visualize_hierarchy(hierarchical_topics=hierarchical_topics)\n",
    "    #     if fig_hierarchy:\n",
    "    #         output_path = os.path.join(output_dir, \"bertopic_hierarchy.html\")\n",
    "    #         fig_hierarchy.write_html(output_path)\n",
    "    #         logger.info(f\"Topic Hierarchy saved to {output_path}\")\n",
    "    #         if display_inline:\n",
    "    #             fig_hierarchy.show()\n",
    "    #         vis_successful = True\n",
    "    #     else:\n",
    "    #          logger.warning(\"Could not generate topic hierarchy chart.\")\n",
    "    # except Exception as e:\n",
    "    #     logger.warning(f\"Could not create hierarchical visualization (may require original docs): {str(e)}\")\n",
    "\n",
    "    return vis_successful"
   ]
  },
  {
   "cell_type": "code",
   "execution_count": 16,
   "metadata": {},
   "outputs": [],
   "source": [
    "# Function from sentiment_visualizations.py\n",
    "# Mapping between Dutch and English sentiment labels for consistency\n",
    "SENTIMENT_MAPPING = {\n",
    "    # Dutch to English (ensure lowercase for matching)\n",
    "    'positief': 'positive',\n",
    "    'neutraal': 'neutral',\n",
    "    'negatief': 'negative',\n",
    "    'gemengd': 'mixed',\n",
    "    # English to Dutch (or just ensure consistent output, e.g., always English)\n",
    "    'positive': 'positive', # Keep consistent\n",
    "    'neutral': 'neutral',   # Keep consistent\n",
    "    'negative': 'negative', # Keep consistent\n",
    "    'mixed': 'mixed',       # Keep consistent\n",
    "    # Add potential variations if needed\n",
    "    'Positive': 'positive',\n",
    "    'Neutral': 'neutral',\n",
    "    'Negative': 'negative',\n",
    "    'Mixed': 'mixed',\n",
    "}\n",
    "\n",
    "def normalize_sentiment_labels(df):\n",
    "    \"\"\"\n",
    "    Ensure consistent sentiment labels (lowercase English) by mapping Dutch/English variations.\n",
    "    If a label isn't in our mapping, leave it as is but convert to lowercase.\n",
    "\n",
    "    Args:\n",
    "        df: DataFrame with sentiment columns\n",
    "\n",
    "    Returns:\n",
    "        DataFrame with normalized sentiment labels\n",
    "    \"\"\"\n",
    "    df_copy = df.copy()\n",
    "    sentiment_cols = [col for col in ['llm_sentiment', 'bert_sentiment', 'sentiment'] if col in df_copy.columns]\n",
    "\n",
    "    for col in sentiment_cols:\n",
    "        # Apply mapping, converting to lowercase first for better matching\n",
    "        # If not found in map, keep original value but ensure lowercase\n",
    "        df_copy[col] = df_copy[col].astype(str).str.lower().map(\n",
    "            lambda x: SENTIMENT_MAPPING.get(x, x)\n",
    "        )\n",
    "        logger.info(f\"Normalized '{col}'. Unique values now: {df_copy[col].unique()}\")\n",
    "\n",
    "    return df_copy"
   ]
  },
  {
   "cell_type": "code",
   "execution_count": 17,
   "metadata": {},
   "outputs": [],
   "source": [
    "# Function from sentiment_visualizations.py (modified for inline display)\n",
    "\n",
    "# Dutch UI text (ensure this is defined before the function if not already)\n",
    "DUTCH_LABELS = {\n",
    "    'dashboard_title': 'LLM vs. BERT Sentimentanalyse Vergelijking',\n",
    "    'sentiment_distribution': 'LLM vs. BERT Sentimentverdeling',\n",
    "    'sentiment_agreement': 'Sentimentovereenstemming per Onderwerp',\n",
    "    'score_correlation': 'Sentimentscore Correlatie',\n",
    "    'confidence_comparison': 'Vergelijking van Betrouwbaarheidsscores',\n",
    "    'sentiment': 'Sentiment',\n",
    "    'count': 'Aantal',\n",
    "    'agreement': 'Overeenkomst (%)',\n",
    "    'topic': 'Onderwerp',\n",
    "    'llm_score': 'LLM Score',\n",
    "    'bert_score': 'BERT Score',\n",
    "    'text': 'Tekst',\n",
    "    'perfect_correlation': 'Perfecte correlatie',\n",
    "    'correlation': 'Correlatie',\n",
    "    'model_sentiment': 'Model & Sentiment',\n",
    "    'confidence': 'Absolute Betrouwbaarheidsscore', # Adjusted label\n",
    "    'confusion_title': 'LLM vs. BERT Sentiment Confusion Matrix',\n",
    "    'bert_prediction': 'BERT Sentiment Voorspelling',\n",
    "    'llm_assignment': 'LLM Sentiment Toekenning',\n",
    "    'percentage': 'Percentage (%)',\n",
    "    'topic_sentiment_title': 'LLM vs. BERT Sentimentverdeling per Onderwerp'\n",
    "}\n",
    "\n",
    "# Fallback English labels\n",
    "ENGLISH_LABELS = {\n",
    "    'dashboard_title': 'LLM vs. BERT Sentiment Analysis Comparison',\n",
    "    'sentiment_distribution': 'LLM vs. BERT Sentiment Distribution',\n",
    "    'sentiment_agreement': 'Sentiment Agreement by Topic',\n",
    "    'score_correlation': 'Sentiment Score Correlation',\n",
    "    'confidence_comparison': 'Sentiment Confidence Comparison',\n",
    "    'sentiment': 'Sentiment',\n",
    "    'count': 'Count',\n",
    "    'agreement': 'Agreement (%)',\n",
    "    'topic': 'Topic',\n",
    "    'llm_score': 'LLM Score',\n",
    "    'bert_score': 'BERT Score',\n",
    "    'text': 'Text',\n",
    "    'perfect_correlation': 'Perfect correlation',\n",
    "    'correlation': 'Correlation',\n",
    "    'model_sentiment': 'Model & Sentiment',\n",
    "    'confidence': 'Absolute Confidence Score',\n",
    "    'confusion_title': 'LLM vs. BERT Sentiment Confusion Matrix',\n",
    "    'bert_prediction': 'BERT Sentiment Prediction',\n",
    "    'llm_assignment': 'LLM Sentiment Assignment',\n",
    "    'percentage': 'Percentage (%)',\n",
    "    'topic_sentiment_title': 'LLM vs. BERT Sentiment Distribution by Topic'\n",
    "}\n",
    "\n",
    "\n",
    "def create_sentiment_comparison_dashboard(df, output_file=\"sentiment_comparison.html\", use_dutch=False, display_inline=True):\n",
    "    \"\"\"\n",
    "    Create a dashboard comparing LLM and BERT sentiment analysis.\n",
    "\n",
    "    Args:\n",
    "        df: DataFrame with both LLM and BERT sentiment columns (e.g., 'llm_sentiment', 'bert_sentiment')\n",
    "            and their corresponding score columns (e.g., 'llm_sentiment_score', 'bert_sentiment_score').\n",
    "            Requires 'topic_name' and 'combined_text' as well.\n",
    "        output_file: Path to save the output HTML file\n",
    "        use_dutch: Whether to use Dutch labels in the visualizations\n",
    "        display_inline: Whether to show the plot in the notebook output\n",
    "    \"\"\"\n",
    "    required_cols = ['llm_sentiment', 'bert_sentiment', 'llm_sentiment_score', 'bert_sentiment_score', 'topic_name', 'combined_text']\n",
    "    if not all(col in df.columns for col in required_cols):\n",
    "        logger.error(f\"Dashboard requires columns: {required_cols}. Found: {df.columns.tolist()}\")\n",
    "        print(f\"Error: Dashboard requires columns: {required_cols}. Found: {df.columns.tolist()}\") # Also print error\n",
    "        return None\n",
    "\n",
    "    # Normalize sentiment labels first\n",
    "    df_norm = normalize_sentiment_labels(df) # Use the function defined previously\n",
    "\n",
    "    # Select language labels\n",
    "    labels = DUTCH_LABELS if use_dutch else ENGLISH_LABELS\n",
    "\n",
    "    try:\n",
    "        # Create subplots with 2 rows and 2 columns\n",
    "        fig = make_subplots(\n",
    "            rows=2, cols=2,\n",
    "            subplot_titles=[\n",
    "                labels['sentiment_distribution'],\n",
    "                labels['sentiment_agreement'],\n",
    "                labels['score_correlation'],\n",
    "                labels['confidence_comparison']\n",
    "            ],\n",
    "            specs=[\n",
    "                [{\"type\": \"bar\"}, {\"type\": \"bar\"}],\n",
    "                [{\"type\": \"scatter\"}, {\"type\": \"box\"}]\n",
    "            ],\n",
    "            vertical_spacing=0.15,\n",
    "            horizontal_spacing=0.1\n",
    "        )\n",
    "\n",
    "        # 1. Compare sentiment distributions (LLM vs BERT)\n",
    "        llm_counts = df_norm['llm_sentiment'].value_counts().sort_index()\n",
    "        bert_counts = df_norm['bert_sentiment'].value_counts().sort_index()\n",
    "\n",
    "        # Ensure all categories are represented\n",
    "        all_sentiments = sorted(set(list(llm_counts.index) + list(bert_counts.index)))\n",
    "        llm_counts = llm_counts.reindex(all_sentiments, fill_value=0)\n",
    "        bert_counts = bert_counts.reindex(all_sentiments, fill_value=0)\n",
    "\n",
    "        fig.add_trace(\n",
    "            go.Bar(\n",
    "                x=all_sentiments,\n",
    "                y=llm_counts.values,\n",
    "                name=\"LLM\", # Simpler name\n",
    "                marker_color='#636EFA'\n",
    "            ),\n",
    "            row=1, col=1\n",
    "        )\n",
    "\n",
    "        fig.add_trace(\n",
    "            go.Bar(\n",
    "                x=all_sentiments,\n",
    "                y=bert_counts.values,\n",
    "                name=\"BERT\", # Simpler name\n",
    "                marker_color='#EF553B'\n",
    "            ),\n",
    "            row=1, col=1\n",
    "        )\n",
    "        fig.update_xaxes(title_text=labels['sentiment'], row=1, col=1)\n",
    "        fig.update_yaxes(title_text=labels['count'], row=1, col=1)\n",
    "\n",
    "\n",
    "        # 2. Agreement by topic\n",
    "        # Calculate agreement percentage by topic\n",
    "        topic_agreement = df_norm.groupby('topic_name').apply(\n",
    "            lambda x: (x['llm_sentiment'] == x['bert_sentiment']).mean() * 100 if len(x) > 0 else 0\n",
    "        ).reset_index()\n",
    "        topic_agreement.columns = ['topic_name', 'agreement_percent']\n",
    "\n",
    "        # Add topic counts for context\n",
    "        topic_counts = df_norm['topic_name'].value_counts().reset_index()\n",
    "        topic_counts.columns = ['topic_name', 'topic_count']\n",
    "        topic_agreement = pd.merge(topic_agreement, topic_counts, on='topic_name', how='left')\n",
    "\n",
    "\n",
    "        # Sort by agreement, show top/bottom N topics might be better\n",
    "        topic_agreement = topic_agreement.sort_values('agreement_percent', ascending=True)\n",
    "        # Keep limited number for readability\n",
    "        n_topics_to_show = min(len(topic_agreement), 15)\n",
    "        topic_agreement_display = topic_agreement.tail(n_topics_to_show)\n",
    "\n",
    "\n",
    "        fig.add_trace(\n",
    "            go.Bar(\n",
    "                x=topic_agreement_display['agreement_percent'],\n",
    "                y=topic_agreement_display['topic_name'],\n",
    "                text=topic_agreement_display['topic_count'].astype(str) + ' docs', # Show count on bar\n",
    "                textposition='outside',\n",
    "                orientation='h',\n",
    "                marker_color='#00CC96'\n",
    "            ),\n",
    "            row=1, col=2\n",
    "        )\n",
    "        fig.update_xaxes(title_text=labels['agreement'], range=[0,105], row=1, col=2)\n",
    "        fig.update_yaxes(title_text=labels['topic'], categoryorder='total ascending', row=1, col=2)\n",
    "\n",
    "\n",
    "        # 3. Sentiment score correlation\n",
    "        # Ensure scores are numeric\n",
    "        df_norm['llm_sentiment_score'] = pd.to_numeric(df_norm['llm_sentiment_score'], errors='coerce')\n",
    "        df_norm['bert_sentiment_score'] = pd.to_numeric(df_norm['bert_sentiment_score'], errors='coerce')\n",
    "        df_corr = df_norm.dropna(subset=['llm_sentiment_score', 'bert_sentiment_score']) # Drop rows where scores aren't numeric\n",
    "\n",
    "        fig.add_trace(\n",
    "            go.Scatter(\n",
    "                x=df_corr['llm_sentiment_score'],\n",
    "                y=df_corr['bert_sentiment_score'],\n",
    "                mode='markers',\n",
    "                opacity=0.6,\n",
    "                marker=dict(\n",
    "                    size=7,\n",
    "                    color=df_corr['bert_sentiment'].map({'positive': 'green', 'negative': 'red', 'neutral': 'grey'}), # Color by BERT sentiment\n",
    "                    # colorscale='Viridis', # Alternative coloring\n",
    "                    showscale=False\n",
    "                ),\n",
    "                text=df_corr['combined_text'].str[:100] + '...', # Longer hover text\n",
    "                hovertemplate=(f\"<b>LLM:</b> %{{x:.2f}} (<i>{df_corr['llm_sentiment']}</i>)<br>\"\n",
    "                               f\"<b>BERT:</b> %{{y:.2f}} (<i>{df_corr['bert_sentiment']}</i>)<br>\"\n",
    "                               f\"<b>Text:</b> %{{text}}<extra></extra>\")\n",
    "            ),\n",
    "            row=2, col=1\n",
    "        )\n",
    "\n",
    "        # Add correlation line and coefficient if possible\n",
    "        if not df_corr.empty:\n",
    "             corr = df_corr['llm_sentiment_score'].corr(df_corr['bert_sentiment_score'])\n",
    "             min_val = min(df_corr['llm_sentiment_score'].min(), df_corr['bert_sentiment_score'].min())\n",
    "             max_val = max(df_corr['llm_sentiment_score'].max(), df_corr['bert_sentiment_score'].max())\n",
    "\n",
    "             fig.add_trace(\n",
    "                 go.Scatter(\n",
    "                     x=[min_val, max_val], y=[min_val, max_val],\n",
    "                     mode='lines', line=dict(color='rgba(0,0,0,0.5)', dash='dash'),\n",
    "                     name=labels['perfect_correlation'], showlegend=False\n",
    "                 ), row=2, col=1\n",
    "             )\n",
    "             fig.add_annotation(\n",
    "                 xref=\"x domain\", yref=\"y domain\",\n",
    "                 x=0.05, y=0.95, # Position in domain coords\n",
    "                 text=f\"{labels['correlation']}: {corr:.2f}\", showarrow=False,\n",
    "                 font=dict(size=12), bgcolor=\"rgba(255,255,255,0.7)\",\n",
    "                 row=2, col=1\n",
    "            )\n",
    "        fig.update_xaxes(title_text=labels['llm_score'], row=2, col=1)\n",
    "        fig.update_yaxes(title_text=labels['bert_score'], row=2, col=1, scaleanchor=\"x2\", scaleratio=1) # Ensure square aspect ratio if desired\n",
    "\n",
    "\n",
    "        # 4. Confidence comparison (boxplot) using absolute scores\n",
    "        scores_data = pd.DataFrame({\n",
    "            'Source': ['LLM'] * len(df_norm) + ['BERT'] * len(df_norm),\n",
    "            'Sentiment': list(df_norm['llm_sentiment']) + list(df_norm['bert_sentiment']),\n",
    "            'Confidence': list(np.abs(pd.to_numeric(df_norm['llm_sentiment_score'], errors='coerce'))) + \\\n",
    "                          list(np.abs(pd.to_numeric(df_norm['bert_sentiment_score'], errors='coerce'))),\n",
    "        }).dropna(subset=['Confidence']) # Drop rows where conversion failed\n",
    "\n",
    "        fig.add_trace(\n",
    "            go.Box(\n",
    "                x=scores_data['Sentiment'],\n",
    "                y=scores_data['Confidence'],\n",
    "                color=scores_data['Source'], # Group boxes by source (LLM/BERT)\n",
    "                boxmean=True, # Show mean\n",
    "                name=\"Confidence Scores\" # Legend entry\n",
    "            ),\n",
    "            row=2, col=2\n",
    "        )\n",
    "        fig.update_xaxes(title_text=labels['sentiment'], categoryorder='array', categoryarray=['negative', 'neutral', 'positive'], row=2, col=2)\n",
    "        fig.update_yaxes(title_text=labels['confidence'], row=2, col=2)\n",
    "\n",
    "\n",
    "        # Update layout\n",
    "        fig.update_layout(\n",
    "            title_text=labels['dashboard_title'],\n",
    "            height=700, # Adjust height if needed\n",
    "            # width=1000,\n",
    "            showlegend=True,\n",
    "            legend=dict(orientation=\"h\", yanchor=\"bottom\", y=1.02, xanchor=\"right\", x=1),\n",
    "            boxmode='group' # Group boxes for confidence plot\n",
    "        )\n",
    "\n",
    "        # Save to file\n",
    "        if output_file:\n",
    "            fig.write_html(output_file)\n",
    "            logger.info(f\"Sentiment comparison dashboard saved to {output_file}\")\n",
    "\n",
    "        if display_inline:\n",
    "            fig.show()\n",
    "\n",
    "        return fig\n",
    "\n",
    "    except Exception as e:\n",
    "        logger.error(f\"Error creating sentiment comparison dashboard: {e}\")\n",
    "        import traceback\n",
    "        traceback.print_exc() # Print detailed traceback\n",
    "        return None\n"
   ]
  },
  {
   "cell_type": "code",
   "execution_count": 18,
   "metadata": {},
   "outputs": [],
   "source": [
    "# Function from sentiment_visualizations.py (modified for inline display)\n",
    "\n",
    "def create_confusion_matrix(df, output_file=\"confusion_matrix.html\", use_dutch=False, display_inline=True):\n",
    "    \"\"\"\n",
    "    Create a confusion matrix heatmap comparing LLM and BERT sentiment predictions.\n",
    "\n",
    "    Args:\n",
    "        df: DataFrame with normalized 'llm_sentiment' and 'bert_sentiment' columns.\n",
    "        output_file: Path to save the output HTML file.\n",
    "        use_dutch: Whether to use Dutch labels.\n",
    "        display_inline: Whether to show the plot in the notebook output.\n",
    "    \"\"\"\n",
    "    required_cols = ['llm_sentiment', 'bert_sentiment']\n",
    "    if not all(col in df.columns for col in required_cols):\n",
    "        logger.error(f\"Confusion matrix requires columns: {required_cols}. Found: {df.columns.tolist()}\")\n",
    "        print(f\"Error: Confusion matrix requires columns: {required_cols}. Found: {df.columns.tolist()}\")\n",
    "        return None\n",
    "\n",
    "    # Ensure labels are normalized\n",
    "    df_norm = normalize_sentiment_labels(df)\n",
    "\n",
    "    # Select language labels\n",
    "    labels = DUTCH_LABELS if use_dutch else ENGLISH_LABELS\n",
    "\n",
    "    try:\n",
    "        from sklearn.metrics import confusion_matrix as sk_confusion_matrix\n",
    "\n",
    "        # Define the order of labels\n",
    "        sentiment_order = ['positive', 'neutral', 'negative', 'mixed'] # Add 'mixed' if present\n",
    "        present_sentiments = sorted([s for s in df_norm['llm_sentiment'].unique() if s in sentiment_order] + \\\n",
    "                                    [s for s in df_norm['bert_sentiment'].unique() if s in sentiment_order])\n",
    "        # Keep only unique present sentiments in the desired order\n",
    "        unique_present_sentiments = sorted(list(set(present_sentiments)), key=lambda x: sentiment_order.index(x) if x in sentiment_order else 99)\n",
    "\n",
    "\n",
    "        # Calculate confusion matrix\n",
    "        cm = sk_confusion_matrix(\n",
    "            df_norm['llm_sentiment'],\n",
    "            df_norm['bert_sentiment'],\n",
    "            labels=unique_present_sentiments # Use the defined order\n",
    "        )\n",
    "\n",
    "        # Calculate percentages for annotation text\n",
    "        cm_sum = np.sum(cm, axis=1, keepdims=True)\n",
    "        cm_perc = cm / np.maximum(cm_sum, 1) * 100 # Avoid division by zero\n",
    "\n",
    "        # Create annotations (count and percentage)\n",
    "        annotations = []\n",
    "        for i in range(cm.shape[0]):\n",
    "            for j in range(cm.shape[1]):\n",
    "                annotations.append(\n",
    "                    dict(\n",
    "                        x=unique_present_sentiments[j],\n",
    "                        y=unique_present_sentiments[i],\n",
    "                        text=f\"{cm[i, j]}<br>({cm_perc[i, j]:.1f}%)\", # Count and Percentage\n",
    "                        showarrow=False,\n",
    "                        font=dict(color=\"white\" if cm_perc[i,j] > 50 else \"black\") # Adjust text color based on cell darkness\n",
    "                    )\n",
    "                )\n",
    "\n",
    "        # Create heatmap figure\n",
    "        fig = px.imshow(\n",
    "            cm_perc, # Color based on percentage\n",
    "            labels=dict(x=labels['bert_prediction'], y=labels['llm_assignment'], color=labels['percentage']),\n",
    "            x=unique_present_sentiments,\n",
    "            y=unique_present_sentiments,\n",
    "            text_auto=False, # Disable default text auto-display\n",
    "            color_continuous_scale=px.colors.sequential.Blues, # Choose a colorscale\n",
    "            aspect=\"auto\"\n",
    "        )\n",
    "\n",
    "        # Add custom annotations\n",
    "        fig.update_layout(\n",
    "            title=labels['confusion_title'],\n",
    "            xaxis_title=labels['bert_prediction'],\n",
    "            yaxis_title=labels['llm_assignment'],\n",
    "            annotations=annotations\n",
    "         )\n",
    "        # Ensure axis labels match the order\n",
    "        fig.update_xaxes(side=\"bottom\", type='category')\n",
    "        fig.update_yaxes(type='category')\n",
    "\n",
    "\n",
    "        # Save to file\n",
    "        if output_file:\n",
    "            fig.write_html(output_file)\n",
    "            logger.info(f\"Confusion matrix saved to {output_file}\")\n",
    "\n",
    "        if display_inline:\n",
    "            fig.show()\n",
    "\n",
    "        return fig\n",
    "\n",
    "    except ImportError:\n",
    "         logger.error(\"Scikit-learn library not found. Please install it using 'pip install scikit-learn'\")\n",
    "         print(\"Error: Scikit-learn library not found. Please install it using 'pip install scikit-learn'\")\n",
    "         return None\n",
    "    except Exception as e:\n",
    "        logger.error(f\"Error creating confusion matrix: {e}\")\n",
    "        import traceback\n",
    "        traceback.print_exc()\n",
    "        return None\n"
   ]
  },
  {
   "cell_type": "code",
   "execution_count": 19,
   "metadata": {},
   "outputs": [],
   "source": [
    "# Function from sentiment_visualizations.py (modified for inline display)\n",
    "\n",
    "def create_topic_sentiment_comparison(df, output_file=\"topic_sentiment_comparison.html\", use_dutch=False, display_inline=True):\n",
    "    \"\"\"\n",
    "    Create grouped bar charts comparing LLM vs BERT sentiment for each topic.\n",
    "\n",
    "    Args:\n",
    "        df: DataFrame with normalized 'llm_sentiment', 'bert_sentiment', and 'topic_name' columns.\n",
    "        output_file: Path to save the output HTML file.\n",
    "        use_dutch: Whether to use Dutch labels.\n",
    "        display_inline: Whether to show the plot in the notebook output.\n",
    "    \"\"\"\n",
    "    required_cols = ['llm_sentiment', 'bert_sentiment', 'topic_name']\n",
    "    if not all(col in df.columns for col in required_cols):\n",
    "        logger.error(f\"Topic sentiment comparison requires columns: {required_cols}. Found: {df.columns.tolist()}\")\n",
    "        print(f\"Error: Topic sentiment comparison requires columns: {required_cols}. Found: {df.columns.tolist()}\")\n",
    "        return None\n",
    "\n",
    "    # Ensure labels are normalized\n",
    "    df_norm = normalize_sentiment_labels(df)\n",
    "\n",
    "    # Select language labels\n",
    "    labels = DUTCH_LABELS if use_dutch else ENGLISH_LABELS\n",
    "\n",
    "    try:\n",
    "        # Calculate counts for LLM and BERT sentiment per topic\n",
    "        counts = df_norm.groupby('topic_name').agg(\n",
    "            llm_positive=('llm_sentiment', lambda x: (x == 'positive').sum()),\n",
    "            llm_neutral=('llm_sentiment', lambda x: (x == 'neutral').sum()),\n",
    "            llm_negative=('llm_sentiment', lambda x: (x == 'negative').sum()),\n",
    "            bert_positive=('bert_sentiment', lambda x: (x == 'positive').sum()),\n",
    "            bert_neutral=('bert_sentiment', lambda x: (x == 'neutral').sum()),\n",
    "            bert_negative=('bert_sentiment', lambda x: (x == 'negative').sum()),\n",
    "            total_count=('topic_name', 'size') # Get total count per topic\n",
    "        ).reset_index()\n",
    "\n",
    "        # Sort topics by total count for better visualization\n",
    "        counts = counts.sort_values('total_count', ascending=False)\n",
    "\n",
    "        # Keep top N topics for readability if too many\n",
    "        n_topics_display = min(20, len(counts))\n",
    "        counts_display = counts.head(n_topics_display)\n",
    "\n",
    "        # Create figure\n",
    "        fig = go.Figure()\n",
    "\n",
    "        # Add bars for LLM\n",
    "        fig.add_trace(go.Bar(name='LLM Positive', x=counts_display['topic_name'], y=counts_display['llm_positive'], marker_color='lightgreen'))\n",
    "        fig.add_trace(go.Bar(name='LLM Neutral', x=counts_display['topic_name'], y=counts_display['llm_neutral'], marker_color='lightgrey'))\n",
    "        fig.add_trace(go.Bar(name='LLM Negative', x=counts_display['topic_name'], y=counts_display['llm_negative'], marker_color='lightcoral'))\n",
    "\n",
    "        # Add bars for BERT (offset slightly or use different pattern - difficult with standard bar)\n",
    "        # Alternative: Stacked or separate charts might be clearer. Let's use stacked for now.\n",
    "        # Re-creating fig for stacked layout:\n",
    "        fig = go.Figure()\n",
    "        # LLM Bars (Stacked)\n",
    "        fig.add_trace(go.Bar(name='LLM Negative', x=counts_display['topic_name'], y=counts_display['llm_negative'], marker_color='red', legendgroup='LLM', legendgrouptitle_text='LLM'))\n",
    "        fig.add_trace(go.Bar(name='LLM Neutral', x=counts_display['topic_name'], y=counts_display['llm_neutral'], marker_color='grey', legendgroup='LLM'))\n",
    "        fig.add_trace(go.Bar(name='LLM Positive', x=counts_display['topic_name'], y=counts_display['llm_positive'], marker_color='green', legendgroup='LLM'))\n",
    "\n",
    "        # BERT Bars (Stacked - will stack on top of LLM, need adjustment or separate plot)\n",
    "        # Plotting side-by-side grouped bars is better here. Re-adjust fig creation.\n",
    "\n",
    "        fig = go.Figure()\n",
    "        bar_width = 0.3\n",
    "\n",
    "        # LLM Bars\n",
    "        fig.add_trace(go.Bar(\n",
    "            name='LLM Positive', x=counts_display['topic_name'], y=counts_display['llm_positive'],\n",
    "            marker_color='lightgreen', legendgroup='LLM', legendgrouptitle_text='LLM',\n",
    "            offsetgroup=0, base=0 # Use offsetgroup for side-by-side\n",
    "        ))\n",
    "        fig.add_trace(go.Bar(\n",
    "            name='LLM Neutral', x=counts_display['topic_name'], y=counts_display['llm_neutral'],\n",
    "             marker_color='lightgrey', legendgroup='LLM', base=counts_display['llm_positive'],\n",
    "             offsetgroup=0\n",
    "        ))\n",
    "        fig.add_trace(go.Bar(\n",
    "            name='LLM Negative', x=counts_display['topic_name'], y=counts_display['llm_negative'],\n",
    "             marker_color='lightcoral', legendgroup='LLM', base=counts_display['llm_positive'] + counts_display['llm_neutral'],\n",
    "             offsetgroup=0\n",
    "        ))\n",
    "\n",
    "\n",
    "        # BERT Bars (Shifted using offsetgroup)\n",
    "        fig.add_trace(go.Bar(\n",
    "            name='BERT Positive', x=counts_display['topic_name'], y=counts_display['bert_positive'],\n",
    "            marker_color='darkgreen', legendgroup='BERT', legendgrouptitle_text='BERT',\n",
    "            offsetgroup=1, base=0\n",
    "        ))\n",
    "        fig.add_trace(go.Bar(\n",
    "            name='BERT Neutral', x=counts_display['topic_name'], y=counts_display['bert_neutral'],\n",
    "            marker_color='darkgrey', legendgroup='BERT', base=counts_display['bert_positive'],\n",
    "            offsetgroup=1\n",
    "        ))\n",
    "        fig.add_trace(go.Bar(\n",
    "             name='BERT Negative', x=counts_display['topic_name'], y=counts_display['bert_negative'],\n",
    "            marker_color='darkred', legendgroup='BERT', base=counts_display['bert_positive'] + counts_display['bert_neutral'],\n",
    "            offsetgroup=1\n",
    "        ))\n",
    "\n",
    "        # Update layout for grouped stacked bars\n",
    "        fig.update_layout(\n",
    "            barmode='relative', # Bars are relative within their offset group\n",
    "            title=labels['topic_sentiment_title'],\n",
    "            xaxis_title=labels['topic'],\n",
    "            yaxis_title=labels['count'],\n",
    "            legend_title=\"Model & Sentiment\",\n",
    "            xaxis_tickangle=-45 # Angle ticks if too many topics\n",
    "        )\n",
    "\n",
    "        # Save to file\n",
    "        if output_file:\n",
    "            fig.write_html(output_file)\n",
    "            logger.info(f\"Topic sentiment comparison saved to {output_file}\")\n",
    "\n",
    "        if display_inline:\n",
    "            fig.show()\n",
    "\n",
    "        return fig\n",
    "\n",
    "    except Exception as e:\n",
    "        logger.error(f\"Error creating topic sentiment comparison: {e}\")\n",
    "        import traceback\n",
    "        traceback.print_exc()\n",
    "        return None\n"
   ]
  },
  {
   "cell_type": "code",
   "execution_count": 20,
   "metadata": {},
   "outputs": [
    {
     "name": "stderr",
     "output_type": "stream",
     "text": [
      "2025-03-29 00:43:37,194 - New Data Processor Notebook - INFO - Generating visualizations...\n",
      "2025-03-29 00:43:37,197 - New Data Processor Notebook - INFO - Creating Topic Distribution Chart...\n",
      "2025-03-29 00:43:37,283 - New Data Processor Notebook - INFO - Topic distribution chart saved to /Users/DINGZEEFS/Documents/Fine_tuning_odido/output_dir/new_data_notebook_results/visualizations/new_data_topic_distribution.html\n"
     ]
    },
    {
     "data": {
      "application/vnd.plotly.v1+json": {
       "config": {
        "plotlyServerURL": "https://plot.ly"
       },
       "data": [
        {
         "hovertemplate": "Number of Comments=%{text}<br>Topic=%{y}<extra></extra>",
         "legendgroup": "",
         "marker": {
          "color": "#636efa",
          "pattern": {
           "shape": ""
          }
         },
         "name": "",
         "orientation": "h",
         "showlegend": false,
         "text": {
          "bdata": "AAAAAAAAIEAAAAAAAAAYQAAAAAAAABRAAAAAAAAA8D8=",
          "dtype": "f8"
         },
         "textposition": "outside",
         "type": "bar",
         "x": {
          "bdata": "CAYFAQ==",
          "dtype": "i1"
         },
         "xaxis": "x",
         "y": [
          "Productkwaliteit & Ervaring",
          "Customer Service",
          "Prijs & Kosten",
          "Overig"
         ],
         "yaxis": "y"
        }
       ],
       "layout": {
        "barmode": "relative",
        "legend": {
         "tracegroupgap": 0
        },
        "template": {
         "data": {
          "bar": [
           {
            "error_x": {
             "color": "#2a3f5f"
            },
            "error_y": {
             "color": "#2a3f5f"
            },
            "marker": {
             "line": {
              "color": "#E5ECF6",
              "width": 0.5
             },
             "pattern": {
              "fillmode": "overlay",
              "size": 10,
              "solidity": 0.2
             }
            },
            "type": "bar"
           }
          ],
          "barpolar": [
           {
            "marker": {
             "line": {
              "color": "#E5ECF6",
              "width": 0.5
             },
             "pattern": {
              "fillmode": "overlay",
              "size": 10,
              "solidity": 0.2
             }
            },
            "type": "barpolar"
           }
          ],
          "carpet": [
           {
            "aaxis": {
             "endlinecolor": "#2a3f5f",
             "gridcolor": "white",
             "linecolor": "white",
             "minorgridcolor": "white",
             "startlinecolor": "#2a3f5f"
            },
            "baxis": {
             "endlinecolor": "#2a3f5f",
             "gridcolor": "white",
             "linecolor": "white",
             "minorgridcolor": "white",
             "startlinecolor": "#2a3f5f"
            },
            "type": "carpet"
           }
          ],
          "choropleth": [
           {
            "colorbar": {
             "outlinewidth": 0,
             "ticks": ""
            },
            "type": "choropleth"
           }
          ],
          "contour": [
           {
            "colorbar": {
             "outlinewidth": 0,
             "ticks": ""
            },
            "colorscale": [
             [
              0,
              "#0d0887"
             ],
             [
              0.1111111111111111,
              "#46039f"
             ],
             [
              0.2222222222222222,
              "#7201a8"
             ],
             [
              0.3333333333333333,
              "#9c179e"
             ],
             [
              0.4444444444444444,
              "#bd3786"
             ],
             [
              0.5555555555555556,
              "#d8576b"
             ],
             [
              0.6666666666666666,
              "#ed7953"
             ],
             [
              0.7777777777777778,
              "#fb9f3a"
             ],
             [
              0.8888888888888888,
              "#fdca26"
             ],
             [
              1,
              "#f0f921"
             ]
            ],
            "type": "contour"
           }
          ],
          "contourcarpet": [
           {
            "colorbar": {
             "outlinewidth": 0,
             "ticks": ""
            },
            "type": "contourcarpet"
           }
          ],
          "heatmap": [
           {
            "colorbar": {
             "outlinewidth": 0,
             "ticks": ""
            },
            "colorscale": [
             [
              0,
              "#0d0887"
             ],
             [
              0.1111111111111111,
              "#46039f"
             ],
             [
              0.2222222222222222,
              "#7201a8"
             ],
             [
              0.3333333333333333,
              "#9c179e"
             ],
             [
              0.4444444444444444,
              "#bd3786"
             ],
             [
              0.5555555555555556,
              "#d8576b"
             ],
             [
              0.6666666666666666,
              "#ed7953"
             ],
             [
              0.7777777777777778,
              "#fb9f3a"
             ],
             [
              0.8888888888888888,
              "#fdca26"
             ],
             [
              1,
              "#f0f921"
             ]
            ],
            "type": "heatmap"
           }
          ],
          "histogram": [
           {
            "marker": {
             "pattern": {
              "fillmode": "overlay",
              "size": 10,
              "solidity": 0.2
             }
            },
            "type": "histogram"
           }
          ],
          "histogram2d": [
           {
            "colorbar": {
             "outlinewidth": 0,
             "ticks": ""
            },
            "colorscale": [
             [
              0,
              "#0d0887"
             ],
             [
              0.1111111111111111,
              "#46039f"
             ],
             [
              0.2222222222222222,
              "#7201a8"
             ],
             [
              0.3333333333333333,
              "#9c179e"
             ],
             [
              0.4444444444444444,
              "#bd3786"
             ],
             [
              0.5555555555555556,
              "#d8576b"
             ],
             [
              0.6666666666666666,
              "#ed7953"
             ],
             [
              0.7777777777777778,
              "#fb9f3a"
             ],
             [
              0.8888888888888888,
              "#fdca26"
             ],
             [
              1,
              "#f0f921"
             ]
            ],
            "type": "histogram2d"
           }
          ],
          "histogram2dcontour": [
           {
            "colorbar": {
             "outlinewidth": 0,
             "ticks": ""
            },
            "colorscale": [
             [
              0,
              "#0d0887"
             ],
             [
              0.1111111111111111,
              "#46039f"
             ],
             [
              0.2222222222222222,
              "#7201a8"
             ],
             [
              0.3333333333333333,
              "#9c179e"
             ],
             [
              0.4444444444444444,
              "#bd3786"
             ],
             [
              0.5555555555555556,
              "#d8576b"
             ],
             [
              0.6666666666666666,
              "#ed7953"
             ],
             [
              0.7777777777777778,
              "#fb9f3a"
             ],
             [
              0.8888888888888888,
              "#fdca26"
             ],
             [
              1,
              "#f0f921"
             ]
            ],
            "type": "histogram2dcontour"
           }
          ],
          "mesh3d": [
           {
            "colorbar": {
             "outlinewidth": 0,
             "ticks": ""
            },
            "type": "mesh3d"
           }
          ],
          "parcoords": [
           {
            "line": {
             "colorbar": {
              "outlinewidth": 0,
              "ticks": ""
             }
            },
            "type": "parcoords"
           }
          ],
          "pie": [
           {
            "automargin": true,
            "type": "pie"
           }
          ],
          "scatter": [
           {
            "fillpattern": {
             "fillmode": "overlay",
             "size": 10,
             "solidity": 0.2
            },
            "type": "scatter"
           }
          ],
          "scatter3d": [
           {
            "line": {
             "colorbar": {
              "outlinewidth": 0,
              "ticks": ""
             }
            },
            "marker": {
             "colorbar": {
              "outlinewidth": 0,
              "ticks": ""
             }
            },
            "type": "scatter3d"
           }
          ],
          "scattercarpet": [
           {
            "marker": {
             "colorbar": {
              "outlinewidth": 0,
              "ticks": ""
             }
            },
            "type": "scattercarpet"
           }
          ],
          "scattergeo": [
           {
            "marker": {
             "colorbar": {
              "outlinewidth": 0,
              "ticks": ""
             }
            },
            "type": "scattergeo"
           }
          ],
          "scattergl": [
           {
            "marker": {
             "colorbar": {
              "outlinewidth": 0,
              "ticks": ""
             }
            },
            "type": "scattergl"
           }
          ],
          "scattermap": [
           {
            "marker": {
             "colorbar": {
              "outlinewidth": 0,
              "ticks": ""
             }
            },
            "type": "scattermap"
           }
          ],
          "scattermapbox": [
           {
            "marker": {
             "colorbar": {
              "outlinewidth": 0,
              "ticks": ""
             }
            },
            "type": "scattermapbox"
           }
          ],
          "scatterpolar": [
           {
            "marker": {
             "colorbar": {
              "outlinewidth": 0,
              "ticks": ""
             }
            },
            "type": "scatterpolar"
           }
          ],
          "scatterpolargl": [
           {
            "marker": {
             "colorbar": {
              "outlinewidth": 0,
              "ticks": ""
             }
            },
            "type": "scatterpolargl"
           }
          ],
          "scatterternary": [
           {
            "marker": {
             "colorbar": {
              "outlinewidth": 0,
              "ticks": ""
             }
            },
            "type": "scatterternary"
           }
          ],
          "surface": [
           {
            "colorbar": {
             "outlinewidth": 0,
             "ticks": ""
            },
            "colorscale": [
             [
              0,
              "#0d0887"
             ],
             [
              0.1111111111111111,
              "#46039f"
             ],
             [
              0.2222222222222222,
              "#7201a8"
             ],
             [
              0.3333333333333333,
              "#9c179e"
             ],
             [
              0.4444444444444444,
              "#bd3786"
             ],
             [
              0.5555555555555556,
              "#d8576b"
             ],
             [
              0.6666666666666666,
              "#ed7953"
             ],
             [
              0.7777777777777778,
              "#fb9f3a"
             ],
             [
              0.8888888888888888,
              "#fdca26"
             ],
             [
              1,
              "#f0f921"
             ]
            ],
            "type": "surface"
           }
          ],
          "table": [
           {
            "cells": {
             "fill": {
              "color": "#EBF0F8"
             },
             "line": {
              "color": "white"
             }
            },
            "header": {
             "fill": {
              "color": "#C8D4E3"
             },
             "line": {
              "color": "white"
             }
            },
            "type": "table"
           }
          ]
         },
         "layout": {
          "annotationdefaults": {
           "arrowcolor": "#2a3f5f",
           "arrowhead": 0,
           "arrowwidth": 1
          },
          "autotypenumbers": "strict",
          "coloraxis": {
           "colorbar": {
            "outlinewidth": 0,
            "ticks": ""
           }
          },
          "colorscale": {
           "diverging": [
            [
             0,
             "#8e0152"
            ],
            [
             0.1,
             "#c51b7d"
            ],
            [
             0.2,
             "#de77ae"
            ],
            [
             0.3,
             "#f1b6da"
            ],
            [
             0.4,
             "#fde0ef"
            ],
            [
             0.5,
             "#f7f7f7"
            ],
            [
             0.6,
             "#e6f5d0"
            ],
            [
             0.7,
             "#b8e186"
            ],
            [
             0.8,
             "#7fbc41"
            ],
            [
             0.9,
             "#4d9221"
            ],
            [
             1,
             "#276419"
            ]
           ],
           "sequential": [
            [
             0,
             "#0d0887"
            ],
            [
             0.1111111111111111,
             "#46039f"
            ],
            [
             0.2222222222222222,
             "#7201a8"
            ],
            [
             0.3333333333333333,
             "#9c179e"
            ],
            [
             0.4444444444444444,
             "#bd3786"
            ],
            [
             0.5555555555555556,
             "#d8576b"
            ],
            [
             0.6666666666666666,
             "#ed7953"
            ],
            [
             0.7777777777777778,
             "#fb9f3a"
            ],
            [
             0.8888888888888888,
             "#fdca26"
            ],
            [
             1,
             "#f0f921"
            ]
           ],
           "sequentialminus": [
            [
             0,
             "#0d0887"
            ],
            [
             0.1111111111111111,
             "#46039f"
            ],
            [
             0.2222222222222222,
             "#7201a8"
            ],
            [
             0.3333333333333333,
             "#9c179e"
            ],
            [
             0.4444444444444444,
             "#bd3786"
            ],
            [
             0.5555555555555556,
             "#d8576b"
            ],
            [
             0.6666666666666666,
             "#ed7953"
            ],
            [
             0.7777777777777778,
             "#fb9f3a"
            ],
            [
             0.8888888888888888,
             "#fdca26"
            ],
            [
             1,
             "#f0f921"
            ]
           ]
          },
          "colorway": [
           "#636efa",
           "#EF553B",
           "#00cc96",
           "#ab63fa",
           "#FFA15A",
           "#19d3f3",
           "#FF6692",
           "#B6E880",
           "#FF97FF",
           "#FECB52"
          ],
          "font": {
           "color": "#2a3f5f"
          },
          "geo": {
           "bgcolor": "white",
           "lakecolor": "white",
           "landcolor": "#E5ECF6",
           "showlakes": true,
           "showland": true,
           "subunitcolor": "white"
          },
          "hoverlabel": {
           "align": "left"
          },
          "hovermode": "closest",
          "mapbox": {
           "style": "light"
          },
          "paper_bgcolor": "white",
          "plot_bgcolor": "#E5ECF6",
          "polar": {
           "angularaxis": {
            "gridcolor": "white",
            "linecolor": "white",
            "ticks": ""
           },
           "bgcolor": "#E5ECF6",
           "radialaxis": {
            "gridcolor": "white",
            "linecolor": "white",
            "ticks": ""
           }
          },
          "scene": {
           "xaxis": {
            "backgroundcolor": "#E5ECF6",
            "gridcolor": "white",
            "gridwidth": 2,
            "linecolor": "white",
            "showbackground": true,
            "ticks": "",
            "zerolinecolor": "white"
           },
           "yaxis": {
            "backgroundcolor": "#E5ECF6",
            "gridcolor": "white",
            "gridwidth": 2,
            "linecolor": "white",
            "showbackground": true,
            "ticks": "",
            "zerolinecolor": "white"
           },
           "zaxis": {
            "backgroundcolor": "#E5ECF6",
            "gridcolor": "white",
            "gridwidth": 2,
            "linecolor": "white",
            "showbackground": true,
            "ticks": "",
            "zerolinecolor": "white"
           }
          },
          "shapedefaults": {
           "line": {
            "color": "#2a3f5f"
           }
          },
          "ternary": {
           "aaxis": {
            "gridcolor": "white",
            "linecolor": "white",
            "ticks": ""
           },
           "baxis": {
            "gridcolor": "white",
            "linecolor": "white",
            "ticks": ""
           },
           "bgcolor": "#E5ECF6",
           "caxis": {
            "gridcolor": "white",
            "linecolor": "white",
            "ticks": ""
           }
          },
          "title": {
           "x": 0.05
          },
          "xaxis": {
           "automargin": true,
           "gridcolor": "white",
           "linecolor": "white",
           "ticks": "",
           "title": {
            "standoff": 15
           },
           "zerolinecolor": "white",
           "zerolinewidth": 2
          },
          "yaxis": {
           "automargin": true,
           "gridcolor": "white",
           "linecolor": "white",
           "ticks": "",
           "title": {
            "standoff": 15
           },
           "zerolinecolor": "white",
           "zerolinewidth": 2
          }
         }
        },
        "title": {
         "text": "Topic Distribution"
        },
        "xaxis": {
         "anchor": "y",
         "domain": [
          0,
          1
         ],
         "title": {
          "text": "Number of Comments"
         }
        },
        "yaxis": {
         "anchor": "x",
         "categoryorder": "total ascending",
         "domain": [
          0,
          1
         ],
         "title": {
          "text": "Topic"
         }
        }
       }
      }
     },
     "metadata": {},
     "output_type": "display_data"
    },
    {
     "name": "stderr",
     "output_type": "stream",
     "text": [
      "2025-03-29 00:43:37,286 - New Data Processor Notebook - INFO - Creating Sentiment Pie Chart (BERT)...\n",
      "2025-03-29 00:43:37,314 - New Data Processor Notebook - INFO - Sentiment pie chart saved to /Users/DINGZEEFS/Documents/Fine_tuning_odido/output_dir/new_data_notebook_results/visualizations/new_data_bert_sentiment.html\n"
     ]
    },
    {
     "data": {
      "application/vnd.plotly.v1+json": {
       "config": {
        "plotlyServerURL": "https://plot.ly"
       },
       "data": [
        {
         "customdata": [
          [
           "positive"
          ],
          [
           "negative"
          ]
         ],
         "domain": {
          "x": [
           0,
           1
          ],
          "y": [
           0,
           1
          ]
         },
         "hovertemplate": "Sentiment=%{customdata[0]}<br>Count=%{value}<extra></extra>",
         "labels": [
          "positive",
          "negative"
         ],
         "legendgroup": "",
         "marker": {
          "colors": [
           "#ab63fa",
           "#FFA15A"
          ]
         },
         "name": "",
         "showlegend": true,
         "textinfo": "percent+label+value",
         "textposition": "inside",
         "type": "pie",
         "values": {
          "bdata": "Cwk=",
          "dtype": "i1"
         }
        }
       ],
       "layout": {
        "legend": {
         "tracegroupgap": 0
        },
        "template": {
         "data": {
          "bar": [
           {
            "error_x": {
             "color": "#2a3f5f"
            },
            "error_y": {
             "color": "#2a3f5f"
            },
            "marker": {
             "line": {
              "color": "#E5ECF6",
              "width": 0.5
             },
             "pattern": {
              "fillmode": "overlay",
              "size": 10,
              "solidity": 0.2
             }
            },
            "type": "bar"
           }
          ],
          "barpolar": [
           {
            "marker": {
             "line": {
              "color": "#E5ECF6",
              "width": 0.5
             },
             "pattern": {
              "fillmode": "overlay",
              "size": 10,
              "solidity": 0.2
             }
            },
            "type": "barpolar"
           }
          ],
          "carpet": [
           {
            "aaxis": {
             "endlinecolor": "#2a3f5f",
             "gridcolor": "white",
             "linecolor": "white",
             "minorgridcolor": "white",
             "startlinecolor": "#2a3f5f"
            },
            "baxis": {
             "endlinecolor": "#2a3f5f",
             "gridcolor": "white",
             "linecolor": "white",
             "minorgridcolor": "white",
             "startlinecolor": "#2a3f5f"
            },
            "type": "carpet"
           }
          ],
          "choropleth": [
           {
            "colorbar": {
             "outlinewidth": 0,
             "ticks": ""
            },
            "type": "choropleth"
           }
          ],
          "contour": [
           {
            "colorbar": {
             "outlinewidth": 0,
             "ticks": ""
            },
            "colorscale": [
             [
              0,
              "#0d0887"
             ],
             [
              0.1111111111111111,
              "#46039f"
             ],
             [
              0.2222222222222222,
              "#7201a8"
             ],
             [
              0.3333333333333333,
              "#9c179e"
             ],
             [
              0.4444444444444444,
              "#bd3786"
             ],
             [
              0.5555555555555556,
              "#d8576b"
             ],
             [
              0.6666666666666666,
              "#ed7953"
             ],
             [
              0.7777777777777778,
              "#fb9f3a"
             ],
             [
              0.8888888888888888,
              "#fdca26"
             ],
             [
              1,
              "#f0f921"
             ]
            ],
            "type": "contour"
           }
          ],
          "contourcarpet": [
           {
            "colorbar": {
             "outlinewidth": 0,
             "ticks": ""
            },
            "type": "contourcarpet"
           }
          ],
          "heatmap": [
           {
            "colorbar": {
             "outlinewidth": 0,
             "ticks": ""
            },
            "colorscale": [
             [
              0,
              "#0d0887"
             ],
             [
              0.1111111111111111,
              "#46039f"
             ],
             [
              0.2222222222222222,
              "#7201a8"
             ],
             [
              0.3333333333333333,
              "#9c179e"
             ],
             [
              0.4444444444444444,
              "#bd3786"
             ],
             [
              0.5555555555555556,
              "#d8576b"
             ],
             [
              0.6666666666666666,
              "#ed7953"
             ],
             [
              0.7777777777777778,
              "#fb9f3a"
             ],
             [
              0.8888888888888888,
              "#fdca26"
             ],
             [
              1,
              "#f0f921"
             ]
            ],
            "type": "heatmap"
           }
          ],
          "histogram": [
           {
            "marker": {
             "pattern": {
              "fillmode": "overlay",
              "size": 10,
              "solidity": 0.2
             }
            },
            "type": "histogram"
           }
          ],
          "histogram2d": [
           {
            "colorbar": {
             "outlinewidth": 0,
             "ticks": ""
            },
            "colorscale": [
             [
              0,
              "#0d0887"
             ],
             [
              0.1111111111111111,
              "#46039f"
             ],
             [
              0.2222222222222222,
              "#7201a8"
             ],
             [
              0.3333333333333333,
              "#9c179e"
             ],
             [
              0.4444444444444444,
              "#bd3786"
             ],
             [
              0.5555555555555556,
              "#d8576b"
             ],
             [
              0.6666666666666666,
              "#ed7953"
             ],
             [
              0.7777777777777778,
              "#fb9f3a"
             ],
             [
              0.8888888888888888,
              "#fdca26"
             ],
             [
              1,
              "#f0f921"
             ]
            ],
            "type": "histogram2d"
           }
          ],
          "histogram2dcontour": [
           {
            "colorbar": {
             "outlinewidth": 0,
             "ticks": ""
            },
            "colorscale": [
             [
              0,
              "#0d0887"
             ],
             [
              0.1111111111111111,
              "#46039f"
             ],
             [
              0.2222222222222222,
              "#7201a8"
             ],
             [
              0.3333333333333333,
              "#9c179e"
             ],
             [
              0.4444444444444444,
              "#bd3786"
             ],
             [
              0.5555555555555556,
              "#d8576b"
             ],
             [
              0.6666666666666666,
              "#ed7953"
             ],
             [
              0.7777777777777778,
              "#fb9f3a"
             ],
             [
              0.8888888888888888,
              "#fdca26"
             ],
             [
              1,
              "#f0f921"
             ]
            ],
            "type": "histogram2dcontour"
           }
          ],
          "mesh3d": [
           {
            "colorbar": {
             "outlinewidth": 0,
             "ticks": ""
            },
            "type": "mesh3d"
           }
          ],
          "parcoords": [
           {
            "line": {
             "colorbar": {
              "outlinewidth": 0,
              "ticks": ""
             }
            },
            "type": "parcoords"
           }
          ],
          "pie": [
           {
            "automargin": true,
            "type": "pie"
           }
          ],
          "scatter": [
           {
            "fillpattern": {
             "fillmode": "overlay",
             "size": 10,
             "solidity": 0.2
            },
            "type": "scatter"
           }
          ],
          "scatter3d": [
           {
            "line": {
             "colorbar": {
              "outlinewidth": 0,
              "ticks": ""
             }
            },
            "marker": {
             "colorbar": {
              "outlinewidth": 0,
              "ticks": ""
             }
            },
            "type": "scatter3d"
           }
          ],
          "scattercarpet": [
           {
            "marker": {
             "colorbar": {
              "outlinewidth": 0,
              "ticks": ""
             }
            },
            "type": "scattercarpet"
           }
          ],
          "scattergeo": [
           {
            "marker": {
             "colorbar": {
              "outlinewidth": 0,
              "ticks": ""
             }
            },
            "type": "scattergeo"
           }
          ],
          "scattergl": [
           {
            "marker": {
             "colorbar": {
              "outlinewidth": 0,
              "ticks": ""
             }
            },
            "type": "scattergl"
           }
          ],
          "scattermap": [
           {
            "marker": {
             "colorbar": {
              "outlinewidth": 0,
              "ticks": ""
             }
            },
            "type": "scattermap"
           }
          ],
          "scattermapbox": [
           {
            "marker": {
             "colorbar": {
              "outlinewidth": 0,
              "ticks": ""
             }
            },
            "type": "scattermapbox"
           }
          ],
          "scatterpolar": [
           {
            "marker": {
             "colorbar": {
              "outlinewidth": 0,
              "ticks": ""
             }
            },
            "type": "scatterpolar"
           }
          ],
          "scatterpolargl": [
           {
            "marker": {
             "colorbar": {
              "outlinewidth": 0,
              "ticks": ""
             }
            },
            "type": "scatterpolargl"
           }
          ],
          "scatterternary": [
           {
            "marker": {
             "colorbar": {
              "outlinewidth": 0,
              "ticks": ""
             }
            },
            "type": "scatterternary"
           }
          ],
          "surface": [
           {
            "colorbar": {
             "outlinewidth": 0,
             "ticks": ""
            },
            "colorscale": [
             [
              0,
              "#0d0887"
             ],
             [
              0.1111111111111111,
              "#46039f"
             ],
             [
              0.2222222222222222,
              "#7201a8"
             ],
             [
              0.3333333333333333,
              "#9c179e"
             ],
             [
              0.4444444444444444,
              "#bd3786"
             ],
             [
              0.5555555555555556,
              "#d8576b"
             ],
             [
              0.6666666666666666,
              "#ed7953"
             ],
             [
              0.7777777777777778,
              "#fb9f3a"
             ],
             [
              0.8888888888888888,
              "#fdca26"
             ],
             [
              1,
              "#f0f921"
             ]
            ],
            "type": "surface"
           }
          ],
          "table": [
           {
            "cells": {
             "fill": {
              "color": "#EBF0F8"
             },
             "line": {
              "color": "white"
             }
            },
            "header": {
             "fill": {
              "color": "#C8D4E3"
             },
             "line": {
              "color": "white"
             }
            },
            "type": "table"
           }
          ]
         },
         "layout": {
          "annotationdefaults": {
           "arrowcolor": "#2a3f5f",
           "arrowhead": 0,
           "arrowwidth": 1
          },
          "autotypenumbers": "strict",
          "coloraxis": {
           "colorbar": {
            "outlinewidth": 0,
            "ticks": ""
           }
          },
          "colorscale": {
           "diverging": [
            [
             0,
             "#8e0152"
            ],
            [
             0.1,
             "#c51b7d"
            ],
            [
             0.2,
             "#de77ae"
            ],
            [
             0.3,
             "#f1b6da"
            ],
            [
             0.4,
             "#fde0ef"
            ],
            [
             0.5,
             "#f7f7f7"
            ],
            [
             0.6,
             "#e6f5d0"
            ],
            [
             0.7,
             "#b8e186"
            ],
            [
             0.8,
             "#7fbc41"
            ],
            [
             0.9,
             "#4d9221"
            ],
            [
             1,
             "#276419"
            ]
           ],
           "sequential": [
            [
             0,
             "#0d0887"
            ],
            [
             0.1111111111111111,
             "#46039f"
            ],
            [
             0.2222222222222222,
             "#7201a8"
            ],
            [
             0.3333333333333333,
             "#9c179e"
            ],
            [
             0.4444444444444444,
             "#bd3786"
            ],
            [
             0.5555555555555556,
             "#d8576b"
            ],
            [
             0.6666666666666666,
             "#ed7953"
            ],
            [
             0.7777777777777778,
             "#fb9f3a"
            ],
            [
             0.8888888888888888,
             "#fdca26"
            ],
            [
             1,
             "#f0f921"
            ]
           ],
           "sequentialminus": [
            [
             0,
             "#0d0887"
            ],
            [
             0.1111111111111111,
             "#46039f"
            ],
            [
             0.2222222222222222,
             "#7201a8"
            ],
            [
             0.3333333333333333,
             "#9c179e"
            ],
            [
             0.4444444444444444,
             "#bd3786"
            ],
            [
             0.5555555555555556,
             "#d8576b"
            ],
            [
             0.6666666666666666,
             "#ed7953"
            ],
            [
             0.7777777777777778,
             "#fb9f3a"
            ],
            [
             0.8888888888888888,
             "#fdca26"
            ],
            [
             1,
             "#f0f921"
            ]
           ]
          },
          "colorway": [
           "#636efa",
           "#EF553B",
           "#00cc96",
           "#ab63fa",
           "#FFA15A",
           "#19d3f3",
           "#FF6692",
           "#B6E880",
           "#FF97FF",
           "#FECB52"
          ],
          "font": {
           "color": "#2a3f5f"
          },
          "geo": {
           "bgcolor": "white",
           "lakecolor": "white",
           "landcolor": "#E5ECF6",
           "showlakes": true,
           "showland": true,
           "subunitcolor": "white"
          },
          "hoverlabel": {
           "align": "left"
          },
          "hovermode": "closest",
          "mapbox": {
           "style": "light"
          },
          "paper_bgcolor": "white",
          "plot_bgcolor": "#E5ECF6",
          "polar": {
           "angularaxis": {
            "gridcolor": "white",
            "linecolor": "white",
            "ticks": ""
           },
           "bgcolor": "#E5ECF6",
           "radialaxis": {
            "gridcolor": "white",
            "linecolor": "white",
            "ticks": ""
           }
          },
          "scene": {
           "xaxis": {
            "backgroundcolor": "#E5ECF6",
            "gridcolor": "white",
            "gridwidth": 2,
            "linecolor": "white",
            "showbackground": true,
            "ticks": "",
            "zerolinecolor": "white"
           },
           "yaxis": {
            "backgroundcolor": "#E5ECF6",
            "gridcolor": "white",
            "gridwidth": 2,
            "linecolor": "white",
            "showbackground": true,
            "ticks": "",
            "zerolinecolor": "white"
           },
           "zaxis": {
            "backgroundcolor": "#E5ECF6",
            "gridcolor": "white",
            "gridwidth": 2,
            "linecolor": "white",
            "showbackground": true,
            "ticks": "",
            "zerolinecolor": "white"
           }
          },
          "shapedefaults": {
           "line": {
            "color": "#2a3f5f"
           }
          },
          "ternary": {
           "aaxis": {
            "gridcolor": "white",
            "linecolor": "white",
            "ticks": ""
           },
           "baxis": {
            "gridcolor": "white",
            "linecolor": "white",
            "ticks": ""
           },
           "bgcolor": "#E5ECF6",
           "caxis": {
            "gridcolor": "white",
            "linecolor": "white",
            "ticks": ""
           }
          },
          "title": {
           "x": 0.05
          },
          "xaxis": {
           "automargin": true,
           "gridcolor": "white",
           "linecolor": "white",
           "ticks": "",
           "title": {
            "standoff": 15
           },
           "zerolinecolor": "white",
           "zerolinewidth": 2
          },
          "yaxis": {
           "automargin": true,
           "gridcolor": "white",
           "linecolor": "white",
           "ticks": "",
           "title": {
            "standoff": 15
           },
           "zerolinecolor": "white",
           "zerolinewidth": 2
          }
         }
        },
        "title": {
         "text": "Sentiment Distribution (bert_sentiment)"
        }
       }
      }
     },
     "metadata": {},
     "output_type": "display_data"
    },
    {
     "name": "stderr",
     "output_type": "stream",
     "text": [
      "2025-03-29 00:43:37,318 - New Data Processor Notebook - INFO - Cleaning topic terms for custom barchart...\n",
      "2025-03-29 00:43:37,324 - New Data Processor Notebook - INFO - Creating Custom Topic Barchart...\n",
      "2025-03-29 00:43:37,366 - New Data Processor Notebook - INFO - Meaningful topic barchart saved to /Users/DINGZEEFS/Documents/Fine_tuning_odido/output_dir/new_data_notebook_results/visualizations/meaningful_topic_barchart.html\n"
     ]
    },
    {
     "data": {
      "application/vnd.plotly.v1+json": {
       "config": {
        "plotlyServerURL": "https://plot.ly"
       },
       "data": [
        {
         "marker": {
          "color": "#636EFA"
         },
         "name": "Algemeen",
         "orientation": "h",
         "showlegend": false,
         "type": "bar",
         "x": [
          0.01749182368924586,
          0.015521577650655156
         ],
         "xaxis": "x",
         "y": [
          "klantenservice",
          "levering"
         ],
         "yaxis": "y"
        },
        {
         "marker": {
          "color": "#EF553B"
         },
         "name": "Klantrelatie",
         "orientation": "h",
         "showlegend": false,
         "type": "bar",
         "x": [
          0.030303669384770755,
          0.02367476330028323,
          0.022472245792461903,
          0.02132503251466078
         ],
         "xaxis": "x2",
         "y": [
          "klant",
          "de klant",
          "van ben",
          "merk"
         ],
         "yaxis": "y2"
        },
        {
         "marker": {
          "color": "#00CC96"
         },
         "name": "Klantenservice",
         "orientation": "h",
         "showlegend": false,
         "type": "bar",
         "x": [
          0.07676311023719512,
          0.036196310642718936,
          0.033459431588494515,
          0.023926325811974593,
          0.023089035738361383
         ],
         "xaxis": "x3",
         "y": [
          "klantenservice",
          "klantenservice de",
          "de klantenservice",
          "klant",
          "klantenservice de klant"
         ],
         "yaxis": "y3"
        },
        {
         "marker": {
          "color": "#AB63FA"
         },
         "name": "Aankoop en Levering",
         "orientation": "h",
         "showlegend": false,
         "type": "bar",
         "x": [
          0.10143201365321641,
          0.10061050644501887,
          0.07829963209135742,
          0.046123859656930964,
          0.04438236342094076
         ],
         "xaxis": "x4",
         "y": [
          "aankoop",
          "levering",
          "aankoop levering",
          "aankoop of",
          "aankoop of levering"
         ],
         "yaxis": "y4"
        },
        {
         "marker": {
          "color": "#FFA15A"
         },
         "name": "TV Box Issues",
         "orientation": "h",
         "showlegend": false,
         "type": "bar",
         "x": [
          0.05575298406835039,
          0.05397013496160521,
          0.03768410514931024,
          0.03750541764689436,
          0.0359128019109611
         ],
         "xaxis": "x5",
         "y": [
          "de tv",
          "product",
          "product het",
          "product de tv",
          "signaal"
         ],
         "yaxis": "y5"
        },
        {
         "marker": {
          "color": "#19D3F3"
         },
         "name": "Bereik/Dekking",
         "orientation": "h",
         "showlegend": false,
         "type": "bar",
         "x": [
          0.04626282095129877,
          0.04409894083165332,
          0.04115848401185059,
          0.03184400114469623,
          0.028661444805257907
         ],
         "xaxis": "x6",
         "y": [
          "product",
          "goed",
          "dekking",
          "bereik",
          "product de"
         ],
         "yaxis": "y6"
        },
        {
         "marker": {
          "color": "#FF6692"
         },
         "name": "Wifi Issues",
         "orientation": "h",
         "showlegend": false,
         "type": "bar",
         "x": [
          0.0612847309153662,
          0.04326502377452456,
          0.03244295250384651,
          0.028995237056110266,
          0.026297489845166097
         ],
         "xaxis": "x7",
         "y": [
          "wifi",
          "de wifi",
          "router",
          "valt",
          "product"
         ],
         "yaxis": "y7"
        },
        {
         "marker": {
          "color": "#B6E880"
         },
         "name": "Ben App",
         "orientation": "h",
         "showlegend": false,
         "type": "bar",
         "x": [
          0.06805740416746406,
          0.06293867804394879,
          0.06293867804394879,
          0.0583713673837433,
          0.0513515201065991
         ],
         "xaxis": "x8",
         "y": [
          "de ben",
          "ben app",
          "de ben app",
          "product de",
          "product"
         ],
         "yaxis": "y8"
        }
       ],
       "layout": {
        "annotations": [
         {
          "font": {
           "size": 16
          },
          "showarrow": false,
          "text": "Algemeen",
          "x": 0.0875,
          "xanchor": "center",
          "xref": "paper",
          "y": 1,
          "yanchor": "bottom",
          "yref": "paper"
         },
         {
          "font": {
           "size": 16
          },
          "showarrow": false,
          "text": "Klantrelatie",
          "x": 0.36250000000000004,
          "xanchor": "center",
          "xref": "paper",
          "y": 1,
          "yanchor": "bottom",
          "yref": "paper"
         },
         {
          "font": {
           "size": 16
          },
          "showarrow": false,
          "text": "Klantenservice",
          "x": 0.6375000000000001,
          "xanchor": "center",
          "xref": "paper",
          "y": 1,
          "yanchor": "bottom",
          "yref": "paper"
         },
         {
          "font": {
           "size": 16
          },
          "showarrow": false,
          "text": "Aankoop en Levering",
          "x": 0.9125,
          "xanchor": "center",
          "xref": "paper",
          "y": 1,
          "yanchor": "bottom",
          "yref": "paper"
         },
         {
          "font": {
           "size": 16
          },
          "showarrow": false,
          "text": "TV Box Issues",
          "x": 0.0875,
          "xanchor": "center",
          "xref": "paper",
          "y": 0.375,
          "yanchor": "bottom",
          "yref": "paper"
         },
         {
          "font": {
           "size": 16
          },
          "showarrow": false,
          "text": "Bereik/Dekking",
          "x": 0.36250000000000004,
          "xanchor": "center",
          "xref": "paper",
          "y": 0.375,
          "yanchor": "bottom",
          "yref": "paper"
         },
         {
          "font": {
           "size": 16
          },
          "showarrow": false,
          "text": "Wifi Issues",
          "x": 0.6375000000000001,
          "xanchor": "center",
          "xref": "paper",
          "y": 0.375,
          "yanchor": "bottom",
          "yref": "paper"
         },
         {
          "font": {
           "size": 16
          },
          "showarrow": false,
          "text": "Ben App",
          "x": 0.9125,
          "xanchor": "center",
          "xref": "paper",
          "y": 0.375,
          "yanchor": "bottom",
          "yref": "paper"
         }
        ],
        "font": {
         "size": 10
        },
        "height": 600,
        "margin": {
         "b": 40,
         "l": 50,
         "r": 30,
         "t": 80
        },
        "showlegend": false,
        "template": {
         "data": {
          "bar": [
           {
            "error_x": {
             "color": "#2a3f5f"
            },
            "error_y": {
             "color": "#2a3f5f"
            },
            "marker": {
             "line": {
              "color": "#E5ECF6",
              "width": 0.5
             },
             "pattern": {
              "fillmode": "overlay",
              "size": 10,
              "solidity": 0.2
             }
            },
            "type": "bar"
           }
          ],
          "barpolar": [
           {
            "marker": {
             "line": {
              "color": "#E5ECF6",
              "width": 0.5
             },
             "pattern": {
              "fillmode": "overlay",
              "size": 10,
              "solidity": 0.2
             }
            },
            "type": "barpolar"
           }
          ],
          "carpet": [
           {
            "aaxis": {
             "endlinecolor": "#2a3f5f",
             "gridcolor": "white",
             "linecolor": "white",
             "minorgridcolor": "white",
             "startlinecolor": "#2a3f5f"
            },
            "baxis": {
             "endlinecolor": "#2a3f5f",
             "gridcolor": "white",
             "linecolor": "white",
             "minorgridcolor": "white",
             "startlinecolor": "#2a3f5f"
            },
            "type": "carpet"
           }
          ],
          "choropleth": [
           {
            "colorbar": {
             "outlinewidth": 0,
             "ticks": ""
            },
            "type": "choropleth"
           }
          ],
          "contour": [
           {
            "colorbar": {
             "outlinewidth": 0,
             "ticks": ""
            },
            "colorscale": [
             [
              0,
              "#0d0887"
             ],
             [
              0.1111111111111111,
              "#46039f"
             ],
             [
              0.2222222222222222,
              "#7201a8"
             ],
             [
              0.3333333333333333,
              "#9c179e"
             ],
             [
              0.4444444444444444,
              "#bd3786"
             ],
             [
              0.5555555555555556,
              "#d8576b"
             ],
             [
              0.6666666666666666,
              "#ed7953"
             ],
             [
              0.7777777777777778,
              "#fb9f3a"
             ],
             [
              0.8888888888888888,
              "#fdca26"
             ],
             [
              1,
              "#f0f921"
             ]
            ],
            "type": "contour"
           }
          ],
          "contourcarpet": [
           {
            "colorbar": {
             "outlinewidth": 0,
             "ticks": ""
            },
            "type": "contourcarpet"
           }
          ],
          "heatmap": [
           {
            "colorbar": {
             "outlinewidth": 0,
             "ticks": ""
            },
            "colorscale": [
             [
              0,
              "#0d0887"
             ],
             [
              0.1111111111111111,
              "#46039f"
             ],
             [
              0.2222222222222222,
              "#7201a8"
             ],
             [
              0.3333333333333333,
              "#9c179e"
             ],
             [
              0.4444444444444444,
              "#bd3786"
             ],
             [
              0.5555555555555556,
              "#d8576b"
             ],
             [
              0.6666666666666666,
              "#ed7953"
             ],
             [
              0.7777777777777778,
              "#fb9f3a"
             ],
             [
              0.8888888888888888,
              "#fdca26"
             ],
             [
              1,
              "#f0f921"
             ]
            ],
            "type": "heatmap"
           }
          ],
          "histogram": [
           {
            "marker": {
             "pattern": {
              "fillmode": "overlay",
              "size": 10,
              "solidity": 0.2
             }
            },
            "type": "histogram"
           }
          ],
          "histogram2d": [
           {
            "colorbar": {
             "outlinewidth": 0,
             "ticks": ""
            },
            "colorscale": [
             [
              0,
              "#0d0887"
             ],
             [
              0.1111111111111111,
              "#46039f"
             ],
             [
              0.2222222222222222,
              "#7201a8"
             ],
             [
              0.3333333333333333,
              "#9c179e"
             ],
             [
              0.4444444444444444,
              "#bd3786"
             ],
             [
              0.5555555555555556,
              "#d8576b"
             ],
             [
              0.6666666666666666,
              "#ed7953"
             ],
             [
              0.7777777777777778,
              "#fb9f3a"
             ],
             [
              0.8888888888888888,
              "#fdca26"
             ],
             [
              1,
              "#f0f921"
             ]
            ],
            "type": "histogram2d"
           }
          ],
          "histogram2dcontour": [
           {
            "colorbar": {
             "outlinewidth": 0,
             "ticks": ""
            },
            "colorscale": [
             [
              0,
              "#0d0887"
             ],
             [
              0.1111111111111111,
              "#46039f"
             ],
             [
              0.2222222222222222,
              "#7201a8"
             ],
             [
              0.3333333333333333,
              "#9c179e"
             ],
             [
              0.4444444444444444,
              "#bd3786"
             ],
             [
              0.5555555555555556,
              "#d8576b"
             ],
             [
              0.6666666666666666,
              "#ed7953"
             ],
             [
              0.7777777777777778,
              "#fb9f3a"
             ],
             [
              0.8888888888888888,
              "#fdca26"
             ],
             [
              1,
              "#f0f921"
             ]
            ],
            "type": "histogram2dcontour"
           }
          ],
          "mesh3d": [
           {
            "colorbar": {
             "outlinewidth": 0,
             "ticks": ""
            },
            "type": "mesh3d"
           }
          ],
          "parcoords": [
           {
            "line": {
             "colorbar": {
              "outlinewidth": 0,
              "ticks": ""
             }
            },
            "type": "parcoords"
           }
          ],
          "pie": [
           {
            "automargin": true,
            "type": "pie"
           }
          ],
          "scatter": [
           {
            "fillpattern": {
             "fillmode": "overlay",
             "size": 10,
             "solidity": 0.2
            },
            "type": "scatter"
           }
          ],
          "scatter3d": [
           {
            "line": {
             "colorbar": {
              "outlinewidth": 0,
              "ticks": ""
             }
            },
            "marker": {
             "colorbar": {
              "outlinewidth": 0,
              "ticks": ""
             }
            },
            "type": "scatter3d"
           }
          ],
          "scattercarpet": [
           {
            "marker": {
             "colorbar": {
              "outlinewidth": 0,
              "ticks": ""
             }
            },
            "type": "scattercarpet"
           }
          ],
          "scattergeo": [
           {
            "marker": {
             "colorbar": {
              "outlinewidth": 0,
              "ticks": ""
             }
            },
            "type": "scattergeo"
           }
          ],
          "scattergl": [
           {
            "marker": {
             "colorbar": {
              "outlinewidth": 0,
              "ticks": ""
             }
            },
            "type": "scattergl"
           }
          ],
          "scattermap": [
           {
            "marker": {
             "colorbar": {
              "outlinewidth": 0,
              "ticks": ""
             }
            },
            "type": "scattermap"
           }
          ],
          "scattermapbox": [
           {
            "marker": {
             "colorbar": {
              "outlinewidth": 0,
              "ticks": ""
             }
            },
            "type": "scattermapbox"
           }
          ],
          "scatterpolar": [
           {
            "marker": {
             "colorbar": {
              "outlinewidth": 0,
              "ticks": ""
             }
            },
            "type": "scatterpolar"
           }
          ],
          "scatterpolargl": [
           {
            "marker": {
             "colorbar": {
              "outlinewidth": 0,
              "ticks": ""
             }
            },
            "type": "scatterpolargl"
           }
          ],
          "scatterternary": [
           {
            "marker": {
             "colorbar": {
              "outlinewidth": 0,
              "ticks": ""
             }
            },
            "type": "scatterternary"
           }
          ],
          "surface": [
           {
            "colorbar": {
             "outlinewidth": 0,
             "ticks": ""
            },
            "colorscale": [
             [
              0,
              "#0d0887"
             ],
             [
              0.1111111111111111,
              "#46039f"
             ],
             [
              0.2222222222222222,
              "#7201a8"
             ],
             [
              0.3333333333333333,
              "#9c179e"
             ],
             [
              0.4444444444444444,
              "#bd3786"
             ],
             [
              0.5555555555555556,
              "#d8576b"
             ],
             [
              0.6666666666666666,
              "#ed7953"
             ],
             [
              0.7777777777777778,
              "#fb9f3a"
             ],
             [
              0.8888888888888888,
              "#fdca26"
             ],
             [
              1,
              "#f0f921"
             ]
            ],
            "type": "surface"
           }
          ],
          "table": [
           {
            "cells": {
             "fill": {
              "color": "#EBF0F8"
             },
             "line": {
              "color": "white"
             }
            },
            "header": {
             "fill": {
              "color": "#C8D4E3"
             },
             "line": {
              "color": "white"
             }
            },
            "type": "table"
           }
          ]
         },
         "layout": {
          "annotationdefaults": {
           "arrowcolor": "#2a3f5f",
           "arrowhead": 0,
           "arrowwidth": 1
          },
          "autotypenumbers": "strict",
          "coloraxis": {
           "colorbar": {
            "outlinewidth": 0,
            "ticks": ""
           }
          },
          "colorscale": {
           "diverging": [
            [
             0,
             "#8e0152"
            ],
            [
             0.1,
             "#c51b7d"
            ],
            [
             0.2,
             "#de77ae"
            ],
            [
             0.3,
             "#f1b6da"
            ],
            [
             0.4,
             "#fde0ef"
            ],
            [
             0.5,
             "#f7f7f7"
            ],
            [
             0.6,
             "#e6f5d0"
            ],
            [
             0.7,
             "#b8e186"
            ],
            [
             0.8,
             "#7fbc41"
            ],
            [
             0.9,
             "#4d9221"
            ],
            [
             1,
             "#276419"
            ]
           ],
           "sequential": [
            [
             0,
             "#0d0887"
            ],
            [
             0.1111111111111111,
             "#46039f"
            ],
            [
             0.2222222222222222,
             "#7201a8"
            ],
            [
             0.3333333333333333,
             "#9c179e"
            ],
            [
             0.4444444444444444,
             "#bd3786"
            ],
            [
             0.5555555555555556,
             "#d8576b"
            ],
            [
             0.6666666666666666,
             "#ed7953"
            ],
            [
             0.7777777777777778,
             "#fb9f3a"
            ],
            [
             0.8888888888888888,
             "#fdca26"
            ],
            [
             1,
             "#f0f921"
            ]
           ],
           "sequentialminus": [
            [
             0,
             "#0d0887"
            ],
            [
             0.1111111111111111,
             "#46039f"
            ],
            [
             0.2222222222222222,
             "#7201a8"
            ],
            [
             0.3333333333333333,
             "#9c179e"
            ],
            [
             0.4444444444444444,
             "#bd3786"
            ],
            [
             0.5555555555555556,
             "#d8576b"
            ],
            [
             0.6666666666666666,
             "#ed7953"
            ],
            [
             0.7777777777777778,
             "#fb9f3a"
            ],
            [
             0.8888888888888888,
             "#fdca26"
            ],
            [
             1,
             "#f0f921"
            ]
           ]
          },
          "colorway": [
           "#636efa",
           "#EF553B",
           "#00cc96",
           "#ab63fa",
           "#FFA15A",
           "#19d3f3",
           "#FF6692",
           "#B6E880",
           "#FF97FF",
           "#FECB52"
          ],
          "font": {
           "color": "#2a3f5f"
          },
          "geo": {
           "bgcolor": "white",
           "lakecolor": "white",
           "landcolor": "#E5ECF6",
           "showlakes": true,
           "showland": true,
           "subunitcolor": "white"
          },
          "hoverlabel": {
           "align": "left"
          },
          "hovermode": "closest",
          "mapbox": {
           "style": "light"
          },
          "paper_bgcolor": "white",
          "plot_bgcolor": "#E5ECF6",
          "polar": {
           "angularaxis": {
            "gridcolor": "white",
            "linecolor": "white",
            "ticks": ""
           },
           "bgcolor": "#E5ECF6",
           "radialaxis": {
            "gridcolor": "white",
            "linecolor": "white",
            "ticks": ""
           }
          },
          "scene": {
           "xaxis": {
            "backgroundcolor": "#E5ECF6",
            "gridcolor": "white",
            "gridwidth": 2,
            "linecolor": "white",
            "showbackground": true,
            "ticks": "",
            "zerolinecolor": "white"
           },
           "yaxis": {
            "backgroundcolor": "#E5ECF6",
            "gridcolor": "white",
            "gridwidth": 2,
            "linecolor": "white",
            "showbackground": true,
            "ticks": "",
            "zerolinecolor": "white"
           },
           "zaxis": {
            "backgroundcolor": "#E5ECF6",
            "gridcolor": "white",
            "gridwidth": 2,
            "linecolor": "white",
            "showbackground": true,
            "ticks": "",
            "zerolinecolor": "white"
           }
          },
          "shapedefaults": {
           "line": {
            "color": "#2a3f5f"
           }
          },
          "ternary": {
           "aaxis": {
            "gridcolor": "white",
            "linecolor": "white",
            "ticks": ""
           },
           "baxis": {
            "gridcolor": "white",
            "linecolor": "white",
            "ticks": ""
           },
           "bgcolor": "#E5ECF6",
           "caxis": {
            "gridcolor": "white",
            "linecolor": "white",
            "ticks": ""
           }
          },
          "title": {
           "x": 0.05
          },
          "xaxis": {
           "automargin": true,
           "gridcolor": "white",
           "linecolor": "white",
           "ticks": "",
           "title": {
            "standoff": 15
           },
           "zerolinecolor": "white",
           "zerolinewidth": 2
          },
          "yaxis": {
           "automargin": true,
           "gridcolor": "white",
           "linecolor": "white",
           "ticks": "",
           "title": {
            "standoff": 15
           },
           "zerolinecolor": "white",
           "zerolinewidth": 2
          }
         }
        },
        "title": {
         "text": "Top Topics with Meaningful Terms"
        },
        "xaxis": {
         "anchor": "y",
         "domain": [
          0,
          0.175
         ]
        },
        "xaxis2": {
         "anchor": "y2",
         "domain": [
          0.275,
          0.45
         ]
        },
        "xaxis3": {
         "anchor": "y3",
         "domain": [
          0.55,
          0.7250000000000001
         ]
        },
        "xaxis4": {
         "anchor": "y4",
         "domain": [
          0.825,
          1
         ]
        },
        "xaxis5": {
         "anchor": "y5",
         "domain": [
          0,
          0.175
         ]
        },
        "xaxis6": {
         "anchor": "y6",
         "domain": [
          0.275,
          0.45
         ]
        },
        "xaxis7": {
         "anchor": "y7",
         "domain": [
          0.55,
          0.7250000000000001
         ]
        },
        "xaxis8": {
         "anchor": "y8",
         "domain": [
          0.825,
          1
         ]
        },
        "yaxis": {
         "anchor": "x",
         "autorange": "reversed",
         "domain": [
          0.625,
          1
         ]
        },
        "yaxis2": {
         "anchor": "x2",
         "autorange": "reversed",
         "domain": [
          0.625,
          1
         ]
        },
        "yaxis3": {
         "anchor": "x3",
         "autorange": "reversed",
         "domain": [
          0.625,
          1
         ]
        },
        "yaxis4": {
         "anchor": "x4",
         "autorange": "reversed",
         "domain": [
          0.625,
          1
         ]
        },
        "yaxis5": {
         "anchor": "x5",
         "autorange": "reversed",
         "domain": [
          0,
          0.375
         ]
        },
        "yaxis6": {
         "anchor": "x6",
         "autorange": "reversed",
         "domain": [
          0,
          0.375
         ]
        },
        "yaxis7": {
         "anchor": "x7",
         "autorange": "reversed",
         "domain": [
          0,
          0.375
         ]
        },
        "yaxis8": {
         "anchor": "x8",
         "autorange": "reversed",
         "domain": [
          0,
          0.375
         ]
        }
       }
      }
     },
     "metadata": {},
     "output_type": "display_data"
    },
    {
     "name": "stderr",
     "output_type": "stream",
     "text": [
      "2025-03-29 00:43:37,370 - New Data Processor Notebook - INFO - Creating Topic Sentiment Heatmap (BERT)...\n",
      "2025-03-29 00:43:37,428 - New Data Processor Notebook - INFO - Topic sentiment heatmap saved to /Users/DINGZEEFS/Documents/Fine_tuning_odido/output_dir/new_data_notebook_results/visualizations/topic_sentiment_heatmap_bert.html\n"
     ]
    },
    {
     "data": {
      "application/vnd.plotly.v1+json": {
       "config": {
        "plotlyServerURL": "https://plot.ly"
       },
       "data": [
        {
         "coloraxis": "coloraxis",
         "histfunc": "sum",
         "hovertemplate": "Sentiment=%{x}<br>Topic=%{y}<br>sum of Percentage (%)=%{z}<extra></extra>",
         "name": "",
         "type": "histogram2d",
         "x": [
          "negative",
          "negative",
          "negative",
          "negative",
          "positive",
          "positive",
          "positive",
          "positive"
         ],
         "xaxis": "x",
         "xbingroup": "x",
         "y": [
          "Customer Service",
          "Overig",
          "Prijs & Kosten",
          "Productkwaliteit & Ervaring",
          "Customer Service",
          "Overig",
          "Prijs & Kosten",
          "Productkwaliteit & Ervaring"
         ],
         "yaxis": "y",
         "ybingroup": "y",
         "z": {
          "bdata": "qqqqqqqqMEAAAAAAAAAAAAAAAAAAAE5AAAAAAABAT0BWVVVVVdVUQAAAAAAAAFlAAAAAAAAAREAAAAAAAMBCQA==",
          "dtype": "f8"
         }
        }
       ],
       "layout": {
        "coloraxis": {
         "colorbar": {
          "title": {
           "text": "sum of Percentage (%)"
          }
         },
         "colorscale": [
          [
           0,
           "#440154"
          ],
          [
           0.1111111111111111,
           "#482878"
          ],
          [
           0.2222222222222222,
           "#3e4989"
          ],
          [
           0.3333333333333333,
           "#31688e"
          ],
          [
           0.4444444444444444,
           "#26828e"
          ],
          [
           0.5555555555555556,
           "#1f9e89"
          ],
          [
           0.6666666666666666,
           "#35b779"
          ],
          [
           0.7777777777777778,
           "#6ece58"
          ],
          [
           0.8888888888888888,
           "#b5de2b"
          ],
          [
           1,
           "#fde725"
          ]
         ]
        },
        "legend": {
         "tracegroupgap": 0
        },
        "template": {
         "data": {
          "bar": [
           {
            "error_x": {
             "color": "#2a3f5f"
            },
            "error_y": {
             "color": "#2a3f5f"
            },
            "marker": {
             "line": {
              "color": "#E5ECF6",
              "width": 0.5
             },
             "pattern": {
              "fillmode": "overlay",
              "size": 10,
              "solidity": 0.2
             }
            },
            "type": "bar"
           }
          ],
          "barpolar": [
           {
            "marker": {
             "line": {
              "color": "#E5ECF6",
              "width": 0.5
             },
             "pattern": {
              "fillmode": "overlay",
              "size": 10,
              "solidity": 0.2
             }
            },
            "type": "barpolar"
           }
          ],
          "carpet": [
           {
            "aaxis": {
             "endlinecolor": "#2a3f5f",
             "gridcolor": "white",
             "linecolor": "white",
             "minorgridcolor": "white",
             "startlinecolor": "#2a3f5f"
            },
            "baxis": {
             "endlinecolor": "#2a3f5f",
             "gridcolor": "white",
             "linecolor": "white",
             "minorgridcolor": "white",
             "startlinecolor": "#2a3f5f"
            },
            "type": "carpet"
           }
          ],
          "choropleth": [
           {
            "colorbar": {
             "outlinewidth": 0,
             "ticks": ""
            },
            "type": "choropleth"
           }
          ],
          "contour": [
           {
            "colorbar": {
             "outlinewidth": 0,
             "ticks": ""
            },
            "colorscale": [
             [
              0,
              "#0d0887"
             ],
             [
              0.1111111111111111,
              "#46039f"
             ],
             [
              0.2222222222222222,
              "#7201a8"
             ],
             [
              0.3333333333333333,
              "#9c179e"
             ],
             [
              0.4444444444444444,
              "#bd3786"
             ],
             [
              0.5555555555555556,
              "#d8576b"
             ],
             [
              0.6666666666666666,
              "#ed7953"
             ],
             [
              0.7777777777777778,
              "#fb9f3a"
             ],
             [
              0.8888888888888888,
              "#fdca26"
             ],
             [
              1,
              "#f0f921"
             ]
            ],
            "type": "contour"
           }
          ],
          "contourcarpet": [
           {
            "colorbar": {
             "outlinewidth": 0,
             "ticks": ""
            },
            "type": "contourcarpet"
           }
          ],
          "heatmap": [
           {
            "colorbar": {
             "outlinewidth": 0,
             "ticks": ""
            },
            "colorscale": [
             [
              0,
              "#0d0887"
             ],
             [
              0.1111111111111111,
              "#46039f"
             ],
             [
              0.2222222222222222,
              "#7201a8"
             ],
             [
              0.3333333333333333,
              "#9c179e"
             ],
             [
              0.4444444444444444,
              "#bd3786"
             ],
             [
              0.5555555555555556,
              "#d8576b"
             ],
             [
              0.6666666666666666,
              "#ed7953"
             ],
             [
              0.7777777777777778,
              "#fb9f3a"
             ],
             [
              0.8888888888888888,
              "#fdca26"
             ],
             [
              1,
              "#f0f921"
             ]
            ],
            "type": "heatmap"
           }
          ],
          "histogram": [
           {
            "marker": {
             "pattern": {
              "fillmode": "overlay",
              "size": 10,
              "solidity": 0.2
             }
            },
            "type": "histogram"
           }
          ],
          "histogram2d": [
           {
            "colorbar": {
             "outlinewidth": 0,
             "ticks": ""
            },
            "colorscale": [
             [
              0,
              "#0d0887"
             ],
             [
              0.1111111111111111,
              "#46039f"
             ],
             [
              0.2222222222222222,
              "#7201a8"
             ],
             [
              0.3333333333333333,
              "#9c179e"
             ],
             [
              0.4444444444444444,
              "#bd3786"
             ],
             [
              0.5555555555555556,
              "#d8576b"
             ],
             [
              0.6666666666666666,
              "#ed7953"
             ],
             [
              0.7777777777777778,
              "#fb9f3a"
             ],
             [
              0.8888888888888888,
              "#fdca26"
             ],
             [
              1,
              "#f0f921"
             ]
            ],
            "type": "histogram2d"
           }
          ],
          "histogram2dcontour": [
           {
            "colorbar": {
             "outlinewidth": 0,
             "ticks": ""
            },
            "colorscale": [
             [
              0,
              "#0d0887"
             ],
             [
              0.1111111111111111,
              "#46039f"
             ],
             [
              0.2222222222222222,
              "#7201a8"
             ],
             [
              0.3333333333333333,
              "#9c179e"
             ],
             [
              0.4444444444444444,
              "#bd3786"
             ],
             [
              0.5555555555555556,
              "#d8576b"
             ],
             [
              0.6666666666666666,
              "#ed7953"
             ],
             [
              0.7777777777777778,
              "#fb9f3a"
             ],
             [
              0.8888888888888888,
              "#fdca26"
             ],
             [
              1,
              "#f0f921"
             ]
            ],
            "type": "histogram2dcontour"
           }
          ],
          "mesh3d": [
           {
            "colorbar": {
             "outlinewidth": 0,
             "ticks": ""
            },
            "type": "mesh3d"
           }
          ],
          "parcoords": [
           {
            "line": {
             "colorbar": {
              "outlinewidth": 0,
              "ticks": ""
             }
            },
            "type": "parcoords"
           }
          ],
          "pie": [
           {
            "automargin": true,
            "type": "pie"
           }
          ],
          "scatter": [
           {
            "fillpattern": {
             "fillmode": "overlay",
             "size": 10,
             "solidity": 0.2
            },
            "type": "scatter"
           }
          ],
          "scatter3d": [
           {
            "line": {
             "colorbar": {
              "outlinewidth": 0,
              "ticks": ""
             }
            },
            "marker": {
             "colorbar": {
              "outlinewidth": 0,
              "ticks": ""
             }
            },
            "type": "scatter3d"
           }
          ],
          "scattercarpet": [
           {
            "marker": {
             "colorbar": {
              "outlinewidth": 0,
              "ticks": ""
             }
            },
            "type": "scattercarpet"
           }
          ],
          "scattergeo": [
           {
            "marker": {
             "colorbar": {
              "outlinewidth": 0,
              "ticks": ""
             }
            },
            "type": "scattergeo"
           }
          ],
          "scattergl": [
           {
            "marker": {
             "colorbar": {
              "outlinewidth": 0,
              "ticks": ""
             }
            },
            "type": "scattergl"
           }
          ],
          "scattermap": [
           {
            "marker": {
             "colorbar": {
              "outlinewidth": 0,
              "ticks": ""
             }
            },
            "type": "scattermap"
           }
          ],
          "scattermapbox": [
           {
            "marker": {
             "colorbar": {
              "outlinewidth": 0,
              "ticks": ""
             }
            },
            "type": "scattermapbox"
           }
          ],
          "scatterpolar": [
           {
            "marker": {
             "colorbar": {
              "outlinewidth": 0,
              "ticks": ""
             }
            },
            "type": "scatterpolar"
           }
          ],
          "scatterpolargl": [
           {
            "marker": {
             "colorbar": {
              "outlinewidth": 0,
              "ticks": ""
             }
            },
            "type": "scatterpolargl"
           }
          ],
          "scatterternary": [
           {
            "marker": {
             "colorbar": {
              "outlinewidth": 0,
              "ticks": ""
             }
            },
            "type": "scatterternary"
           }
          ],
          "surface": [
           {
            "colorbar": {
             "outlinewidth": 0,
             "ticks": ""
            },
            "colorscale": [
             [
              0,
              "#0d0887"
             ],
             [
              0.1111111111111111,
              "#46039f"
             ],
             [
              0.2222222222222222,
              "#7201a8"
             ],
             [
              0.3333333333333333,
              "#9c179e"
             ],
             [
              0.4444444444444444,
              "#bd3786"
             ],
             [
              0.5555555555555556,
              "#d8576b"
             ],
             [
              0.6666666666666666,
              "#ed7953"
             ],
             [
              0.7777777777777778,
              "#fb9f3a"
             ],
             [
              0.8888888888888888,
              "#fdca26"
             ],
             [
              1,
              "#f0f921"
             ]
            ],
            "type": "surface"
           }
          ],
          "table": [
           {
            "cells": {
             "fill": {
              "color": "#EBF0F8"
             },
             "line": {
              "color": "white"
             }
            },
            "header": {
             "fill": {
              "color": "#C8D4E3"
             },
             "line": {
              "color": "white"
             }
            },
            "type": "table"
           }
          ]
         },
         "layout": {
          "annotationdefaults": {
           "arrowcolor": "#2a3f5f",
           "arrowhead": 0,
           "arrowwidth": 1
          },
          "autotypenumbers": "strict",
          "coloraxis": {
           "colorbar": {
            "outlinewidth": 0,
            "ticks": ""
           }
          },
          "colorscale": {
           "diverging": [
            [
             0,
             "#8e0152"
            ],
            [
             0.1,
             "#c51b7d"
            ],
            [
             0.2,
             "#de77ae"
            ],
            [
             0.3,
             "#f1b6da"
            ],
            [
             0.4,
             "#fde0ef"
            ],
            [
             0.5,
             "#f7f7f7"
            ],
            [
             0.6,
             "#e6f5d0"
            ],
            [
             0.7,
             "#b8e186"
            ],
            [
             0.8,
             "#7fbc41"
            ],
            [
             0.9,
             "#4d9221"
            ],
            [
             1,
             "#276419"
            ]
           ],
           "sequential": [
            [
             0,
             "#0d0887"
            ],
            [
             0.1111111111111111,
             "#46039f"
            ],
            [
             0.2222222222222222,
             "#7201a8"
            ],
            [
             0.3333333333333333,
             "#9c179e"
            ],
            [
             0.4444444444444444,
             "#bd3786"
            ],
            [
             0.5555555555555556,
             "#d8576b"
            ],
            [
             0.6666666666666666,
             "#ed7953"
            ],
            [
             0.7777777777777778,
             "#fb9f3a"
            ],
            [
             0.8888888888888888,
             "#fdca26"
            ],
            [
             1,
             "#f0f921"
            ]
           ],
           "sequentialminus": [
            [
             0,
             "#0d0887"
            ],
            [
             0.1111111111111111,
             "#46039f"
            ],
            [
             0.2222222222222222,
             "#7201a8"
            ],
            [
             0.3333333333333333,
             "#9c179e"
            ],
            [
             0.4444444444444444,
             "#bd3786"
            ],
            [
             0.5555555555555556,
             "#d8576b"
            ],
            [
             0.6666666666666666,
             "#ed7953"
            ],
            [
             0.7777777777777778,
             "#fb9f3a"
            ],
            [
             0.8888888888888888,
             "#fdca26"
            ],
            [
             1,
             "#f0f921"
            ]
           ]
          },
          "colorway": [
           "#636efa",
           "#EF553B",
           "#00cc96",
           "#ab63fa",
           "#FFA15A",
           "#19d3f3",
           "#FF6692",
           "#B6E880",
           "#FF97FF",
           "#FECB52"
          ],
          "font": {
           "color": "#2a3f5f"
          },
          "geo": {
           "bgcolor": "white",
           "lakecolor": "white",
           "landcolor": "#E5ECF6",
           "showlakes": true,
           "showland": true,
           "subunitcolor": "white"
          },
          "hoverlabel": {
           "align": "left"
          },
          "hovermode": "closest",
          "mapbox": {
           "style": "light"
          },
          "paper_bgcolor": "white",
          "plot_bgcolor": "#E5ECF6",
          "polar": {
           "angularaxis": {
            "gridcolor": "white",
            "linecolor": "white",
            "ticks": ""
           },
           "bgcolor": "#E5ECF6",
           "radialaxis": {
            "gridcolor": "white",
            "linecolor": "white",
            "ticks": ""
           }
          },
          "scene": {
           "xaxis": {
            "backgroundcolor": "#E5ECF6",
            "gridcolor": "white",
            "gridwidth": 2,
            "linecolor": "white",
            "showbackground": true,
            "ticks": "",
            "zerolinecolor": "white"
           },
           "yaxis": {
            "backgroundcolor": "#E5ECF6",
            "gridcolor": "white",
            "gridwidth": 2,
            "linecolor": "white",
            "showbackground": true,
            "ticks": "",
            "zerolinecolor": "white"
           },
           "zaxis": {
            "backgroundcolor": "#E5ECF6",
            "gridcolor": "white",
            "gridwidth": 2,
            "linecolor": "white",
            "showbackground": true,
            "ticks": "",
            "zerolinecolor": "white"
           }
          },
          "shapedefaults": {
           "line": {
            "color": "#2a3f5f"
           }
          },
          "ternary": {
           "aaxis": {
            "gridcolor": "white",
            "linecolor": "white",
            "ticks": ""
           },
           "baxis": {
            "gridcolor": "white",
            "linecolor": "white",
            "ticks": ""
           },
           "bgcolor": "#E5ECF6",
           "caxis": {
            "gridcolor": "white",
            "linecolor": "white",
            "ticks": ""
           }
          },
          "title": {
           "x": 0.05
          },
          "xaxis": {
           "automargin": true,
           "gridcolor": "white",
           "linecolor": "white",
           "ticks": "",
           "title": {
            "standoff": 15
           },
           "zerolinecolor": "white",
           "zerolinewidth": 2
          },
          "yaxis": {
           "automargin": true,
           "gridcolor": "white",
           "linecolor": "white",
           "ticks": "",
           "title": {
            "standoff": 15
           },
           "zerolinecolor": "white",
           "zerolinewidth": 2
          }
         }
        },
        "title": {
         "text": "Sentiment Distribution by Topic (%) - bert_sentiment"
        },
        "xaxis": {
         "anchor": "y",
         "domain": [
          0,
          1
         ],
         "title": {
          "text": "Sentiment"
         }
        },
        "yaxis": {
         "anchor": "x",
         "categoryorder": "total descending",
         "domain": [
          0,
          1
         ],
         "title": {
          "text": "Topic"
         }
        }
       }
      }
     },
     "metadata": {},
     "output_type": "display_data"
    },
    {
     "name": "stderr",
     "output_type": "stream",
     "text": [
      "2025-03-29 00:43:37,432 - New Data Processor Notebook - INFO - Creating Topic Co-occurrence Network Graph...\n",
      "2025-03-29 00:43:37,433 - New Data Processor Notebook - WARNING - Skipping theme network graph due to insufficient data.\n",
      "2025-03-29 00:43:37,433 - New Data Processor Notebook - INFO - Creating Standard BERTopic Visualizations...\n",
      "2025-03-29 00:43:37,433 - New Data Processor Notebook - INFO - Creating BERTopic: Topic Similarity Map...\n",
      "OMP: Info #276: omp_set_nested routine deprecated, please use omp_set_max_active_levels instead.\n",
      "2025-03-29 00:43:41,981 - New Data Processor Notebook - INFO - Topic Similarity Map saved to /Users/DINGZEEFS/Documents/Fine_tuning_odido/output_dir/new_data_notebook_results/visualizations/bertopic_similarity_map.html\n"
     ]
    },
    {
     "data": {
      "application/vnd.plotly.v1+json": {
       "config": {
        "plotlyServerURL": "https://plot.ly"
       },
       "data": [
        {
         "customdata": [
          [
           0,
           "overzichtelijke vergelijking | vergelijking van opties | overzichtelijke | overzichtelijke vergelijking van | van opties",
           23
          ],
          [
           1,
           "klantenservice | de | klantenservice de | de klantenservice | over",
           346
          ],
          [
           2,
           "aankoop | levering | aankoop levering | aankoop of | of",
           141
          ],
          [
           3,
           "merk | perceptie | merk perceptie | het merk | details",
           26
          ],
          [
           4,
           "snelheid | 10 van | 10 van de | van de beloofde | de beloofde snelheid",
           31
          ],
          [
           5,
           "ipv6 | niet | instellen | de | helpen",
           73
          ],
          [
           6,
           "tv | de tv | product | bij | het",
           126
          ],
          [
           7,
           "in | product | goed | dekking | bereik",
           105
          ],
          [
           8,
           "app | de ben | ben app | de ben app | product de",
           80
          ],
          [
           9,
           "simkaart | nieuwe simkaart | de | nieuwe | gratis",
           67
          ],
          [
           10,
           "prijs | de prijs | prijs de prijs | prijs de | de",
           65
          ],
          [
           11,
           "wifi | de wifi | de | meer | router",
           91
          ],
          [
           12,
           "ben | de | klant | is | een",
           368
          ],
          [
           13,
           "de | van | is | het | met",
           568
          ]
         ],
         "hovertemplate": "<b>Topic %{customdata[0]}</b><br>%{customdata[1]}<br>Size: %{customdata[2]}",
         "legendgroup": "",
         "marker": {
          "color": "#B0BEC5",
          "line": {
           "color": "DarkSlateGrey",
           "width": 2
          },
          "size": {
           "bdata": "FwBaAY0AGgAfAEkAfgBpAFAAQwBBAFsAcAE4Ag==",
           "dtype": "i2"
          },
          "sizemode": "area",
          "sizeref": 0.355,
          "symbol": "circle"
         },
         "mode": "markers",
         "name": "",
         "orientation": "v",
         "showlegend": false,
         "type": "scatter",
         "x": {
          "bdata": "G3FUvwuod8ABdYvAKF1kwCeI+b9O2inAj2Gdv8+ku76dED3A40jWvyZ85b4UQzzAkGFLwAaDq78=",
          "dtype": "f4"
         },
         "xaxis": "x",
         "y": {
          "bdata": "pj7fQJvYKMBW+hTAYan0v/ilyUBzbqBArAn8QM1530CK/xDAo1e4QNSL8EDQWJhAwTgnwJ0DxEA=",
          "dtype": "f4"
         },
         "yaxis": "y"
        }
       ],
       "layout": {
        "annotations": [
         {
          "showarrow": false,
          "text": "D1",
          "x": -5.011737823486328,
          "y": 3.011826992034912,
          "yshift": 10
         },
         {
          "showarrow": false,
          "text": "D2",
          "x": -2.661628007888794,
          "xshift": 10,
          "y": 9.057607650756836
         }
        ],
        "height": 650,
        "hoverlabel": {
         "bgcolor": "white",
         "font": {
          "family": "Rockwell",
          "size": 16
         }
        },
        "legend": {
         "itemsizing": "constant",
         "tracegroupgap": 0
        },
        "margin": {
         "t": 60
        },
        "shapes": [
         {
          "line": {
           "color": "#CFD8DC",
           "width": 2
          },
          "type": "line",
          "x0": -2.661628007888794,
          "x1": -2.661628007888794,
          "y0": -3.0339536666870117,
          "y1": 9.057607650756836
         },
         {
          "line": {
           "color": "#9E9E9E",
           "width": 2
          },
          "type": "line",
          "x0": -5.011737823486328,
          "x1": -0.31151801347732544,
          "y0": 3.011826992034912,
          "y1": 3.011826992034912
         }
        ],
        "sliders": [
         {
          "active": 0,
          "pad": {
           "t": 50
          },
          "steps": [
           {
            "args": [
             {
              "marker.color": [
               [
                "red",
                "#B0BEC5",
                "#B0BEC5",
                "#B0BEC5",
                "#B0BEC5",
                "#B0BEC5",
                "#B0BEC5",
                "#B0BEC5",
                "#B0BEC5",
                "#B0BEC5",
                "#B0BEC5",
                "#B0BEC5",
                "#B0BEC5",
                "#B0BEC5"
               ]
              ]
             }
            ],
            "label": "Topic 0",
            "method": "update"
           },
           {
            "args": [
             {
              "marker.color": [
               [
                "#B0BEC5",
                "red",
                "#B0BEC5",
                "#B0BEC5",
                "#B0BEC5",
                "#B0BEC5",
                "#B0BEC5",
                "#B0BEC5",
                "#B0BEC5",
                "#B0BEC5",
                "#B0BEC5",
                "#B0BEC5",
                "#B0BEC5",
                "#B0BEC5"
               ]
              ]
             }
            ],
            "label": "Topic 1",
            "method": "update"
           },
           {
            "args": [
             {
              "marker.color": [
               [
                "#B0BEC5",
                "#B0BEC5",
                "red",
                "#B0BEC5",
                "#B0BEC5",
                "#B0BEC5",
                "#B0BEC5",
                "#B0BEC5",
                "#B0BEC5",
                "#B0BEC5",
                "#B0BEC5",
                "#B0BEC5",
                "#B0BEC5",
                "#B0BEC5"
               ]
              ]
             }
            ],
            "label": "Topic 2",
            "method": "update"
           },
           {
            "args": [
             {
              "marker.color": [
               [
                "#B0BEC5",
                "#B0BEC5",
                "#B0BEC5",
                "red",
                "#B0BEC5",
                "#B0BEC5",
                "#B0BEC5",
                "#B0BEC5",
                "#B0BEC5",
                "#B0BEC5",
                "#B0BEC5",
                "#B0BEC5",
                "#B0BEC5",
                "#B0BEC5"
               ]
              ]
             }
            ],
            "label": "Topic 3",
            "method": "update"
           },
           {
            "args": [
             {
              "marker.color": [
               [
                "#B0BEC5",
                "#B0BEC5",
                "#B0BEC5",
                "#B0BEC5",
                "red",
                "#B0BEC5",
                "#B0BEC5",
                "#B0BEC5",
                "#B0BEC5",
                "#B0BEC5",
                "#B0BEC5",
                "#B0BEC5",
                "#B0BEC5",
                "#B0BEC5"
               ]
              ]
             }
            ],
            "label": "Topic 4",
            "method": "update"
           },
           {
            "args": [
             {
              "marker.color": [
               [
                "#B0BEC5",
                "#B0BEC5",
                "#B0BEC5",
                "#B0BEC5",
                "#B0BEC5",
                "red",
                "#B0BEC5",
                "#B0BEC5",
                "#B0BEC5",
                "#B0BEC5",
                "#B0BEC5",
                "#B0BEC5",
                "#B0BEC5",
                "#B0BEC5"
               ]
              ]
             }
            ],
            "label": "Topic 5",
            "method": "update"
           },
           {
            "args": [
             {
              "marker.color": [
               [
                "#B0BEC5",
                "#B0BEC5",
                "#B0BEC5",
                "#B0BEC5",
                "#B0BEC5",
                "#B0BEC5",
                "red",
                "#B0BEC5",
                "#B0BEC5",
                "#B0BEC5",
                "#B0BEC5",
                "#B0BEC5",
                "#B0BEC5",
                "#B0BEC5"
               ]
              ]
             }
            ],
            "label": "Topic 6",
            "method": "update"
           },
           {
            "args": [
             {
              "marker.color": [
               [
                "#B0BEC5",
                "#B0BEC5",
                "#B0BEC5",
                "#B0BEC5",
                "#B0BEC5",
                "#B0BEC5",
                "#B0BEC5",
                "red",
                "#B0BEC5",
                "#B0BEC5",
                "#B0BEC5",
                "#B0BEC5",
                "#B0BEC5",
                "#B0BEC5"
               ]
              ]
             }
            ],
            "label": "Topic 7",
            "method": "update"
           },
           {
            "args": [
             {
              "marker.color": [
               [
                "#B0BEC5",
                "#B0BEC5",
                "#B0BEC5",
                "#B0BEC5",
                "#B0BEC5",
                "#B0BEC5",
                "#B0BEC5",
                "#B0BEC5",
                "red",
                "#B0BEC5",
                "#B0BEC5",
                "#B0BEC5",
                "#B0BEC5",
                "#B0BEC5"
               ]
              ]
             }
            ],
            "label": "Topic 8",
            "method": "update"
           },
           {
            "args": [
             {
              "marker.color": [
               [
                "#B0BEC5",
                "#B0BEC5",
                "#B0BEC5",
                "#B0BEC5",
                "#B0BEC5",
                "#B0BEC5",
                "#B0BEC5",
                "#B0BEC5",
                "#B0BEC5",
                "red",
                "#B0BEC5",
                "#B0BEC5",
                "#B0BEC5",
                "#B0BEC5"
               ]
              ]
             }
            ],
            "label": "Topic 9",
            "method": "update"
           },
           {
            "args": [
             {
              "marker.color": [
               [
                "#B0BEC5",
                "#B0BEC5",
                "#B0BEC5",
                "#B0BEC5",
                "#B0BEC5",
                "#B0BEC5",
                "#B0BEC5",
                "#B0BEC5",
                "#B0BEC5",
                "#B0BEC5",
                "red",
                "#B0BEC5",
                "#B0BEC5",
                "#B0BEC5"
               ]
              ]
             }
            ],
            "label": "Topic 10",
            "method": "update"
           },
           {
            "args": [
             {
              "marker.color": [
               [
                "#B0BEC5",
                "#B0BEC5",
                "#B0BEC5",
                "#B0BEC5",
                "#B0BEC5",
                "#B0BEC5",
                "#B0BEC5",
                "#B0BEC5",
                "#B0BEC5",
                "#B0BEC5",
                "#B0BEC5",
                "red",
                "#B0BEC5",
                "#B0BEC5"
               ]
              ]
             }
            ],
            "label": "Topic 11",
            "method": "update"
           },
           {
            "args": [
             {
              "marker.color": [
               [
                "#B0BEC5",
                "#B0BEC5",
                "#B0BEC5",
                "#B0BEC5",
                "#B0BEC5",
                "#B0BEC5",
                "#B0BEC5",
                "#B0BEC5",
                "#B0BEC5",
                "#B0BEC5",
                "#B0BEC5",
                "#B0BEC5",
                "red",
                "#B0BEC5"
               ]
              ]
             }
            ],
            "label": "Topic 12",
            "method": "update"
           },
           {
            "args": [
             {
              "marker.color": [
               [
                "#B0BEC5",
                "#B0BEC5",
                "#B0BEC5",
                "#B0BEC5",
                "#B0BEC5",
                "#B0BEC5",
                "#B0BEC5",
                "#B0BEC5",
                "#B0BEC5",
                "#B0BEC5",
                "#B0BEC5",
                "#B0BEC5",
                "#B0BEC5",
                "red"
               ]
              ]
             }
            ],
            "label": "Topic 13",
            "method": "update"
           }
          ]
         }
        ],
        "template": {
         "data": {
          "bar": [
           {
            "error_x": {
             "color": "rgb(36,36,36)"
            },
            "error_y": {
             "color": "rgb(36,36,36)"
            },
            "marker": {
             "line": {
              "color": "white",
              "width": 0.5
             },
             "pattern": {
              "fillmode": "overlay",
              "size": 10,
              "solidity": 0.2
             }
            },
            "type": "bar"
           }
          ],
          "barpolar": [
           {
            "marker": {
             "line": {
              "color": "white",
              "width": 0.5
             },
             "pattern": {
              "fillmode": "overlay",
              "size": 10,
              "solidity": 0.2
             }
            },
            "type": "barpolar"
           }
          ],
          "carpet": [
           {
            "aaxis": {
             "endlinecolor": "rgb(36,36,36)",
             "gridcolor": "white",
             "linecolor": "white",
             "minorgridcolor": "white",
             "startlinecolor": "rgb(36,36,36)"
            },
            "baxis": {
             "endlinecolor": "rgb(36,36,36)",
             "gridcolor": "white",
             "linecolor": "white",
             "minorgridcolor": "white",
             "startlinecolor": "rgb(36,36,36)"
            },
            "type": "carpet"
           }
          ],
          "choropleth": [
           {
            "colorbar": {
             "outlinewidth": 1,
             "tickcolor": "rgb(36,36,36)",
             "ticks": "outside"
            },
            "type": "choropleth"
           }
          ],
          "contour": [
           {
            "colorbar": {
             "outlinewidth": 1,
             "tickcolor": "rgb(36,36,36)",
             "ticks": "outside"
            },
            "colorscale": [
             [
              0,
              "#440154"
             ],
             [
              0.1111111111111111,
              "#482878"
             ],
             [
              0.2222222222222222,
              "#3e4989"
             ],
             [
              0.3333333333333333,
              "#31688e"
             ],
             [
              0.4444444444444444,
              "#26828e"
             ],
             [
              0.5555555555555556,
              "#1f9e89"
             ],
             [
              0.6666666666666666,
              "#35b779"
             ],
             [
              0.7777777777777778,
              "#6ece58"
             ],
             [
              0.8888888888888888,
              "#b5de2b"
             ],
             [
              1,
              "#fde725"
             ]
            ],
            "type": "contour"
           }
          ],
          "contourcarpet": [
           {
            "colorbar": {
             "outlinewidth": 1,
             "tickcolor": "rgb(36,36,36)",
             "ticks": "outside"
            },
            "type": "contourcarpet"
           }
          ],
          "heatmap": [
           {
            "colorbar": {
             "outlinewidth": 1,
             "tickcolor": "rgb(36,36,36)",
             "ticks": "outside"
            },
            "colorscale": [
             [
              0,
              "#440154"
             ],
             [
              0.1111111111111111,
              "#482878"
             ],
             [
              0.2222222222222222,
              "#3e4989"
             ],
             [
              0.3333333333333333,
              "#31688e"
             ],
             [
              0.4444444444444444,
              "#26828e"
             ],
             [
              0.5555555555555556,
              "#1f9e89"
             ],
             [
              0.6666666666666666,
              "#35b779"
             ],
             [
              0.7777777777777778,
              "#6ece58"
             ],
             [
              0.8888888888888888,
              "#b5de2b"
             ],
             [
              1,
              "#fde725"
             ]
            ],
            "type": "heatmap"
           }
          ],
          "histogram": [
           {
            "marker": {
             "line": {
              "color": "white",
              "width": 0.6
             }
            },
            "type": "histogram"
           }
          ],
          "histogram2d": [
           {
            "colorbar": {
             "outlinewidth": 1,
             "tickcolor": "rgb(36,36,36)",
             "ticks": "outside"
            },
            "colorscale": [
             [
              0,
              "#440154"
             ],
             [
              0.1111111111111111,
              "#482878"
             ],
             [
              0.2222222222222222,
              "#3e4989"
             ],
             [
              0.3333333333333333,
              "#31688e"
             ],
             [
              0.4444444444444444,
              "#26828e"
             ],
             [
              0.5555555555555556,
              "#1f9e89"
             ],
             [
              0.6666666666666666,
              "#35b779"
             ],
             [
              0.7777777777777778,
              "#6ece58"
             ],
             [
              0.8888888888888888,
              "#b5de2b"
             ],
             [
              1,
              "#fde725"
             ]
            ],
            "type": "histogram2d"
           }
          ],
          "histogram2dcontour": [
           {
            "colorbar": {
             "outlinewidth": 1,
             "tickcolor": "rgb(36,36,36)",
             "ticks": "outside"
            },
            "colorscale": [
             [
              0,
              "#440154"
             ],
             [
              0.1111111111111111,
              "#482878"
             ],
             [
              0.2222222222222222,
              "#3e4989"
             ],
             [
              0.3333333333333333,
              "#31688e"
             ],
             [
              0.4444444444444444,
              "#26828e"
             ],
             [
              0.5555555555555556,
              "#1f9e89"
             ],
             [
              0.6666666666666666,
              "#35b779"
             ],
             [
              0.7777777777777778,
              "#6ece58"
             ],
             [
              0.8888888888888888,
              "#b5de2b"
             ],
             [
              1,
              "#fde725"
             ]
            ],
            "type": "histogram2dcontour"
           }
          ],
          "mesh3d": [
           {
            "colorbar": {
             "outlinewidth": 1,
             "tickcolor": "rgb(36,36,36)",
             "ticks": "outside"
            },
            "type": "mesh3d"
           }
          ],
          "parcoords": [
           {
            "line": {
             "colorbar": {
              "outlinewidth": 1,
              "tickcolor": "rgb(36,36,36)",
              "ticks": "outside"
             }
            },
            "type": "parcoords"
           }
          ],
          "pie": [
           {
            "automargin": true,
            "type": "pie"
           }
          ],
          "scatter": [
           {
            "fillpattern": {
             "fillmode": "overlay",
             "size": 10,
             "solidity": 0.2
            },
            "type": "scatter"
           }
          ],
          "scatter3d": [
           {
            "line": {
             "colorbar": {
              "outlinewidth": 1,
              "tickcolor": "rgb(36,36,36)",
              "ticks": "outside"
             }
            },
            "marker": {
             "colorbar": {
              "outlinewidth": 1,
              "tickcolor": "rgb(36,36,36)",
              "ticks": "outside"
             }
            },
            "type": "scatter3d"
           }
          ],
          "scattercarpet": [
           {
            "marker": {
             "colorbar": {
              "outlinewidth": 1,
              "tickcolor": "rgb(36,36,36)",
              "ticks": "outside"
             }
            },
            "type": "scattercarpet"
           }
          ],
          "scattergeo": [
           {
            "marker": {
             "colorbar": {
              "outlinewidth": 1,
              "tickcolor": "rgb(36,36,36)",
              "ticks": "outside"
             }
            },
            "type": "scattergeo"
           }
          ],
          "scattergl": [
           {
            "marker": {
             "colorbar": {
              "outlinewidth": 1,
              "tickcolor": "rgb(36,36,36)",
              "ticks": "outside"
             }
            },
            "type": "scattergl"
           }
          ],
          "scattermap": [
           {
            "marker": {
             "colorbar": {
              "outlinewidth": 1,
              "tickcolor": "rgb(36,36,36)",
              "ticks": "outside"
             }
            },
            "type": "scattermap"
           }
          ],
          "scattermapbox": [
           {
            "marker": {
             "colorbar": {
              "outlinewidth": 1,
              "tickcolor": "rgb(36,36,36)",
              "ticks": "outside"
             }
            },
            "type": "scattermapbox"
           }
          ],
          "scatterpolar": [
           {
            "marker": {
             "colorbar": {
              "outlinewidth": 1,
              "tickcolor": "rgb(36,36,36)",
              "ticks": "outside"
             }
            },
            "type": "scatterpolar"
           }
          ],
          "scatterpolargl": [
           {
            "marker": {
             "colorbar": {
              "outlinewidth": 1,
              "tickcolor": "rgb(36,36,36)",
              "ticks": "outside"
             }
            },
            "type": "scatterpolargl"
           }
          ],
          "scatterternary": [
           {
            "marker": {
             "colorbar": {
              "outlinewidth": 1,
              "tickcolor": "rgb(36,36,36)",
              "ticks": "outside"
             }
            },
            "type": "scatterternary"
           }
          ],
          "surface": [
           {
            "colorbar": {
             "outlinewidth": 1,
             "tickcolor": "rgb(36,36,36)",
             "ticks": "outside"
            },
            "colorscale": [
             [
              0,
              "#440154"
             ],
             [
              0.1111111111111111,
              "#482878"
             ],
             [
              0.2222222222222222,
              "#3e4989"
             ],
             [
              0.3333333333333333,
              "#31688e"
             ],
             [
              0.4444444444444444,
              "#26828e"
             ],
             [
              0.5555555555555556,
              "#1f9e89"
             ],
             [
              0.6666666666666666,
              "#35b779"
             ],
             [
              0.7777777777777778,
              "#6ece58"
             ],
             [
              0.8888888888888888,
              "#b5de2b"
             ],
             [
              1,
              "#fde725"
             ]
            ],
            "type": "surface"
           }
          ],
          "table": [
           {
            "cells": {
             "fill": {
              "color": "rgb(237,237,237)"
             },
             "line": {
              "color": "white"
             }
            },
            "header": {
             "fill": {
              "color": "rgb(217,217,217)"
             },
             "line": {
              "color": "white"
             }
            },
            "type": "table"
           }
          ]
         },
         "layout": {
          "annotationdefaults": {
           "arrowhead": 0,
           "arrowwidth": 1
          },
          "autotypenumbers": "strict",
          "coloraxis": {
           "colorbar": {
            "outlinewidth": 1,
            "tickcolor": "rgb(36,36,36)",
            "ticks": "outside"
           }
          },
          "colorscale": {
           "diverging": [
            [
             0,
             "rgb(103,0,31)"
            ],
            [
             0.1,
             "rgb(178,24,43)"
            ],
            [
             0.2,
             "rgb(214,96,77)"
            ],
            [
             0.3,
             "rgb(244,165,130)"
            ],
            [
             0.4,
             "rgb(253,219,199)"
            ],
            [
             0.5,
             "rgb(247,247,247)"
            ],
            [
             0.6,
             "rgb(209,229,240)"
            ],
            [
             0.7,
             "rgb(146,197,222)"
            ],
            [
             0.8,
             "rgb(67,147,195)"
            ],
            [
             0.9,
             "rgb(33,102,172)"
            ],
            [
             1,
             "rgb(5,48,97)"
            ]
           ],
           "sequential": [
            [
             0,
             "#440154"
            ],
            [
             0.1111111111111111,
             "#482878"
            ],
            [
             0.2222222222222222,
             "#3e4989"
            ],
            [
             0.3333333333333333,
             "#31688e"
            ],
            [
             0.4444444444444444,
             "#26828e"
            ],
            [
             0.5555555555555556,
             "#1f9e89"
            ],
            [
             0.6666666666666666,
             "#35b779"
            ],
            [
             0.7777777777777778,
             "#6ece58"
            ],
            [
             0.8888888888888888,
             "#b5de2b"
            ],
            [
             1,
             "#fde725"
            ]
           ],
           "sequentialminus": [
            [
             0,
             "#440154"
            ],
            [
             0.1111111111111111,
             "#482878"
            ],
            [
             0.2222222222222222,
             "#3e4989"
            ],
            [
             0.3333333333333333,
             "#31688e"
            ],
            [
             0.4444444444444444,
             "#26828e"
            ],
            [
             0.5555555555555556,
             "#1f9e89"
            ],
            [
             0.6666666666666666,
             "#35b779"
            ],
            [
             0.7777777777777778,
             "#6ece58"
            ],
            [
             0.8888888888888888,
             "#b5de2b"
            ],
            [
             1,
             "#fde725"
            ]
           ]
          },
          "colorway": [
           "#1F77B4",
           "#FF7F0E",
           "#2CA02C",
           "#D62728",
           "#9467BD",
           "#8C564B",
           "#E377C2",
           "#7F7F7F",
           "#BCBD22",
           "#17BECF"
          ],
          "font": {
           "color": "rgb(36,36,36)"
          },
          "geo": {
           "bgcolor": "white",
           "lakecolor": "white",
           "landcolor": "white",
           "showlakes": true,
           "showland": true,
           "subunitcolor": "white"
          },
          "hoverlabel": {
           "align": "left"
          },
          "hovermode": "closest",
          "mapbox": {
           "style": "light"
          },
          "paper_bgcolor": "white",
          "plot_bgcolor": "white",
          "polar": {
           "angularaxis": {
            "gridcolor": "rgb(232,232,232)",
            "linecolor": "rgb(36,36,36)",
            "showgrid": false,
            "showline": true,
            "ticks": "outside"
           },
           "bgcolor": "white",
           "radialaxis": {
            "gridcolor": "rgb(232,232,232)",
            "linecolor": "rgb(36,36,36)",
            "showgrid": false,
            "showline": true,
            "ticks": "outside"
           }
          },
          "scene": {
           "xaxis": {
            "backgroundcolor": "white",
            "gridcolor": "rgb(232,232,232)",
            "gridwidth": 2,
            "linecolor": "rgb(36,36,36)",
            "showbackground": true,
            "showgrid": false,
            "showline": true,
            "ticks": "outside",
            "zeroline": false,
            "zerolinecolor": "rgb(36,36,36)"
           },
           "yaxis": {
            "backgroundcolor": "white",
            "gridcolor": "rgb(232,232,232)",
            "gridwidth": 2,
            "linecolor": "rgb(36,36,36)",
            "showbackground": true,
            "showgrid": false,
            "showline": true,
            "ticks": "outside",
            "zeroline": false,
            "zerolinecolor": "rgb(36,36,36)"
           },
           "zaxis": {
            "backgroundcolor": "white",
            "gridcolor": "rgb(232,232,232)",
            "gridwidth": 2,
            "linecolor": "rgb(36,36,36)",
            "showbackground": true,
            "showgrid": false,
            "showline": true,
            "ticks": "outside",
            "zeroline": false,
            "zerolinecolor": "rgb(36,36,36)"
           }
          },
          "shapedefaults": {
           "fillcolor": "black",
           "line": {
            "width": 0
           },
           "opacity": 0.3
          },
          "ternary": {
           "aaxis": {
            "gridcolor": "rgb(232,232,232)",
            "linecolor": "rgb(36,36,36)",
            "showgrid": false,
            "showline": true,
            "ticks": "outside"
           },
           "baxis": {
            "gridcolor": "rgb(232,232,232)",
            "linecolor": "rgb(36,36,36)",
            "showgrid": false,
            "showline": true,
            "ticks": "outside"
           },
           "bgcolor": "white",
           "caxis": {
            "gridcolor": "rgb(232,232,232)",
            "linecolor": "rgb(36,36,36)",
            "showgrid": false,
            "showline": true,
            "ticks": "outside"
           }
          },
          "title": {
           "x": 0.05
          },
          "xaxis": {
           "automargin": true,
           "gridcolor": "rgb(232,232,232)",
           "linecolor": "rgb(36,36,36)",
           "showgrid": false,
           "showline": true,
           "ticks": "outside",
           "title": {
            "standoff": 15
           },
           "zeroline": false,
           "zerolinecolor": "rgb(36,36,36)"
          },
          "yaxis": {
           "automargin": true,
           "gridcolor": "rgb(232,232,232)",
           "linecolor": "rgb(36,36,36)",
           "showgrid": false,
           "showline": true,
           "ticks": "outside",
           "title": {
            "standoff": 15
           },
           "zeroline": false,
           "zerolinecolor": "rgb(36,36,36)"
          }
         }
        },
        "title": {
         "font": {
          "color": "Black",
          "size": 22
         },
         "text": "<b>Intertopic Distance Map</b>",
         "x": 0.5,
         "xanchor": "center",
         "y": 0.95,
         "yanchor": "top"
        },
        "width": 650,
        "xaxis": {
         "anchor": "y",
         "domain": [
          0,
          1
         ],
         "range": [
          -5.011737823486328,
          -0.31151801347732544
         ],
         "title": {
          "text": ""
         },
         "visible": false
        },
        "yaxis": {
         "anchor": "x",
         "domain": [
          0,
          1
         ],
         "range": [
          -3.0339536666870117,
          9.057607650756836
         ],
         "title": {
          "text": ""
         },
         "visible": false
        }
       }
      }
     },
     "metadata": {},
     "output_type": "display_data"
    },
    {
     "name": "stderr",
     "output_type": "stream",
     "text": [
      "2025-03-29 00:43:41,983 - New Data Processor Notebook - INFO - Creating BERTopic: Topic Barchart...\n",
      "2025-03-29 00:43:42,025 - New Data Processor Notebook - INFO - Topic Barchart saved to /Users/DINGZEEFS/Documents/Fine_tuning_odido/output_dir/new_data_notebook_results/visualizations/bertopic_barchart.html\n"
     ]
    },
    {
     "data": {
      "application/vnd.plotly.v1+json": {
       "config": {
        "plotlyServerURL": "https://plot.ly"
       },
       "data": [
        {
         "marker": {
          "color": "#D55E00"
         },
         "orientation": "h",
         "type": "bar",
         "x": [
          0.02585844443868695,
          0.033459431588494515,
          0.036196310642718936,
          0.04082461222762717,
          0.07676311023719512
         ],
         "xaxis": "x",
         "y": [
          "over  ",
          "de klantenservice  ",
          "klantenservice de  ",
          "de  ",
          "klantenservice  "
         ],
         "yaxis": "y"
        },
        {
         "marker": {
          "color": "#0072B2"
         },
         "orientation": "h",
         "type": "bar",
         "x": [
          0.04610060441128013,
          0.046123859656930964,
          0.07829963209135742,
          0.10061050644501887,
          0.10143201365321641
         ],
         "xaxis": "x2",
         "y": [
          "of  ",
          "aankoop of  ",
          "aankoop levering  ",
          "levering  ",
          "aankoop  "
         ],
         "yaxis": "y2"
        },
        {
         "marker": {
          "color": "#CC79A7"
         },
         "orientation": "h",
         "type": "bar",
         "x": [
          0.05606119687514846,
          0.05831764123455327,
          0.05831764123455327,
          0.05831764123455327,
          0.08498348252251245
         ],
         "xaxis": "x3",
         "y": [
          "de beloofde snelheid  ",
          "van de beloofde  ",
          "10 van de  ",
          "10 van  ",
          "snelheid  "
         ],
         "yaxis": "y3"
        },
        {
         "marker": {
          "color": "#E69F00"
         },
         "orientation": "h",
         "type": "bar",
         "x": [
          0.03911391156994152,
          0.04012732303449439,
          0.04124124113325455,
          0.04399441965233697,
          0.049747893043699164
         ],
         "xaxis": "x4",
         "y": [
          "helpen  ",
          "de  ",
          "instellen  ",
          "niet  ",
          "ipv6  "
         ],
         "yaxis": "y4"
        },
        {
         "marker": {
          "color": "#56B4E9"
         },
         "orientation": "h",
         "type": "bar",
         "x": [
          0.03823719572263135,
          0.04844434631389853,
          0.05397013496160521,
          0.05575298406835039,
          0.07828034878991465
         ],
         "xaxis": "x5",
         "y": [
          "het  ",
          "bij  ",
          "product  ",
          "de tv  ",
          "tv  "
         ],
         "yaxis": "y5"
        },
        {
         "marker": {
          "color": "#009E73"
         },
         "orientation": "h",
         "type": "bar",
         "x": [
          0.03184400114469623,
          0.04115848401185059,
          0.04409894083165332,
          0.04626282095129877,
          0.05648306741848942
         ],
         "xaxis": "x6",
         "y": [
          "bereik  ",
          "dekking  ",
          "goed  ",
          "product  ",
          "in  "
         ],
         "yaxis": "y6"
        },
        {
         "marker": {
          "color": "#F0E442"
         },
         "orientation": "h",
         "type": "bar",
         "x": [
          0.0583713673837433,
          0.06293867804394879,
          0.06293867804394879,
          0.06805740416746406,
          0.0854380518572704
         ],
         "xaxis": "x7",
         "y": [
          "product de  ",
          "de ben app  ",
          "ben app  ",
          "de ben  ",
          "app  "
         ],
         "yaxis": "y7"
        },
        {
         "marker": {
          "color": "#D55E00"
         },
         "orientation": "h",
         "type": "bar",
         "x": [
          0.03629945276348559,
          0.036418056939861006,
          0.04378378471287122,
          0.046975762399804874,
          0.07689337948749753
         ],
         "xaxis": "x8",
         "y": [
          "gratis  ",
          "nieuwe  ",
          "de  ",
          "nieuwe simkaart  ",
          "simkaart  "
         ],
         "yaxis": "y8"
        },
        {
         "marker": {
          "color": "#0072B2"
         },
         "orientation": "h",
         "type": "bar",
         "x": [
          0.04977035374207553,
          0.04985592483218215,
          0.05237993964557978,
          0.05676017862964197,
          0.10156648054096373
         ],
         "xaxis": "x9",
         "y": [
          "de  ",
          "prijs de  ",
          "prijs de prijs  ",
          "de prijs  ",
          "prijs  "
         ],
         "yaxis": "y9"
        },
        {
         "marker": {
          "color": "#CC79A7"
         },
         "orientation": "h",
         "type": "bar",
         "x": [
          0.03244295250384651,
          0.033445604357759645,
          0.04123562757843217,
          0.04326502377452456,
          0.0612847309153662
         ],
         "xaxis": "x10",
         "y": [
          "router  ",
          "meer  ",
          "de  ",
          "de wifi  ",
          "wifi  "
         ],
         "yaxis": "y10"
        },
        {
         "marker": {
          "color": "#E69F00"
         },
         "orientation": "h",
         "type": "bar",
         "x": [
          0.024074800517899633,
          0.024360738344205567,
          0.030303669384770755,
          0.0319674103065019,
          0.04357473289177356
         ],
         "xaxis": "x11",
         "y": [
          "een  ",
          "is  ",
          "klant  ",
          "de  ",
          "ben  "
         ],
         "yaxis": "y11"
        },
        {
         "marker": {
          "color": "#56B4E9"
         },
         "orientation": "h",
         "type": "bar",
         "x": [
          0.017759078216324112,
          0.020385275805795276,
          0.022084614959340255,
          0.02241900536660266,
          0.03867149883972676
         ],
         "xaxis": "x12",
         "y": [
          "met  ",
          "het  ",
          "is  ",
          "van  ",
          "de  "
         ],
         "yaxis": "y12"
        }
       ],
       "layout": {
        "annotations": [
         {
          "font": {
           "size": 16
          },
          "showarrow": false,
          "text": "Topic 1",
          "x": 0.0875,
          "xanchor": "center",
          "xref": "paper",
          "y": 1,
          "yanchor": "bottom",
          "yref": "paper"
         },
         {
          "font": {
           "size": 16
          },
          "showarrow": false,
          "text": "Topic 2",
          "x": 0.36250000000000004,
          "xanchor": "center",
          "xref": "paper",
          "y": 1,
          "yanchor": "bottom",
          "yref": "paper"
         },
         {
          "font": {
           "size": 16
          },
          "showarrow": false,
          "text": "Topic 4",
          "x": 0.6375000000000001,
          "xanchor": "center",
          "xref": "paper",
          "y": 1,
          "yanchor": "bottom",
          "yref": "paper"
         },
         {
          "font": {
           "size": 16
          },
          "showarrow": false,
          "text": "Topic 5",
          "x": 0.9125,
          "xanchor": "center",
          "xref": "paper",
          "y": 1,
          "yanchor": "bottom",
          "yref": "paper"
         },
         {
          "font": {
           "size": 16
          },
          "showarrow": false,
          "text": "Topic 6",
          "x": 0.0875,
          "xanchor": "center",
          "xref": "paper",
          "y": 0.6222222222222222,
          "yanchor": "bottom",
          "yref": "paper"
         },
         {
          "font": {
           "size": 16
          },
          "showarrow": false,
          "text": "Topic 7",
          "x": 0.36250000000000004,
          "xanchor": "center",
          "xref": "paper",
          "y": 0.6222222222222222,
          "yanchor": "bottom",
          "yref": "paper"
         },
         {
          "font": {
           "size": 16
          },
          "showarrow": false,
          "text": "Topic 8",
          "x": 0.6375000000000001,
          "xanchor": "center",
          "xref": "paper",
          "y": 0.6222222222222222,
          "yanchor": "bottom",
          "yref": "paper"
         },
         {
          "font": {
           "size": 16
          },
          "showarrow": false,
          "text": "Topic 9",
          "x": 0.9125,
          "xanchor": "center",
          "xref": "paper",
          "y": 0.6222222222222222,
          "yanchor": "bottom",
          "yref": "paper"
         },
         {
          "font": {
           "size": 16
          },
          "showarrow": false,
          "text": "Topic 10",
          "x": 0.0875,
          "xanchor": "center",
          "xref": "paper",
          "y": 0.24444444444444446,
          "yanchor": "bottom",
          "yref": "paper"
         },
         {
          "font": {
           "size": 16
          },
          "showarrow": false,
          "text": "Topic 11",
          "x": 0.36250000000000004,
          "xanchor": "center",
          "xref": "paper",
          "y": 0.24444444444444446,
          "yanchor": "bottom",
          "yref": "paper"
         },
         {
          "font": {
           "size": 16
          },
          "showarrow": false,
          "text": "Topic 12",
          "x": 0.6375000000000001,
          "xanchor": "center",
          "xref": "paper",
          "y": 0.24444444444444446,
          "yanchor": "bottom",
          "yref": "paper"
         },
         {
          "font": {
           "size": 16
          },
          "showarrow": false,
          "text": "Topic 13",
          "x": 0.9125,
          "xanchor": "center",
          "xref": "paper",
          "y": 0.24444444444444446,
          "yanchor": "bottom",
          "yref": "paper"
         }
        ],
        "height": 1200,
        "hoverlabel": {
         "bgcolor": "white",
         "font": {
          "family": "Rockwell",
          "size": 16
         }
        },
        "showlegend": false,
        "template": {
         "data": {
          "bar": [
           {
            "error_x": {
             "color": "#2a3f5f"
            },
            "error_y": {
             "color": "#2a3f5f"
            },
            "marker": {
             "line": {
              "color": "white",
              "width": 0.5
             },
             "pattern": {
              "fillmode": "overlay",
              "size": 10,
              "solidity": 0.2
             }
            },
            "type": "bar"
           }
          ],
          "barpolar": [
           {
            "marker": {
             "line": {
              "color": "white",
              "width": 0.5
             },
             "pattern": {
              "fillmode": "overlay",
              "size": 10,
              "solidity": 0.2
             }
            },
            "type": "barpolar"
           }
          ],
          "carpet": [
           {
            "aaxis": {
             "endlinecolor": "#2a3f5f",
             "gridcolor": "#C8D4E3",
             "linecolor": "#C8D4E3",
             "minorgridcolor": "#C8D4E3",
             "startlinecolor": "#2a3f5f"
            },
            "baxis": {
             "endlinecolor": "#2a3f5f",
             "gridcolor": "#C8D4E3",
             "linecolor": "#C8D4E3",
             "minorgridcolor": "#C8D4E3",
             "startlinecolor": "#2a3f5f"
            },
            "type": "carpet"
           }
          ],
          "choropleth": [
           {
            "colorbar": {
             "outlinewidth": 0,
             "ticks": ""
            },
            "type": "choropleth"
           }
          ],
          "contour": [
           {
            "colorbar": {
             "outlinewidth": 0,
             "ticks": ""
            },
            "colorscale": [
             [
              0,
              "#0d0887"
             ],
             [
              0.1111111111111111,
              "#46039f"
             ],
             [
              0.2222222222222222,
              "#7201a8"
             ],
             [
              0.3333333333333333,
              "#9c179e"
             ],
             [
              0.4444444444444444,
              "#bd3786"
             ],
             [
              0.5555555555555556,
              "#d8576b"
             ],
             [
              0.6666666666666666,
              "#ed7953"
             ],
             [
              0.7777777777777778,
              "#fb9f3a"
             ],
             [
              0.8888888888888888,
              "#fdca26"
             ],
             [
              1,
              "#f0f921"
             ]
            ],
            "type": "contour"
           }
          ],
          "contourcarpet": [
           {
            "colorbar": {
             "outlinewidth": 0,
             "ticks": ""
            },
            "type": "contourcarpet"
           }
          ],
          "heatmap": [
           {
            "colorbar": {
             "outlinewidth": 0,
             "ticks": ""
            },
            "colorscale": [
             [
              0,
              "#0d0887"
             ],
             [
              0.1111111111111111,
              "#46039f"
             ],
             [
              0.2222222222222222,
              "#7201a8"
             ],
             [
              0.3333333333333333,
              "#9c179e"
             ],
             [
              0.4444444444444444,
              "#bd3786"
             ],
             [
              0.5555555555555556,
              "#d8576b"
             ],
             [
              0.6666666666666666,
              "#ed7953"
             ],
             [
              0.7777777777777778,
              "#fb9f3a"
             ],
             [
              0.8888888888888888,
              "#fdca26"
             ],
             [
              1,
              "#f0f921"
             ]
            ],
            "type": "heatmap"
           }
          ],
          "histogram": [
           {
            "marker": {
             "pattern": {
              "fillmode": "overlay",
              "size": 10,
              "solidity": 0.2
             }
            },
            "type": "histogram"
           }
          ],
          "histogram2d": [
           {
            "colorbar": {
             "outlinewidth": 0,
             "ticks": ""
            },
            "colorscale": [
             [
              0,
              "#0d0887"
             ],
             [
              0.1111111111111111,
              "#46039f"
             ],
             [
              0.2222222222222222,
              "#7201a8"
             ],
             [
              0.3333333333333333,
              "#9c179e"
             ],
             [
              0.4444444444444444,
              "#bd3786"
             ],
             [
              0.5555555555555556,
              "#d8576b"
             ],
             [
              0.6666666666666666,
              "#ed7953"
             ],
             [
              0.7777777777777778,
              "#fb9f3a"
             ],
             [
              0.8888888888888888,
              "#fdca26"
             ],
             [
              1,
              "#f0f921"
             ]
            ],
            "type": "histogram2d"
           }
          ],
          "histogram2dcontour": [
           {
            "colorbar": {
             "outlinewidth": 0,
             "ticks": ""
            },
            "colorscale": [
             [
              0,
              "#0d0887"
             ],
             [
              0.1111111111111111,
              "#46039f"
             ],
             [
              0.2222222222222222,
              "#7201a8"
             ],
             [
              0.3333333333333333,
              "#9c179e"
             ],
             [
              0.4444444444444444,
              "#bd3786"
             ],
             [
              0.5555555555555556,
              "#d8576b"
             ],
             [
              0.6666666666666666,
              "#ed7953"
             ],
             [
              0.7777777777777778,
              "#fb9f3a"
             ],
             [
              0.8888888888888888,
              "#fdca26"
             ],
             [
              1,
              "#f0f921"
             ]
            ],
            "type": "histogram2dcontour"
           }
          ],
          "mesh3d": [
           {
            "colorbar": {
             "outlinewidth": 0,
             "ticks": ""
            },
            "type": "mesh3d"
           }
          ],
          "parcoords": [
           {
            "line": {
             "colorbar": {
              "outlinewidth": 0,
              "ticks": ""
             }
            },
            "type": "parcoords"
           }
          ],
          "pie": [
           {
            "automargin": true,
            "type": "pie"
           }
          ],
          "scatter": [
           {
            "fillpattern": {
             "fillmode": "overlay",
             "size": 10,
             "solidity": 0.2
            },
            "type": "scatter"
           }
          ],
          "scatter3d": [
           {
            "line": {
             "colorbar": {
              "outlinewidth": 0,
              "ticks": ""
             }
            },
            "marker": {
             "colorbar": {
              "outlinewidth": 0,
              "ticks": ""
             }
            },
            "type": "scatter3d"
           }
          ],
          "scattercarpet": [
           {
            "marker": {
             "colorbar": {
              "outlinewidth": 0,
              "ticks": ""
             }
            },
            "type": "scattercarpet"
           }
          ],
          "scattergeo": [
           {
            "marker": {
             "colorbar": {
              "outlinewidth": 0,
              "ticks": ""
             }
            },
            "type": "scattergeo"
           }
          ],
          "scattergl": [
           {
            "marker": {
             "colorbar": {
              "outlinewidth": 0,
              "ticks": ""
             }
            },
            "type": "scattergl"
           }
          ],
          "scattermap": [
           {
            "marker": {
             "colorbar": {
              "outlinewidth": 0,
              "ticks": ""
             }
            },
            "type": "scattermap"
           }
          ],
          "scattermapbox": [
           {
            "marker": {
             "colorbar": {
              "outlinewidth": 0,
              "ticks": ""
             }
            },
            "type": "scattermapbox"
           }
          ],
          "scatterpolar": [
           {
            "marker": {
             "colorbar": {
              "outlinewidth": 0,
              "ticks": ""
             }
            },
            "type": "scatterpolar"
           }
          ],
          "scatterpolargl": [
           {
            "marker": {
             "colorbar": {
              "outlinewidth": 0,
              "ticks": ""
             }
            },
            "type": "scatterpolargl"
           }
          ],
          "scatterternary": [
           {
            "marker": {
             "colorbar": {
              "outlinewidth": 0,
              "ticks": ""
             }
            },
            "type": "scatterternary"
           }
          ],
          "surface": [
           {
            "colorbar": {
             "outlinewidth": 0,
             "ticks": ""
            },
            "colorscale": [
             [
              0,
              "#0d0887"
             ],
             [
              0.1111111111111111,
              "#46039f"
             ],
             [
              0.2222222222222222,
              "#7201a8"
             ],
             [
              0.3333333333333333,
              "#9c179e"
             ],
             [
              0.4444444444444444,
              "#bd3786"
             ],
             [
              0.5555555555555556,
              "#d8576b"
             ],
             [
              0.6666666666666666,
              "#ed7953"
             ],
             [
              0.7777777777777778,
              "#fb9f3a"
             ],
             [
              0.8888888888888888,
              "#fdca26"
             ],
             [
              1,
              "#f0f921"
             ]
            ],
            "type": "surface"
           }
          ],
          "table": [
           {
            "cells": {
             "fill": {
              "color": "#EBF0F8"
             },
             "line": {
              "color": "white"
             }
            },
            "header": {
             "fill": {
              "color": "#C8D4E3"
             },
             "line": {
              "color": "white"
             }
            },
            "type": "table"
           }
          ]
         },
         "layout": {
          "annotationdefaults": {
           "arrowcolor": "#2a3f5f",
           "arrowhead": 0,
           "arrowwidth": 1
          },
          "autotypenumbers": "strict",
          "coloraxis": {
           "colorbar": {
            "outlinewidth": 0,
            "ticks": ""
           }
          },
          "colorscale": {
           "diverging": [
            [
             0,
             "#8e0152"
            ],
            [
             0.1,
             "#c51b7d"
            ],
            [
             0.2,
             "#de77ae"
            ],
            [
             0.3,
             "#f1b6da"
            ],
            [
             0.4,
             "#fde0ef"
            ],
            [
             0.5,
             "#f7f7f7"
            ],
            [
             0.6,
             "#e6f5d0"
            ],
            [
             0.7,
             "#b8e186"
            ],
            [
             0.8,
             "#7fbc41"
            ],
            [
             0.9,
             "#4d9221"
            ],
            [
             1,
             "#276419"
            ]
           ],
           "sequential": [
            [
             0,
             "#0d0887"
            ],
            [
             0.1111111111111111,
             "#46039f"
            ],
            [
             0.2222222222222222,
             "#7201a8"
            ],
            [
             0.3333333333333333,
             "#9c179e"
            ],
            [
             0.4444444444444444,
             "#bd3786"
            ],
            [
             0.5555555555555556,
             "#d8576b"
            ],
            [
             0.6666666666666666,
             "#ed7953"
            ],
            [
             0.7777777777777778,
             "#fb9f3a"
            ],
            [
             0.8888888888888888,
             "#fdca26"
            ],
            [
             1,
             "#f0f921"
            ]
           ],
           "sequentialminus": [
            [
             0,
             "#0d0887"
            ],
            [
             0.1111111111111111,
             "#46039f"
            ],
            [
             0.2222222222222222,
             "#7201a8"
            ],
            [
             0.3333333333333333,
             "#9c179e"
            ],
            [
             0.4444444444444444,
             "#bd3786"
            ],
            [
             0.5555555555555556,
             "#d8576b"
            ],
            [
             0.6666666666666666,
             "#ed7953"
            ],
            [
             0.7777777777777778,
             "#fb9f3a"
            ],
            [
             0.8888888888888888,
             "#fdca26"
            ],
            [
             1,
             "#f0f921"
            ]
           ]
          },
          "colorway": [
           "#636efa",
           "#EF553B",
           "#00cc96",
           "#ab63fa",
           "#FFA15A",
           "#19d3f3",
           "#FF6692",
           "#B6E880",
           "#FF97FF",
           "#FECB52"
          ],
          "font": {
           "color": "#2a3f5f"
          },
          "geo": {
           "bgcolor": "white",
           "lakecolor": "white",
           "landcolor": "white",
           "showlakes": true,
           "showland": true,
           "subunitcolor": "#C8D4E3"
          },
          "hoverlabel": {
           "align": "left"
          },
          "hovermode": "closest",
          "mapbox": {
           "style": "light"
          },
          "paper_bgcolor": "white",
          "plot_bgcolor": "white",
          "polar": {
           "angularaxis": {
            "gridcolor": "#EBF0F8",
            "linecolor": "#EBF0F8",
            "ticks": ""
           },
           "bgcolor": "white",
           "radialaxis": {
            "gridcolor": "#EBF0F8",
            "linecolor": "#EBF0F8",
            "ticks": ""
           }
          },
          "scene": {
           "xaxis": {
            "backgroundcolor": "white",
            "gridcolor": "#DFE8F3",
            "gridwidth": 2,
            "linecolor": "#EBF0F8",
            "showbackground": true,
            "ticks": "",
            "zerolinecolor": "#EBF0F8"
           },
           "yaxis": {
            "backgroundcolor": "white",
            "gridcolor": "#DFE8F3",
            "gridwidth": 2,
            "linecolor": "#EBF0F8",
            "showbackground": true,
            "ticks": "",
            "zerolinecolor": "#EBF0F8"
           },
           "zaxis": {
            "backgroundcolor": "white",
            "gridcolor": "#DFE8F3",
            "gridwidth": 2,
            "linecolor": "#EBF0F8",
            "showbackground": true,
            "ticks": "",
            "zerolinecolor": "#EBF0F8"
           }
          },
          "shapedefaults": {
           "line": {
            "color": "#2a3f5f"
           }
          },
          "ternary": {
           "aaxis": {
            "gridcolor": "#DFE8F3",
            "linecolor": "#A2B1C6",
            "ticks": ""
           },
           "baxis": {
            "gridcolor": "#DFE8F3",
            "linecolor": "#A2B1C6",
            "ticks": ""
           },
           "bgcolor": "white",
           "caxis": {
            "gridcolor": "#DFE8F3",
            "linecolor": "#A2B1C6",
            "ticks": ""
           }
          },
          "title": {
           "x": 0.05
          },
          "xaxis": {
           "automargin": true,
           "gridcolor": "#EBF0F8",
           "linecolor": "#EBF0F8",
           "ticks": "",
           "title": {
            "standoff": 15
           },
           "zerolinecolor": "#EBF0F8",
           "zerolinewidth": 2
          },
          "yaxis": {
           "automargin": true,
           "gridcolor": "#EBF0F8",
           "linecolor": "#EBF0F8",
           "ticks": "",
           "title": {
            "standoff": 15
           },
           "zerolinecolor": "#EBF0F8",
           "zerolinewidth": 2
          }
         }
        },
        "title": {
         "font": {
          "color": "Black",
          "size": 22
         },
         "text": "Topic Word Scores",
         "x": 0.5,
         "xanchor": "center",
         "yanchor": "top"
        },
        "width": 1000,
        "xaxis": {
         "anchor": "y",
         "domain": [
          0,
          0.175
         ],
         "showgrid": true
        },
        "xaxis10": {
         "anchor": "y10",
         "domain": [
          0.275,
          0.45
         ],
         "showgrid": true
        },
        "xaxis11": {
         "anchor": "y11",
         "domain": [
          0.55,
          0.7250000000000001
         ],
         "showgrid": true
        },
        "xaxis12": {
         "anchor": "y12",
         "domain": [
          0.825,
          1
         ],
         "showgrid": true
        },
        "xaxis2": {
         "anchor": "y2",
         "domain": [
          0.275,
          0.45
         ],
         "showgrid": true
        },
        "xaxis3": {
         "anchor": "y3",
         "domain": [
          0.55,
          0.7250000000000001
         ],
         "showgrid": true
        },
        "xaxis4": {
         "anchor": "y4",
         "domain": [
          0.825,
          1
         ],
         "showgrid": true
        },
        "xaxis5": {
         "anchor": "y5",
         "domain": [
          0,
          0.175
         ],
         "showgrid": true
        },
        "xaxis6": {
         "anchor": "y6",
         "domain": [
          0.275,
          0.45
         ],
         "showgrid": true
        },
        "xaxis7": {
         "anchor": "y7",
         "domain": [
          0.55,
          0.7250000000000001
         ],
         "showgrid": true
        },
        "xaxis8": {
         "anchor": "y8",
         "domain": [
          0.825,
          1
         ],
         "showgrid": true
        },
        "xaxis9": {
         "anchor": "y9",
         "domain": [
          0,
          0.175
         ],
         "showgrid": true
        },
        "yaxis": {
         "anchor": "x",
         "domain": [
          0.7555555555555555,
          1
         ],
         "showgrid": true
        },
        "yaxis10": {
         "anchor": "x10",
         "domain": [
          0,
          0.24444444444444446
         ],
         "showgrid": true
        },
        "yaxis11": {
         "anchor": "x11",
         "domain": [
          0,
          0.24444444444444446
         ],
         "showgrid": true
        },
        "yaxis12": {
         "anchor": "x12",
         "domain": [
          0,
          0.24444444444444446
         ],
         "showgrid": true
        },
        "yaxis2": {
         "anchor": "x2",
         "domain": [
          0.7555555555555555,
          1
         ],
         "showgrid": true
        },
        "yaxis3": {
         "anchor": "x3",
         "domain": [
          0.7555555555555555,
          1
         ],
         "showgrid": true
        },
        "yaxis4": {
         "anchor": "x4",
         "domain": [
          0.7555555555555555,
          1
         ],
         "showgrid": true
        },
        "yaxis5": {
         "anchor": "x5",
         "domain": [
          0.37777777777777777,
          0.6222222222222222
         ],
         "showgrid": true
        },
        "yaxis6": {
         "anchor": "x6",
         "domain": [
          0.37777777777777777,
          0.6222222222222222
         ],
         "showgrid": true
        },
        "yaxis7": {
         "anchor": "x7",
         "domain": [
          0.37777777777777777,
          0.6222222222222222
         ],
         "showgrid": true
        },
        "yaxis8": {
         "anchor": "x8",
         "domain": [
          0.37777777777777777,
          0.6222222222222222
         ],
         "showgrid": true
        },
        "yaxis9": {
         "anchor": "x9",
         "domain": [
          0,
          0.24444444444444446
         ],
         "showgrid": true
        }
       }
      }
     },
     "metadata": {},
     "output_type": "display_data"
    },
    {
     "name": "stderr",
     "output_type": "stream",
     "text": [
      "2025-03-29 00:43:42,028 - New Data Processor Notebook - INFO - Creating BERTopic: Term Rank Charts (saving to files)...\n",
      "2025-03-29 00:43:42,425 - New Data Processor Notebook - INFO - Term Rank charts saved to /Users/DINGZEEFS/Documents/Fine_tuning_odido/output_dir/new_data_notebook_results/visualizations\n",
      "2025-03-29 00:43:42,426 - New Data Processor Notebook - INFO - LLM sentiment columns found. Creating comparison visualizations...\n",
      "2025-03-29 00:43:42,426 - New Data Processor Notebook - INFO - Creating LLM vs BERT Sentiment Dashboard...\n",
      "2025-03-29 00:43:42,428 - New Data Processor Notebook - INFO - Normalized 'llm_sentiment'. Unique values now: ['neutral']\n",
      "2025-03-29 00:43:42,429 - New Data Processor Notebook - INFO - Normalized 'bert_sentiment'. Unique values now: ['positive' 'negative']\n",
      "/var/folders/xn/mm7kw8sj05zf2f8x0hcn9y4r0000gn/T/ipykernel_78581/1159684475.py:130: DeprecationWarning:\n",
      "\n",
      "DataFrameGroupBy.apply operated on the grouping columns. This behavior is deprecated, and in a future version of pandas the grouping columns will be excluded from the operation. Either pass `include_groups=False` to exclude the groupings or explicitly select the grouping columns after groupby to silence this warning.\n",
      "\n",
      "/Users/DINGZEEFS/Documents/Fine_tuning_odido/feedback-analysis-env/lib/python3.12/site-packages/numpy/lib/_function_base_impl.py:2999: RuntimeWarning:\n",
      "\n",
      "invalid value encountered in divide\n",
      "\n",
      "/Users/DINGZEEFS/Documents/Fine_tuning_odido/feedback-analysis-env/lib/python3.12/site-packages/numpy/lib/_function_base_impl.py:3000: RuntimeWarning:\n",
      "\n",
      "invalid value encountered in divide\n",
      "\n",
      "2025-03-29 00:43:42,459 - New Data Processor Notebook - ERROR - Error creating sentiment comparison dashboard: Invalid property specified for object of type plotly.graph_objs.Box: 'color'\n",
      "\n",
      "Did you mean \"fillcolor\"?\n",
      "\n",
      "    Valid properties:\n",
      "        alignmentgroup\n",
      "            Set several traces linked to the same position axis or\n",
      "            matching axes to the same alignmentgroup. This controls\n",
      "            whether bars compute their positional range dependently\n",
      "            or independently.\n",
      "        boxmean\n",
      "            If True, the mean of the box(es)' underlying\n",
      "            distribution is drawn as a dashed line inside the\n",
      "            box(es). If \"sd\" the standard deviation is also drawn.\n",
      "            Defaults to True when `mean` is set. Defaults to \"sd\"\n",
      "            when `sd` is set Otherwise defaults to False.\n",
      "        boxpoints\n",
      "            If \"outliers\", only the sample points lying outside the\n",
      "            whiskers are shown If \"suspectedoutliers\", the outlier\n",
      "            points are shown and points either less than 4*Q1-3*Q3\n",
      "            or greater than 4*Q3-3*Q1 are highlighted (see\n",
      "            `outliercolor`) If \"all\", all sample points are shown\n",
      "            If False, only the box(es) are shown with no sample\n",
      "            points Defaults to \"suspectedoutliers\" when\n",
      "            `marker.outliercolor` or `marker.line.outliercolor` is\n",
      "            set. Defaults to \"all\" under the q1/median/q3\n",
      "            signature. Otherwise defaults to \"outliers\".\n",
      "        customdata\n",
      "            Assigns extra data each datum. This may be useful when\n",
      "            listening to hover, click and selection events. Note\n",
      "            that, \"scatter\" traces also appends customdata items in\n",
      "            the markers DOM elements\n",
      "        customdatasrc\n",
      "            Sets the source reference on Chart Studio Cloud for\n",
      "            `customdata`.\n",
      "        dx\n",
      "            Sets the x coordinate step for multi-box traces set\n",
      "            using q1/median/q3.\n",
      "        dy\n",
      "            Sets the y coordinate step for multi-box traces set\n",
      "            using q1/median/q3.\n",
      "        fillcolor\n",
      "            Sets the fill color. Defaults to a half-transparent\n",
      "            variant of the line color, marker color, or marker line\n",
      "            color, whichever is available.\n",
      "        hoverinfo\n",
      "            Determines which trace information appear on hover. If\n",
      "            `none` or `skip` are set, no information is displayed\n",
      "            upon hovering. But, if `none` is set, click and hover\n",
      "            events are still fired.\n",
      "        hoverinfosrc\n",
      "            Sets the source reference on Chart Studio Cloud for\n",
      "            `hoverinfo`.\n",
      "        hoverlabel\n",
      "            :class:`plotly.graph_objects.box.Hoverlabel` instance\n",
      "            or dict with compatible properties\n",
      "        hoveron\n",
      "            Do the hover effects highlight individual boxes  or\n",
      "            sample points or both?\n",
      "        hovertemplate\n",
      "            Template string used for rendering the information that\n",
      "            appear on hover box. Note that this will override\n",
      "            `hoverinfo`. Variables are inserted using %{variable},\n",
      "            for example \"y: %{y}\" as well as %{xother}, {%_xother},\n",
      "            {%_xother_}, {%xother_}. When showing info for several\n",
      "            points, \"xother\" will be added to those with different\n",
      "            x positions from the first point. An underscore before\n",
      "            or after \"(x|y)other\" will add a space on that side,\n",
      "            only when this field is shown. Numbers are formatted\n",
      "            using d3-format's syntax %{variable:d3-format}, for\n",
      "            example \"Price: %{y:$.2f}\".\n",
      "            https://github.com/d3/d3-format/tree/v1.4.5#d3-format\n",
      "            for details on the formatting syntax. Dates are\n",
      "            formatted using d3-time-format's syntax\n",
      "            %{variable|d3-time-format}, for example \"Day:\n",
      "            %{2019-01-01|%A}\". https://github.com/d3/d3-time-\n",
      "            format/tree/v2.2.3#locale_format for details on the\n",
      "            date formatting syntax. The variables available in\n",
      "            `hovertemplate` are the ones emitted as event data\n",
      "            described at this link\n",
      "            https://plotly.com/javascript/plotlyjs-events/#event-\n",
      "            data. Additionally, every attributes that can be\n",
      "            specified per-point (the ones that are `arrayOk: true`)\n",
      "            are available.  Anything contained in tag `<extra>` is\n",
      "            displayed in the secondary box, for example\n",
      "            \"<extra>{fullData.name}</extra>\". To hide the secondary\n",
      "            box completely, use an empty tag `<extra></extra>`.\n",
      "        hovertemplatesrc\n",
      "            Sets the source reference on Chart Studio Cloud for\n",
      "            `hovertemplate`.\n",
      "        hovertext\n",
      "            Same as `text`.\n",
      "        hovertextsrc\n",
      "            Sets the source reference on Chart Studio Cloud for\n",
      "            `hovertext`.\n",
      "        ids\n",
      "            Assigns id labels to each datum. These ids for object\n",
      "            constancy of data points during animation. Should be an\n",
      "            array of strings, not numbers or any other type.\n",
      "        idssrc\n",
      "            Sets the source reference on Chart Studio Cloud for\n",
      "            `ids`.\n",
      "        jitter\n",
      "            Sets the amount of jitter in the sample points drawn.\n",
      "            If 0, the sample points align along the distribution\n",
      "            axis. If 1, the sample points are drawn in a random\n",
      "            jitter of width equal to the width of the box(es).\n",
      "        legend\n",
      "            Sets the reference to a legend to show this trace in.\n",
      "            References to these legends are \"legend\", \"legend2\",\n",
      "            \"legend3\", etc. Settings for these legends are set in\n",
      "            the layout, under `layout.legend`, `layout.legend2`,\n",
      "            etc.\n",
      "        legendgroup\n",
      "            Sets the legend group for this trace. Traces and shapes\n",
      "            part of the same legend group hide/show at the same\n",
      "            time when toggling legend items.\n",
      "        legendgrouptitle\n",
      "            :class:`plotly.graph_objects.box.Legendgrouptitle`\n",
      "            instance or dict with compatible properties\n",
      "        legendrank\n",
      "            Sets the legend rank for this trace. Items and groups\n",
      "            with smaller ranks are presented on top/left side while\n",
      "            with \"reversed\" `legend.traceorder` they are on\n",
      "            bottom/right side. The default legendrank is 1000, so\n",
      "            that you can use ranks less than 1000 to place certain\n",
      "            items before all unranked items, and ranks greater than\n",
      "            1000 to go after all unranked items. When having\n",
      "            unranked or equal rank items shapes would be displayed\n",
      "            after traces i.e. according to their order in data and\n",
      "            layout.\n",
      "        legendwidth\n",
      "            Sets the width (in px or fraction) of the legend for\n",
      "            this trace.\n",
      "        line\n",
      "            :class:`plotly.graph_objects.box.Line` instance or dict\n",
      "            with compatible properties\n",
      "        lowerfence\n",
      "            Sets the lower fence values. There should be as many\n",
      "            items as the number of boxes desired. This attribute\n",
      "            has effect only under the q1/median/q3 signature. If\n",
      "            `lowerfence` is not provided but a sample (in `y` or\n",
      "            `x`) is set, we compute the lower as the last sample\n",
      "            point below 1.5 times the IQR.\n",
      "        lowerfencesrc\n",
      "            Sets the source reference on Chart Studio Cloud for\n",
      "            `lowerfence`.\n",
      "        marker\n",
      "            :class:`plotly.graph_objects.box.Marker` instance or\n",
      "            dict with compatible properties\n",
      "        mean\n",
      "            Sets the mean values. There should be as many items as\n",
      "            the number of boxes desired. This attribute has effect\n",
      "            only under the q1/median/q3 signature. If `mean` is not\n",
      "            provided but a sample (in `y` or `x`) is set, we\n",
      "            compute the mean for each box using the sample values.\n",
      "        meansrc\n",
      "            Sets the source reference on Chart Studio Cloud for\n",
      "            `mean`.\n",
      "        median\n",
      "            Sets the median values. There should be as many items\n",
      "            as the number of boxes desired.\n",
      "        mediansrc\n",
      "            Sets the source reference on Chart Studio Cloud for\n",
      "            `median`.\n",
      "        meta\n",
      "            Assigns extra meta information associated with this\n",
      "            trace that can be used in various text attributes.\n",
      "            Attributes such as trace `name`, graph, axis and\n",
      "            colorbar `title.text`, annotation `text`\n",
      "            `rangeselector`, `updatemenues` and `sliders` `label`\n",
      "            text all support `meta`. To access the trace `meta`\n",
      "            values in an attribute in the same trace, simply use\n",
      "            `%{meta[i]}` where `i` is the index or key of the\n",
      "            `meta` item in question. To access trace `meta` in\n",
      "            layout attributes, use `%{data[n[.meta[i]}` where `i`\n",
      "            is the index or key of the `meta` and `n` is the trace\n",
      "            index.\n",
      "        metasrc\n",
      "            Sets the source reference on Chart Studio Cloud for\n",
      "            `meta`.\n",
      "        name\n",
      "            Sets the trace name. The trace name appears as the\n",
      "            legend item and on hover. For box traces, the name will\n",
      "            also be used for the position coordinate, if `x` and\n",
      "            `x0` (`y` and `y0` if horizontal) are missing and the\n",
      "            position axis is categorical\n",
      "        notched\n",
      "            Determines whether or not notches are drawn. Notches\n",
      "            displays a confidence interval around the median. We\n",
      "            compute the confidence interval as median +/- 1.57 *\n",
      "            IQR / sqrt(N), where IQR is the interquartile range and\n",
      "            N is the sample size. If two boxes' notches do not\n",
      "            overlap there is 95% confidence their medians differ.\n",
      "            See https://sites.google.com/site/davidsstatistics/home\n",
      "            /notched-box-plots for more info. Defaults to False\n",
      "            unless `notchwidth` or `notchspan` is set.\n",
      "        notchspan\n",
      "            Sets the notch span from the boxes' `median` values.\n",
      "            There should be as many items as the number of boxes\n",
      "            desired. This attribute has effect only under the\n",
      "            q1/median/q3 signature. If `notchspan` is not provided\n",
      "            but a sample (in `y` or `x`) is set, we compute it as\n",
      "            1.57 * IQR / sqrt(N), where N is the sample size.\n",
      "        notchspansrc\n",
      "            Sets the source reference on Chart Studio Cloud for\n",
      "            `notchspan`.\n",
      "        notchwidth\n",
      "            Sets the width of the notches relative to the box'\n",
      "            width. For example, with 0, the notches are as wide as\n",
      "            the box(es).\n",
      "        offsetgroup\n",
      "            Set several traces linked to the same position axis or\n",
      "            matching axes to the same offsetgroup where bars of the\n",
      "            same position coordinate will line up.\n",
      "        opacity\n",
      "            Sets the opacity of the trace.\n",
      "        orientation\n",
      "            Sets the orientation of the box(es). If \"v\" (\"h\"), the\n",
      "            distribution is visualized along the vertical\n",
      "            (horizontal).\n",
      "        pointpos\n",
      "            Sets the position of the sample points in relation to\n",
      "            the box(es). If 0, the sample points are places over\n",
      "            the center of the box(es). Positive (negative) values\n",
      "            correspond to positions to the right (left) for\n",
      "            vertical boxes and above (below) for horizontal boxes\n",
      "        q1\n",
      "            Sets the Quartile 1 values. There should be as many\n",
      "            items as the number of boxes desired.\n",
      "        q1src\n",
      "            Sets the source reference on Chart Studio Cloud for\n",
      "            `q1`.\n",
      "        q3\n",
      "            Sets the Quartile 3 values. There should be as many\n",
      "            items as the number of boxes desired.\n",
      "        q3src\n",
      "            Sets the source reference on Chart Studio Cloud for\n",
      "            `q3`.\n",
      "        quartilemethod\n",
      "            Sets the method used to compute the sample's Q1 and Q3\n",
      "            quartiles. The \"linear\" method uses the 25th percentile\n",
      "            for Q1 and 75th percentile for Q3 as computed using\n",
      "            method #10 (listed on\n",
      "            http://jse.amstat.org/v14n3/langford.html). The\n",
      "            \"exclusive\" method uses the median to divide the\n",
      "            ordered dataset into two halves if the sample is odd,\n",
      "            it does not include the median in either half - Q1 is\n",
      "            then the median of the lower half and Q3 the median of\n",
      "            the upper half. The \"inclusive\" method also uses the\n",
      "            median to divide the ordered dataset into two halves\n",
      "            but if the sample is odd, it includes the median in\n",
      "            both halves - Q1 is then the median of the lower half\n",
      "            and Q3 the median of the upper half.\n",
      "        sd\n",
      "            Sets the standard deviation values. There should be as\n",
      "            many items as the number of boxes desired. This\n",
      "            attribute has effect only under the q1/median/q3\n",
      "            signature. If `sd` is not provided but a sample (in `y`\n",
      "            or `x`) is set, we compute the standard deviation for\n",
      "            each box using the sample values.\n",
      "        sdmultiple\n",
      "            Scales the box size when sizemode=sd Allowing boxes to\n",
      "            be drawn across any stddev range For example 1-stddev,\n",
      "            3-stddev, 5-stddev\n",
      "        sdsrc\n",
      "            Sets the source reference on Chart Studio Cloud for\n",
      "            `sd`.\n",
      "        selected\n",
      "            :class:`plotly.graph_objects.box.Selected` instance or\n",
      "            dict with compatible properties\n",
      "        selectedpoints\n",
      "            Array containing integer indices of selected points.\n",
      "            Has an effect only for traces that support selections.\n",
      "            Note that an empty array means an empty selection where\n",
      "            the `unselected` are turned on for all points, whereas,\n",
      "            any other non-array values means no selection all where\n",
      "            the `selected` and `unselected` styles have no effect.\n",
      "        showlegend\n",
      "            Determines whether or not an item corresponding to this\n",
      "            trace is shown in the legend.\n",
      "        showwhiskers\n",
      "            Determines whether or not whiskers are visible.\n",
      "            Defaults to true for `sizemode` \"quartiles\", false for\n",
      "            \"sd\".\n",
      "        sizemode\n",
      "            Sets the upper and lower bound for the boxes quartiles\n",
      "            means box is drawn between Q1 and Q3 SD means the box\n",
      "            is drawn between Mean +- Standard Deviation Argument\n",
      "            sdmultiple (default 1) to scale the box size So it\n",
      "            could be drawn 1-stddev, 3-stddev etc\n",
      "        stream\n",
      "            :class:`plotly.graph_objects.box.Stream` instance or\n",
      "            dict with compatible properties\n",
      "        text\n",
      "            Sets the text elements associated with each sample\n",
      "            value. If a single string, the same string appears over\n",
      "            all the data points. If an array of string, the items\n",
      "            are mapped in order to the this trace's (x,y)\n",
      "            coordinates. To be seen, trace `hoverinfo` must contain\n",
      "            a \"text\" flag.\n",
      "        textsrc\n",
      "            Sets the source reference on Chart Studio Cloud for\n",
      "            `text`.\n",
      "        uid\n",
      "            Assign an id to this trace, Use this to provide object\n",
      "            constancy between traces during animations and\n",
      "            transitions.\n",
      "        uirevision\n",
      "            Controls persistence of some user-driven changes to the\n",
      "            trace: `constraintrange` in `parcoords` traces, as well\n",
      "            as some `editable: true` modifications such as `name`\n",
      "            and `colorbar.title`. Defaults to `layout.uirevision`.\n",
      "            Note that other user-driven trace attribute changes are\n",
      "            controlled by `layout` attributes: `trace.visible` is\n",
      "            controlled by `layout.legend.uirevision`,\n",
      "            `selectedpoints` is controlled by\n",
      "            `layout.selectionrevision`, and `colorbar.(x|y)`\n",
      "            (accessible with `config: {editable: true}`) is\n",
      "            controlled by `layout.editrevision`. Trace changes are\n",
      "            tracked by `uid`, which only falls back on trace index\n",
      "            if no `uid` is provided. So if your app can add/remove\n",
      "            traces before the end of the `data` array, such that\n",
      "            the same trace has a different index, you can still\n",
      "            preserve user-driven changes if you give each trace a\n",
      "            `uid` that stays with it as it moves.\n",
      "        unselected\n",
      "            :class:`plotly.graph_objects.box.Unselected` instance\n",
      "            or dict with compatible properties\n",
      "        upperfence\n",
      "            Sets the upper fence values. There should be as many\n",
      "            items as the number of boxes desired. This attribute\n",
      "            has effect only under the q1/median/q3 signature. If\n",
      "            `upperfence` is not provided but a sample (in `y` or\n",
      "            `x`) is set, we compute the upper as the last sample\n",
      "            point above 1.5 times the IQR.\n",
      "        upperfencesrc\n",
      "            Sets the source reference on Chart Studio Cloud for\n",
      "            `upperfence`.\n",
      "        visible\n",
      "            Determines whether or not this trace is visible. If\n",
      "            \"legendonly\", the trace is not drawn, but can appear as\n",
      "            a legend item (provided that the legend itself is\n",
      "            visible).\n",
      "        whiskerwidth\n",
      "            Sets the width of the whiskers relative to the box'\n",
      "            width. For example, with 1, the whiskers are as wide as\n",
      "            the box(es).\n",
      "        width\n",
      "            Sets the width of the box in data coordinate If 0\n",
      "            (default value) the width is automatically selected\n",
      "            based on the positions of other box traces in the same\n",
      "            subplot.\n",
      "        x\n",
      "            Sets the x sample data or coordinates. See overview for\n",
      "            more info.\n",
      "        x0\n",
      "            Sets the x coordinate for single-box traces or the\n",
      "            starting coordinate for multi-box traces set using\n",
      "            q1/median/q3. See overview for more info.\n",
      "        xaxis\n",
      "            Sets a reference between this trace's x coordinates and\n",
      "            a 2D cartesian x axis. If \"x\" (the default value), the\n",
      "            x coordinates refer to `layout.xaxis`. If \"x2\", the x\n",
      "            coordinates refer to `layout.xaxis2`, and so on.\n",
      "        xcalendar\n",
      "            Sets the calendar system to use with `x` date data.\n",
      "        xhoverformat\n",
      "            Sets the hover text formatting rulefor `x`  using d3\n",
      "            formatting mini-languages which are very similar to\n",
      "            those in Python. For numbers, see:\n",
      "            https://github.com/d3/d3-format/tree/v1.4.5#d3-format.\n",
      "            And for dates see: https://github.com/d3/d3-time-\n",
      "            format/tree/v2.2.3#locale_format. We add two items to\n",
      "            d3's date formatter: \"%h\" for half of the year as a\n",
      "            decimal number as well as \"%{n}f\" for fractional\n",
      "            seconds with n digits. For example, *2016-10-13\n",
      "            09:15:23.456* with tickformat \"%H~%M~%S.%2f\" would\n",
      "            display *09~15~23.46*By default the values are\n",
      "            formatted using `xaxis.hoverformat`.\n",
      "        xperiod\n",
      "            Only relevant when the axis `type` is \"date\". Sets the\n",
      "            period positioning in milliseconds or \"M<n>\" on the x\n",
      "            axis. Special values in the form of \"M<n>\" could be\n",
      "            used to declare the number of months. In this case `n`\n",
      "            must be a positive integer.\n",
      "        xperiod0\n",
      "            Only relevant when the axis `type` is \"date\". Sets the\n",
      "            base for period positioning in milliseconds or date\n",
      "            string on the x0 axis. When `x0period` is round number\n",
      "            of weeks, the `x0period0` by default would be on a\n",
      "            Sunday i.e. 2000-01-02, otherwise it would be at\n",
      "            2000-01-01.\n",
      "        xperiodalignment\n",
      "            Only relevant when the axis `type` is \"date\". Sets the\n",
      "            alignment of data points on the x axis.\n",
      "        xsrc\n",
      "            Sets the source reference on Chart Studio Cloud for\n",
      "            `x`.\n",
      "        y\n",
      "            Sets the y sample data or coordinates. See overview for\n",
      "            more info.\n",
      "        y0\n",
      "            Sets the y coordinate for single-box traces or the\n",
      "            starting coordinate for multi-box traces set using\n",
      "            q1/median/q3. See overview for more info.\n",
      "        yaxis\n",
      "            Sets a reference between this trace's y coordinates and\n",
      "            a 2D cartesian y axis. If \"y\" (the default value), the\n",
      "            y coordinates refer to `layout.yaxis`. If \"y2\", the y\n",
      "            coordinates refer to `layout.yaxis2`, and so on.\n",
      "        ycalendar\n",
      "            Sets the calendar system to use with `y` date data.\n",
      "        yhoverformat\n",
      "            Sets the hover text formatting rulefor `y`  using d3\n",
      "            formatting mini-languages which are very similar to\n",
      "            those in Python. For numbers, see:\n",
      "            https://github.com/d3/d3-format/tree/v1.4.5#d3-format.\n",
      "            And for dates see: https://github.com/d3/d3-time-\n",
      "            format/tree/v2.2.3#locale_format. We add two items to\n",
      "            d3's date formatter: \"%h\" for half of the year as a\n",
      "            decimal number as well as \"%{n}f\" for fractional\n",
      "            seconds with n digits. For example, *2016-10-13\n",
      "            09:15:23.456* with tickformat \"%H~%M~%S.%2f\" would\n",
      "            display *09~15~23.46*By default the values are\n",
      "            formatted using `yaxis.hoverformat`.\n",
      "        yperiod\n",
      "            Only relevant when the axis `type` is \"date\". Sets the\n",
      "            period positioning in milliseconds or \"M<n>\" on the y\n",
      "            axis. Special values in the form of \"M<n>\" could be\n",
      "            used to declare the number of months. In this case `n`\n",
      "            must be a positive integer.\n",
      "        yperiod0\n",
      "            Only relevant when the axis `type` is \"date\". Sets the\n",
      "            base for period positioning in milliseconds or date\n",
      "            string on the y0 axis. When `y0period` is round number\n",
      "            of weeks, the `y0period0` by default would be on a\n",
      "            Sunday i.e. 2000-01-02, otherwise it would be at\n",
      "            2000-01-01.\n",
      "        yperiodalignment\n",
      "            Only relevant when the axis `type` is \"date\". Sets the\n",
      "            alignment of data points on the y axis.\n",
      "        ysrc\n",
      "            Sets the source reference on Chart Studio Cloud for\n",
      "            `y`.\n",
      "        zorder\n",
      "            Sets the layer on which this trace is displayed,\n",
      "            relative to other SVG traces on the same subplot. SVG\n",
      "            traces with higher `zorder` appear in front of those\n",
      "            with lower `zorder`.\n",
      "        \n",
      "Did you mean \"fillcolor\"?\n",
      "\n",
      "Bad property path:\n",
      "color\n",
      "^^^^^\n",
      "Traceback (most recent call last):\n",
      "  File \"/var/folders/xn/mm7kw8sj05zf2f8x0hcn9y4r0000gn/T/ipykernel_78581/1159684475.py\", line 222, in create_sentiment_comparison_dashboard\n",
      "    go.Box(\n",
      "  File \"/Users/DINGZEEFS/Documents/Fine_tuning_odido/feedback-analysis-env/lib/python3.12/site-packages/plotly/graph_objs/_box.py\", line 3638, in __init__\n",
      "    self._process_kwargs(**dict(arg, **kwargs))\n",
      "  File \"/Users/DINGZEEFS/Documents/Fine_tuning_odido/feedback-analysis-env/lib/python3.12/site-packages/plotly/basedatatypes.py\", line 4378, in _process_kwargs\n",
      "    raise err\n",
      "ValueError: Invalid property specified for object of type plotly.graph_objs.Box: 'color'\n",
      "\n",
      "Did you mean \"fillcolor\"?\n",
      "\n",
      "    Valid properties:\n",
      "        alignmentgroup\n",
      "            Set several traces linked to the same position axis or\n",
      "            matching axes to the same alignmentgroup. This controls\n",
      "            whether bars compute their positional range dependently\n",
      "            or independently.\n",
      "        boxmean\n",
      "            If True, the mean of the box(es)' underlying\n",
      "            distribution is drawn as a dashed line inside the\n",
      "            box(es). If \"sd\" the standard deviation is also drawn.\n",
      "            Defaults to True when `mean` is set. Defaults to \"sd\"\n",
      "            when `sd` is set Otherwise defaults to False.\n",
      "        boxpoints\n",
      "            If \"outliers\", only the sample points lying outside the\n",
      "            whiskers are shown If \"suspectedoutliers\", the outlier\n",
      "            points are shown and points either less than 4*Q1-3*Q3\n",
      "            or greater than 4*Q3-3*Q1 are highlighted (see\n",
      "            `outliercolor`) If \"all\", all sample points are shown\n",
      "            If False, only the box(es) are shown with no sample\n",
      "            points Defaults to \"suspectedoutliers\" when\n",
      "            `marker.outliercolor` or `marker.line.outliercolor` is\n",
      "            set. Defaults to \"all\" under the q1/median/q3\n",
      "            signature. Otherwise defaults to \"outliers\".\n",
      "        customdata\n",
      "            Assigns extra data each datum. This may be useful when\n",
      "            listening to hover, click and selection events. Note\n",
      "            that, \"scatter\" traces also appends customdata items in\n",
      "            the markers DOM elements\n",
      "        customdatasrc\n",
      "            Sets the source reference on Chart Studio Cloud for\n",
      "            `customdata`.\n",
      "        dx\n",
      "            Sets the x coordinate step for multi-box traces set\n",
      "            using q1/median/q3.\n",
      "        dy\n",
      "            Sets the y coordinate step for multi-box traces set\n",
      "            using q1/median/q3.\n",
      "        fillcolor\n",
      "            Sets the fill color. Defaults to a half-transparent\n",
      "            variant of the line color, marker color, or marker line\n",
      "            color, whichever is available.\n",
      "        hoverinfo\n",
      "            Determines which trace information appear on hover. If\n",
      "            `none` or `skip` are set, no information is displayed\n",
      "            upon hovering. But, if `none` is set, click and hover\n",
      "            events are still fired.\n",
      "        hoverinfosrc\n",
      "            Sets the source reference on Chart Studio Cloud for\n",
      "            `hoverinfo`.\n",
      "        hoverlabel\n",
      "            :class:`plotly.graph_objects.box.Hoverlabel` instance\n",
      "            or dict with compatible properties\n",
      "        hoveron\n",
      "            Do the hover effects highlight individual boxes  or\n",
      "            sample points or both?\n",
      "        hovertemplate\n",
      "            Template string used for rendering the information that\n",
      "            appear on hover box. Note that this will override\n",
      "            `hoverinfo`. Variables are inserted using %{variable},\n",
      "            for example \"y: %{y}\" as well as %{xother}, {%_xother},\n",
      "            {%_xother_}, {%xother_}. When showing info for several\n",
      "            points, \"xother\" will be added to those with different\n",
      "            x positions from the first point. An underscore before\n",
      "            or after \"(x|y)other\" will add a space on that side,\n",
      "            only when this field is shown. Numbers are formatted\n",
      "            using d3-format's syntax %{variable:d3-format}, for\n",
      "            example \"Price: %{y:$.2f}\".\n",
      "            https://github.com/d3/d3-format/tree/v1.4.5#d3-format\n",
      "            for details on the formatting syntax. Dates are\n",
      "            formatted using d3-time-format's syntax\n",
      "            %{variable|d3-time-format}, for example \"Day:\n",
      "            %{2019-01-01|%A}\". https://github.com/d3/d3-time-\n",
      "            format/tree/v2.2.3#locale_format for details on the\n",
      "            date formatting syntax. The variables available in\n",
      "            `hovertemplate` are the ones emitted as event data\n",
      "            described at this link\n",
      "            https://plotly.com/javascript/plotlyjs-events/#event-\n",
      "            data. Additionally, every attributes that can be\n",
      "            specified per-point (the ones that are `arrayOk: true`)\n",
      "            are available.  Anything contained in tag `<extra>` is\n",
      "            displayed in the secondary box, for example\n",
      "            \"<extra>{fullData.name}</extra>\". To hide the secondary\n",
      "            box completely, use an empty tag `<extra></extra>`.\n",
      "        hovertemplatesrc\n",
      "            Sets the source reference on Chart Studio Cloud for\n",
      "            `hovertemplate`.\n",
      "        hovertext\n",
      "            Same as `text`.\n",
      "        hovertextsrc\n",
      "            Sets the source reference on Chart Studio Cloud for\n",
      "            `hovertext`.\n",
      "        ids\n",
      "            Assigns id labels to each datum. These ids for object\n",
      "            constancy of data points during animation. Should be an\n",
      "            array of strings, not numbers or any other type.\n",
      "        idssrc\n",
      "            Sets the source reference on Chart Studio Cloud for\n",
      "            `ids`.\n",
      "        jitter\n",
      "            Sets the amount of jitter in the sample points drawn.\n",
      "            If 0, the sample points align along the distribution\n",
      "            axis. If 1, the sample points are drawn in a random\n",
      "            jitter of width equal to the width of the box(es).\n",
      "        legend\n",
      "            Sets the reference to a legend to show this trace in.\n",
      "            References to these legends are \"legend\", \"legend2\",\n",
      "            \"legend3\", etc. Settings for these legends are set in\n",
      "            the layout, under `layout.legend`, `layout.legend2`,\n",
      "            etc.\n",
      "        legendgroup\n",
      "            Sets the legend group for this trace. Traces and shapes\n",
      "            part of the same legend group hide/show at the same\n",
      "            time when toggling legend items.\n",
      "        legendgrouptitle\n",
      "            :class:`plotly.graph_objects.box.Legendgrouptitle`\n",
      "            instance or dict with compatible properties\n",
      "        legendrank\n",
      "            Sets the legend rank for this trace. Items and groups\n",
      "            with smaller ranks are presented on top/left side while\n",
      "            with \"reversed\" `legend.traceorder` they are on\n",
      "            bottom/right side. The default legendrank is 1000, so\n",
      "            that you can use ranks less than 1000 to place certain\n",
      "            items before all unranked items, and ranks greater than\n",
      "            1000 to go after all unranked items. When having\n",
      "            unranked or equal rank items shapes would be displayed\n",
      "            after traces i.e. according to their order in data and\n",
      "            layout.\n",
      "        legendwidth\n",
      "            Sets the width (in px or fraction) of the legend for\n",
      "            this trace.\n",
      "        line\n",
      "            :class:`plotly.graph_objects.box.Line` instance or dict\n",
      "            with compatible properties\n",
      "        lowerfence\n",
      "            Sets the lower fence values. There should be as many\n",
      "            items as the number of boxes desired. This attribute\n",
      "            has effect only under the q1/median/q3 signature. If\n",
      "            `lowerfence` is not provided but a sample (in `y` or\n",
      "            `x`) is set, we compute the lower as the last sample\n",
      "            point below 1.5 times the IQR.\n",
      "        lowerfencesrc\n",
      "            Sets the source reference on Chart Studio Cloud for\n",
      "            `lowerfence`.\n",
      "        marker\n",
      "            :class:`plotly.graph_objects.box.Marker` instance or\n",
      "            dict with compatible properties\n",
      "        mean\n",
      "            Sets the mean values. There should be as many items as\n",
      "            the number of boxes desired. This attribute has effect\n",
      "            only under the q1/median/q3 signature. If `mean` is not\n",
      "            provided but a sample (in `y` or `x`) is set, we\n",
      "            compute the mean for each box using the sample values.\n",
      "        meansrc\n",
      "            Sets the source reference on Chart Studio Cloud for\n",
      "            `mean`.\n",
      "        median\n",
      "            Sets the median values. There should be as many items\n",
      "            as the number of boxes desired.\n",
      "        mediansrc\n",
      "            Sets the source reference on Chart Studio Cloud for\n",
      "            `median`.\n",
      "        meta\n",
      "            Assigns extra meta information associated with this\n",
      "            trace that can be used in various text attributes.\n",
      "            Attributes such as trace `name`, graph, axis and\n",
      "            colorbar `title.text`, annotation `text`\n",
      "            `rangeselector`, `updatemenues` and `sliders` `label`\n",
      "            text all support `meta`. To access the trace `meta`\n",
      "            values in an attribute in the same trace, simply use\n",
      "            `%{meta[i]}` where `i` is the index or key of the\n",
      "            `meta` item in question. To access trace `meta` in\n",
      "            layout attributes, use `%{data[n[.meta[i]}` where `i`\n",
      "            is the index or key of the `meta` and `n` is the trace\n",
      "            index.\n",
      "        metasrc\n",
      "            Sets the source reference on Chart Studio Cloud for\n",
      "            `meta`.\n",
      "        name\n",
      "            Sets the trace name. The trace name appears as the\n",
      "            legend item and on hover. For box traces, the name will\n",
      "            also be used for the position coordinate, if `x` and\n",
      "            `x0` (`y` and `y0` if horizontal) are missing and the\n",
      "            position axis is categorical\n",
      "        notched\n",
      "            Determines whether or not notches are drawn. Notches\n",
      "            displays a confidence interval around the median. We\n",
      "            compute the confidence interval as median +/- 1.57 *\n",
      "            IQR / sqrt(N), where IQR is the interquartile range and\n",
      "            N is the sample size. If two boxes' notches do not\n",
      "            overlap there is 95% confidence their medians differ.\n",
      "            See https://sites.google.com/site/davidsstatistics/home\n",
      "            /notched-box-plots for more info. Defaults to False\n",
      "            unless `notchwidth` or `notchspan` is set.\n",
      "        notchspan\n",
      "            Sets the notch span from the boxes' `median` values.\n",
      "            There should be as many items as the number of boxes\n",
      "            desired. This attribute has effect only under the\n",
      "            q1/median/q3 signature. If `notchspan` is not provided\n",
      "            but a sample (in `y` or `x`) is set, we compute it as\n",
      "            1.57 * IQR / sqrt(N), where N is the sample size.\n",
      "        notchspansrc\n",
      "            Sets the source reference on Chart Studio Cloud for\n",
      "            `notchspan`.\n",
      "        notchwidth\n",
      "            Sets the width of the notches relative to the box'\n",
      "            width. For example, with 0, the notches are as wide as\n",
      "            the box(es).\n",
      "        offsetgroup\n",
      "            Set several traces linked to the same position axis or\n",
      "            matching axes to the same offsetgroup where bars of the\n",
      "            same position coordinate will line up.\n",
      "        opacity\n",
      "            Sets the opacity of the trace.\n",
      "        orientation\n",
      "            Sets the orientation of the box(es). If \"v\" (\"h\"), the\n",
      "            distribution is visualized along the vertical\n",
      "            (horizontal).\n",
      "        pointpos\n",
      "            Sets the position of the sample points in relation to\n",
      "            the box(es). If 0, the sample points are places over\n",
      "            the center of the box(es). Positive (negative) values\n",
      "            correspond to positions to the right (left) for\n",
      "            vertical boxes and above (below) for horizontal boxes\n",
      "        q1\n",
      "            Sets the Quartile 1 values. There should be as many\n",
      "            items as the number of boxes desired.\n",
      "        q1src\n",
      "            Sets the source reference on Chart Studio Cloud for\n",
      "            `q1`.\n",
      "        q3\n",
      "            Sets the Quartile 3 values. There should be as many\n",
      "            items as the number of boxes desired.\n",
      "        q3src\n",
      "            Sets the source reference on Chart Studio Cloud for\n",
      "            `q3`.\n",
      "        quartilemethod\n",
      "            Sets the method used to compute the sample's Q1 and Q3\n",
      "            quartiles. The \"linear\" method uses the 25th percentile\n",
      "            for Q1 and 75th percentile for Q3 as computed using\n",
      "            method #10 (listed on\n",
      "            http://jse.amstat.org/v14n3/langford.html). The\n",
      "            \"exclusive\" method uses the median to divide the\n",
      "            ordered dataset into two halves if the sample is odd,\n",
      "            it does not include the median in either half - Q1 is\n",
      "            then the median of the lower half and Q3 the median of\n",
      "            the upper half. The \"inclusive\" method also uses the\n",
      "            median to divide the ordered dataset into two halves\n",
      "            but if the sample is odd, it includes the median in\n",
      "            both halves - Q1 is then the median of the lower half\n",
      "            and Q3 the median of the upper half.\n",
      "        sd\n",
      "            Sets the standard deviation values. There should be as\n",
      "            many items as the number of boxes desired. This\n",
      "            attribute has effect only under the q1/median/q3\n",
      "            signature. If `sd` is not provided but a sample (in `y`\n",
      "            or `x`) is set, we compute the standard deviation for\n",
      "            each box using the sample values.\n",
      "        sdmultiple\n",
      "            Scales the box size when sizemode=sd Allowing boxes to\n",
      "            be drawn across any stddev range For example 1-stddev,\n",
      "            3-stddev, 5-stddev\n",
      "        sdsrc\n",
      "            Sets the source reference on Chart Studio Cloud for\n",
      "            `sd`.\n",
      "        selected\n",
      "            :class:`plotly.graph_objects.box.Selected` instance or\n",
      "            dict with compatible properties\n",
      "        selectedpoints\n",
      "            Array containing integer indices of selected points.\n",
      "            Has an effect only for traces that support selections.\n",
      "            Note that an empty array means an empty selection where\n",
      "            the `unselected` are turned on for all points, whereas,\n",
      "            any other non-array values means no selection all where\n",
      "            the `selected` and `unselected` styles have no effect.\n",
      "        showlegend\n",
      "            Determines whether or not an item corresponding to this\n",
      "            trace is shown in the legend.\n",
      "        showwhiskers\n",
      "            Determines whether or not whiskers are visible.\n",
      "            Defaults to true for `sizemode` \"quartiles\", false for\n",
      "            \"sd\".\n",
      "        sizemode\n",
      "            Sets the upper and lower bound for the boxes quartiles\n",
      "            means box is drawn between Q1 and Q3 SD means the box\n",
      "            is drawn between Mean +- Standard Deviation Argument\n",
      "            sdmultiple (default 1) to scale the box size So it\n",
      "            could be drawn 1-stddev, 3-stddev etc\n",
      "        stream\n",
      "            :class:`plotly.graph_objects.box.Stream` instance or\n",
      "            dict with compatible properties\n",
      "        text\n",
      "            Sets the text elements associated with each sample\n",
      "            value. If a single string, the same string appears over\n",
      "            all the data points. If an array of string, the items\n",
      "            are mapped in order to the this trace's (x,y)\n",
      "            coordinates. To be seen, trace `hoverinfo` must contain\n",
      "            a \"text\" flag.\n",
      "        textsrc\n",
      "            Sets the source reference on Chart Studio Cloud for\n",
      "            `text`.\n",
      "        uid\n",
      "            Assign an id to this trace, Use this to provide object\n",
      "            constancy between traces during animations and\n",
      "            transitions.\n",
      "        uirevision\n",
      "            Controls persistence of some user-driven changes to the\n",
      "            trace: `constraintrange` in `parcoords` traces, as well\n",
      "            as some `editable: true` modifications such as `name`\n",
      "            and `colorbar.title`. Defaults to `layout.uirevision`.\n",
      "            Note that other user-driven trace attribute changes are\n",
      "            controlled by `layout` attributes: `trace.visible` is\n",
      "            controlled by `layout.legend.uirevision`,\n",
      "            `selectedpoints` is controlled by\n",
      "            `layout.selectionrevision`, and `colorbar.(x|y)`\n",
      "            (accessible with `config: {editable: true}`) is\n",
      "            controlled by `layout.editrevision`. Trace changes are\n",
      "            tracked by `uid`, which only falls back on trace index\n",
      "            if no `uid` is provided. So if your app can add/remove\n",
      "            traces before the end of the `data` array, such that\n",
      "            the same trace has a different index, you can still\n",
      "            preserve user-driven changes if you give each trace a\n",
      "            `uid` that stays with it as it moves.\n",
      "        unselected\n",
      "            :class:`plotly.graph_objects.box.Unselected` instance\n",
      "            or dict with compatible properties\n",
      "        upperfence\n",
      "            Sets the upper fence values. There should be as many\n",
      "            items as the number of boxes desired. This attribute\n",
      "            has effect only under the q1/median/q3 signature. If\n",
      "            `upperfence` is not provided but a sample (in `y` or\n",
      "            `x`) is set, we compute the upper as the last sample\n",
      "            point above 1.5 times the IQR.\n",
      "        upperfencesrc\n",
      "            Sets the source reference on Chart Studio Cloud for\n",
      "            `upperfence`.\n",
      "        visible\n",
      "            Determines whether or not this trace is visible. If\n",
      "            \"legendonly\", the trace is not drawn, but can appear as\n",
      "            a legend item (provided that the legend itself is\n",
      "            visible).\n",
      "        whiskerwidth\n",
      "            Sets the width of the whiskers relative to the box'\n",
      "            width. For example, with 1, the whiskers are as wide as\n",
      "            the box(es).\n",
      "        width\n",
      "            Sets the width of the box in data coordinate If 0\n",
      "            (default value) the width is automatically selected\n",
      "            based on the positions of other box traces in the same\n",
      "            subplot.\n",
      "        x\n",
      "            Sets the x sample data or coordinates. See overview for\n",
      "            more info.\n",
      "        x0\n",
      "            Sets the x coordinate for single-box traces or the\n",
      "            starting coordinate for multi-box traces set using\n",
      "            q1/median/q3. See overview for more info.\n",
      "        xaxis\n",
      "            Sets a reference between this trace's x coordinates and\n",
      "            a 2D cartesian x axis. If \"x\" (the default value), the\n",
      "            x coordinates refer to `layout.xaxis`. If \"x2\", the x\n",
      "            coordinates refer to `layout.xaxis2`, and so on.\n",
      "        xcalendar\n",
      "            Sets the calendar system to use with `x` date data.\n",
      "        xhoverformat\n",
      "            Sets the hover text formatting rulefor `x`  using d3\n",
      "            formatting mini-languages which are very similar to\n",
      "            those in Python. For numbers, see:\n",
      "            https://github.com/d3/d3-format/tree/v1.4.5#d3-format.\n",
      "            And for dates see: https://github.com/d3/d3-time-\n",
      "            format/tree/v2.2.3#locale_format. We add two items to\n",
      "            d3's date formatter: \"%h\" for half of the year as a\n",
      "            decimal number as well as \"%{n}f\" for fractional\n",
      "            seconds with n digits. For example, *2016-10-13\n",
      "            09:15:23.456* with tickformat \"%H~%M~%S.%2f\" would\n",
      "            display *09~15~23.46*By default the values are\n",
      "            formatted using `xaxis.hoverformat`.\n",
      "        xperiod\n",
      "            Only relevant when the axis `type` is \"date\". Sets the\n",
      "            period positioning in milliseconds or \"M<n>\" on the x\n",
      "            axis. Special values in the form of \"M<n>\" could be\n",
      "            used to declare the number of months. In this case `n`\n",
      "            must be a positive integer.\n",
      "        xperiod0\n",
      "            Only relevant when the axis `type` is \"date\". Sets the\n",
      "            base for period positioning in milliseconds or date\n",
      "            string on the x0 axis. When `x0period` is round number\n",
      "            of weeks, the `x0period0` by default would be on a\n",
      "            Sunday i.e. 2000-01-02, otherwise it would be at\n",
      "            2000-01-01.\n",
      "        xperiodalignment\n",
      "            Only relevant when the axis `type` is \"date\". Sets the\n",
      "            alignment of data points on the x axis.\n",
      "        xsrc\n",
      "            Sets the source reference on Chart Studio Cloud for\n",
      "            `x`.\n",
      "        y\n",
      "            Sets the y sample data or coordinates. See overview for\n",
      "            more info.\n",
      "        y0\n",
      "            Sets the y coordinate for single-box traces or the\n",
      "            starting coordinate for multi-box traces set using\n",
      "            q1/median/q3. See overview for more info.\n",
      "        yaxis\n",
      "            Sets a reference between this trace's y coordinates and\n",
      "            a 2D cartesian y axis. If \"y\" (the default value), the\n",
      "            y coordinates refer to `layout.yaxis`. If \"y2\", the y\n",
      "            coordinates refer to `layout.yaxis2`, and so on.\n",
      "        ycalendar\n",
      "            Sets the calendar system to use with `y` date data.\n",
      "        yhoverformat\n",
      "            Sets the hover text formatting rulefor `y`  using d3\n",
      "            formatting mini-languages which are very similar to\n",
      "            those in Python. For numbers, see:\n",
      "            https://github.com/d3/d3-format/tree/v1.4.5#d3-format.\n",
      "            And for dates see: https://github.com/d3/d3-time-\n",
      "            format/tree/v2.2.3#locale_format. We add two items to\n",
      "            d3's date formatter: \"%h\" for half of the year as a\n",
      "            decimal number as well as \"%{n}f\" for fractional\n",
      "            seconds with n digits. For example, *2016-10-13\n",
      "            09:15:23.456* with tickformat \"%H~%M~%S.%2f\" would\n",
      "            display *09~15~23.46*By default the values are\n",
      "            formatted using `yaxis.hoverformat`.\n",
      "        yperiod\n",
      "            Only relevant when the axis `type` is \"date\". Sets the\n",
      "            period positioning in milliseconds or \"M<n>\" on the y\n",
      "            axis. Special values in the form of \"M<n>\" could be\n",
      "            used to declare the number of months. In this case `n`\n",
      "            must be a positive integer.\n",
      "        yperiod0\n",
      "            Only relevant when the axis `type` is \"date\". Sets the\n",
      "            base for period positioning in milliseconds or date\n",
      "            string on the y0 axis. When `y0period` is round number\n",
      "            of weeks, the `y0period0` by default would be on a\n",
      "            Sunday i.e. 2000-01-02, otherwise it would be at\n",
      "            2000-01-01.\n",
      "        yperiodalignment\n",
      "            Only relevant when the axis `type` is \"date\". Sets the\n",
      "            alignment of data points on the y axis.\n",
      "        ysrc\n",
      "            Sets the source reference on Chart Studio Cloud for\n",
      "            `y`.\n",
      "        zorder\n",
      "            Sets the layer on which this trace is displayed,\n",
      "            relative to other SVG traces on the same subplot. SVG\n",
      "            traces with higher `zorder` appear in front of those\n",
      "            with lower `zorder`.\n",
      "        \n",
      "Did you mean \"fillcolor\"?\n",
      "\n",
      "Bad property path:\n",
      "color\n",
      "^^^^^\n",
      "2025-03-29 00:43:42,462 - New Data Processor Notebook - INFO - Creating LLM vs BERT Confusion Matrix...\n",
      "2025-03-29 00:43:42,463 - New Data Processor Notebook - INFO - Normalized 'llm_sentiment'. Unique values now: ['neutral']\n",
      "2025-03-29 00:43:42,464 - New Data Processor Notebook - INFO - Normalized 'bert_sentiment'. Unique values now: ['positive' 'negative']\n",
      "2025-03-29 00:43:42,498 - New Data Processor Notebook - INFO - Confusion matrix saved to /Users/DINGZEEFS/Documents/Fine_tuning_odido/output_dir/new_data_notebook_results/visualizations/llm_vs_bert_confusion_matrix.html\n"
     ]
    },
    {
     "data": {
      "application/vnd.plotly.v1+json": {
       "config": {
        "plotlyServerURL": "https://plot.ly"
       },
       "data": [
        {
         "coloraxis": "coloraxis",
         "hovertemplate": "BERT Sentiment Prediction: %{x}<br>LLM Sentiment Assignment: %{y}<br>Percentage (%): %{z}<extra></extra>",
         "name": "0",
         "type": "heatmap",
         "x": [
          "positive",
          "neutral",
          "negative"
         ],
         "xaxis": "x",
         "y": [
          "positive",
          "neutral",
          "negative"
         ],
         "yaxis": "y",
         "z": {
          "bdata": "AAAAAAAAAAAAAAAAAAAAAAAAAAAAAAAAAQAAAACAS0AAAAAAAAAAAAAAAAAAgEZAAAAAAAAAAAAAAAAAAAAAAAAAAAAAAAAA",
          "dtype": "f8",
          "shape": "3, 3"
         }
        }
       ],
       "layout": {
        "annotations": [
         {
          "font": {
           "color": "black"
          },
          "showarrow": false,
          "text": "0<br>(0.0%)",
          "x": "positive",
          "y": "positive"
         },
         {
          "font": {
           "color": "black"
          },
          "showarrow": false,
          "text": "0<br>(0.0%)",
          "x": "neutral",
          "y": "positive"
         },
         {
          "font": {
           "color": "black"
          },
          "showarrow": false,
          "text": "0<br>(0.0%)",
          "x": "negative",
          "y": "positive"
         },
         {
          "font": {
           "color": "white"
          },
          "showarrow": false,
          "text": "11<br>(55.0%)",
          "x": "positive",
          "y": "neutral"
         },
         {
          "font": {
           "color": "black"
          },
          "showarrow": false,
          "text": "0<br>(0.0%)",
          "x": "neutral",
          "y": "neutral"
         },
         {
          "font": {
           "color": "black"
          },
          "showarrow": false,
          "text": "9<br>(45.0%)",
          "x": "negative",
          "y": "neutral"
         },
         {
          "font": {
           "color": "black"
          },
          "showarrow": false,
          "text": "0<br>(0.0%)",
          "x": "positive",
          "y": "negative"
         },
         {
          "font": {
           "color": "black"
          },
          "showarrow": false,
          "text": "0<br>(0.0%)",
          "x": "neutral",
          "y": "negative"
         },
         {
          "font": {
           "color": "black"
          },
          "showarrow": false,
          "text": "0<br>(0.0%)",
          "x": "negative",
          "y": "negative"
         }
        ],
        "coloraxis": {
         "colorbar": {
          "title": {
           "text": "Percentage (%)"
          }
         },
         "colorscale": [
          [
           0,
           "rgb(247,251,255)"
          ],
          [
           0.125,
           "rgb(222,235,247)"
          ],
          [
           0.25,
           "rgb(198,219,239)"
          ],
          [
           0.375,
           "rgb(158,202,225)"
          ],
          [
           0.5,
           "rgb(107,174,214)"
          ],
          [
           0.625,
           "rgb(66,146,198)"
          ],
          [
           0.75,
           "rgb(33,113,181)"
          ],
          [
           0.875,
           "rgb(8,81,156)"
          ],
          [
           1,
           "rgb(8,48,107)"
          ]
         ]
        },
        "margin": {
         "t": 60
        },
        "template": {
         "data": {
          "bar": [
           {
            "error_x": {
             "color": "#2a3f5f"
            },
            "error_y": {
             "color": "#2a3f5f"
            },
            "marker": {
             "line": {
              "color": "#E5ECF6",
              "width": 0.5
             },
             "pattern": {
              "fillmode": "overlay",
              "size": 10,
              "solidity": 0.2
             }
            },
            "type": "bar"
           }
          ],
          "barpolar": [
           {
            "marker": {
             "line": {
              "color": "#E5ECF6",
              "width": 0.5
             },
             "pattern": {
              "fillmode": "overlay",
              "size": 10,
              "solidity": 0.2
             }
            },
            "type": "barpolar"
           }
          ],
          "carpet": [
           {
            "aaxis": {
             "endlinecolor": "#2a3f5f",
             "gridcolor": "white",
             "linecolor": "white",
             "minorgridcolor": "white",
             "startlinecolor": "#2a3f5f"
            },
            "baxis": {
             "endlinecolor": "#2a3f5f",
             "gridcolor": "white",
             "linecolor": "white",
             "minorgridcolor": "white",
             "startlinecolor": "#2a3f5f"
            },
            "type": "carpet"
           }
          ],
          "choropleth": [
           {
            "colorbar": {
             "outlinewidth": 0,
             "ticks": ""
            },
            "type": "choropleth"
           }
          ],
          "contour": [
           {
            "colorbar": {
             "outlinewidth": 0,
             "ticks": ""
            },
            "colorscale": [
             [
              0,
              "#0d0887"
             ],
             [
              0.1111111111111111,
              "#46039f"
             ],
             [
              0.2222222222222222,
              "#7201a8"
             ],
             [
              0.3333333333333333,
              "#9c179e"
             ],
             [
              0.4444444444444444,
              "#bd3786"
             ],
             [
              0.5555555555555556,
              "#d8576b"
             ],
             [
              0.6666666666666666,
              "#ed7953"
             ],
             [
              0.7777777777777778,
              "#fb9f3a"
             ],
             [
              0.8888888888888888,
              "#fdca26"
             ],
             [
              1,
              "#f0f921"
             ]
            ],
            "type": "contour"
           }
          ],
          "contourcarpet": [
           {
            "colorbar": {
             "outlinewidth": 0,
             "ticks": ""
            },
            "type": "contourcarpet"
           }
          ],
          "heatmap": [
           {
            "colorbar": {
             "outlinewidth": 0,
             "ticks": ""
            },
            "colorscale": [
             [
              0,
              "#0d0887"
             ],
             [
              0.1111111111111111,
              "#46039f"
             ],
             [
              0.2222222222222222,
              "#7201a8"
             ],
             [
              0.3333333333333333,
              "#9c179e"
             ],
             [
              0.4444444444444444,
              "#bd3786"
             ],
             [
              0.5555555555555556,
              "#d8576b"
             ],
             [
              0.6666666666666666,
              "#ed7953"
             ],
             [
              0.7777777777777778,
              "#fb9f3a"
             ],
             [
              0.8888888888888888,
              "#fdca26"
             ],
             [
              1,
              "#f0f921"
             ]
            ],
            "type": "heatmap"
           }
          ],
          "histogram": [
           {
            "marker": {
             "pattern": {
              "fillmode": "overlay",
              "size": 10,
              "solidity": 0.2
             }
            },
            "type": "histogram"
           }
          ],
          "histogram2d": [
           {
            "colorbar": {
             "outlinewidth": 0,
             "ticks": ""
            },
            "colorscale": [
             [
              0,
              "#0d0887"
             ],
             [
              0.1111111111111111,
              "#46039f"
             ],
             [
              0.2222222222222222,
              "#7201a8"
             ],
             [
              0.3333333333333333,
              "#9c179e"
             ],
             [
              0.4444444444444444,
              "#bd3786"
             ],
             [
              0.5555555555555556,
              "#d8576b"
             ],
             [
              0.6666666666666666,
              "#ed7953"
             ],
             [
              0.7777777777777778,
              "#fb9f3a"
             ],
             [
              0.8888888888888888,
              "#fdca26"
             ],
             [
              1,
              "#f0f921"
             ]
            ],
            "type": "histogram2d"
           }
          ],
          "histogram2dcontour": [
           {
            "colorbar": {
             "outlinewidth": 0,
             "ticks": ""
            },
            "colorscale": [
             [
              0,
              "#0d0887"
             ],
             [
              0.1111111111111111,
              "#46039f"
             ],
             [
              0.2222222222222222,
              "#7201a8"
             ],
             [
              0.3333333333333333,
              "#9c179e"
             ],
             [
              0.4444444444444444,
              "#bd3786"
             ],
             [
              0.5555555555555556,
              "#d8576b"
             ],
             [
              0.6666666666666666,
              "#ed7953"
             ],
             [
              0.7777777777777778,
              "#fb9f3a"
             ],
             [
              0.8888888888888888,
              "#fdca26"
             ],
             [
              1,
              "#f0f921"
             ]
            ],
            "type": "histogram2dcontour"
           }
          ],
          "mesh3d": [
           {
            "colorbar": {
             "outlinewidth": 0,
             "ticks": ""
            },
            "type": "mesh3d"
           }
          ],
          "parcoords": [
           {
            "line": {
             "colorbar": {
              "outlinewidth": 0,
              "ticks": ""
             }
            },
            "type": "parcoords"
           }
          ],
          "pie": [
           {
            "automargin": true,
            "type": "pie"
           }
          ],
          "scatter": [
           {
            "fillpattern": {
             "fillmode": "overlay",
             "size": 10,
             "solidity": 0.2
            },
            "type": "scatter"
           }
          ],
          "scatter3d": [
           {
            "line": {
             "colorbar": {
              "outlinewidth": 0,
              "ticks": ""
             }
            },
            "marker": {
             "colorbar": {
              "outlinewidth": 0,
              "ticks": ""
             }
            },
            "type": "scatter3d"
           }
          ],
          "scattercarpet": [
           {
            "marker": {
             "colorbar": {
              "outlinewidth": 0,
              "ticks": ""
             }
            },
            "type": "scattercarpet"
           }
          ],
          "scattergeo": [
           {
            "marker": {
             "colorbar": {
              "outlinewidth": 0,
              "ticks": ""
             }
            },
            "type": "scattergeo"
           }
          ],
          "scattergl": [
           {
            "marker": {
             "colorbar": {
              "outlinewidth": 0,
              "ticks": ""
             }
            },
            "type": "scattergl"
           }
          ],
          "scattermap": [
           {
            "marker": {
             "colorbar": {
              "outlinewidth": 0,
              "ticks": ""
             }
            },
            "type": "scattermap"
           }
          ],
          "scattermapbox": [
           {
            "marker": {
             "colorbar": {
              "outlinewidth": 0,
              "ticks": ""
             }
            },
            "type": "scattermapbox"
           }
          ],
          "scatterpolar": [
           {
            "marker": {
             "colorbar": {
              "outlinewidth": 0,
              "ticks": ""
             }
            },
            "type": "scatterpolar"
           }
          ],
          "scatterpolargl": [
           {
            "marker": {
             "colorbar": {
              "outlinewidth": 0,
              "ticks": ""
             }
            },
            "type": "scatterpolargl"
           }
          ],
          "scatterternary": [
           {
            "marker": {
             "colorbar": {
              "outlinewidth": 0,
              "ticks": ""
             }
            },
            "type": "scatterternary"
           }
          ],
          "surface": [
           {
            "colorbar": {
             "outlinewidth": 0,
             "ticks": ""
            },
            "colorscale": [
             [
              0,
              "#0d0887"
             ],
             [
              0.1111111111111111,
              "#46039f"
             ],
             [
              0.2222222222222222,
              "#7201a8"
             ],
             [
              0.3333333333333333,
              "#9c179e"
             ],
             [
              0.4444444444444444,
              "#bd3786"
             ],
             [
              0.5555555555555556,
              "#d8576b"
             ],
             [
              0.6666666666666666,
              "#ed7953"
             ],
             [
              0.7777777777777778,
              "#fb9f3a"
             ],
             [
              0.8888888888888888,
              "#fdca26"
             ],
             [
              1,
              "#f0f921"
             ]
            ],
            "type": "surface"
           }
          ],
          "table": [
           {
            "cells": {
             "fill": {
              "color": "#EBF0F8"
             },
             "line": {
              "color": "white"
             }
            },
            "header": {
             "fill": {
              "color": "#C8D4E3"
             },
             "line": {
              "color": "white"
             }
            },
            "type": "table"
           }
          ]
         },
         "layout": {
          "annotationdefaults": {
           "arrowcolor": "#2a3f5f",
           "arrowhead": 0,
           "arrowwidth": 1
          },
          "autotypenumbers": "strict",
          "coloraxis": {
           "colorbar": {
            "outlinewidth": 0,
            "ticks": ""
           }
          },
          "colorscale": {
           "diverging": [
            [
             0,
             "#8e0152"
            ],
            [
             0.1,
             "#c51b7d"
            ],
            [
             0.2,
             "#de77ae"
            ],
            [
             0.3,
             "#f1b6da"
            ],
            [
             0.4,
             "#fde0ef"
            ],
            [
             0.5,
             "#f7f7f7"
            ],
            [
             0.6,
             "#e6f5d0"
            ],
            [
             0.7,
             "#b8e186"
            ],
            [
             0.8,
             "#7fbc41"
            ],
            [
             0.9,
             "#4d9221"
            ],
            [
             1,
             "#276419"
            ]
           ],
           "sequential": [
            [
             0,
             "#0d0887"
            ],
            [
             0.1111111111111111,
             "#46039f"
            ],
            [
             0.2222222222222222,
             "#7201a8"
            ],
            [
             0.3333333333333333,
             "#9c179e"
            ],
            [
             0.4444444444444444,
             "#bd3786"
            ],
            [
             0.5555555555555556,
             "#d8576b"
            ],
            [
             0.6666666666666666,
             "#ed7953"
            ],
            [
             0.7777777777777778,
             "#fb9f3a"
            ],
            [
             0.8888888888888888,
             "#fdca26"
            ],
            [
             1,
             "#f0f921"
            ]
           ],
           "sequentialminus": [
            [
             0,
             "#0d0887"
            ],
            [
             0.1111111111111111,
             "#46039f"
            ],
            [
             0.2222222222222222,
             "#7201a8"
            ],
            [
             0.3333333333333333,
             "#9c179e"
            ],
            [
             0.4444444444444444,
             "#bd3786"
            ],
            [
             0.5555555555555556,
             "#d8576b"
            ],
            [
             0.6666666666666666,
             "#ed7953"
            ],
            [
             0.7777777777777778,
             "#fb9f3a"
            ],
            [
             0.8888888888888888,
             "#fdca26"
            ],
            [
             1,
             "#f0f921"
            ]
           ]
          },
          "colorway": [
           "#636efa",
           "#EF553B",
           "#00cc96",
           "#ab63fa",
           "#FFA15A",
           "#19d3f3",
           "#FF6692",
           "#B6E880",
           "#FF97FF",
           "#FECB52"
          ],
          "font": {
           "color": "#2a3f5f"
          },
          "geo": {
           "bgcolor": "white",
           "lakecolor": "white",
           "landcolor": "#E5ECF6",
           "showlakes": true,
           "showland": true,
           "subunitcolor": "white"
          },
          "hoverlabel": {
           "align": "left"
          },
          "hovermode": "closest",
          "mapbox": {
           "style": "light"
          },
          "paper_bgcolor": "white",
          "plot_bgcolor": "#E5ECF6",
          "polar": {
           "angularaxis": {
            "gridcolor": "white",
            "linecolor": "white",
            "ticks": ""
           },
           "bgcolor": "#E5ECF6",
           "radialaxis": {
            "gridcolor": "white",
            "linecolor": "white",
            "ticks": ""
           }
          },
          "scene": {
           "xaxis": {
            "backgroundcolor": "#E5ECF6",
            "gridcolor": "white",
            "gridwidth": 2,
            "linecolor": "white",
            "showbackground": true,
            "ticks": "",
            "zerolinecolor": "white"
           },
           "yaxis": {
            "backgroundcolor": "#E5ECF6",
            "gridcolor": "white",
            "gridwidth": 2,
            "linecolor": "white",
            "showbackground": true,
            "ticks": "",
            "zerolinecolor": "white"
           },
           "zaxis": {
            "backgroundcolor": "#E5ECF6",
            "gridcolor": "white",
            "gridwidth": 2,
            "linecolor": "white",
            "showbackground": true,
            "ticks": "",
            "zerolinecolor": "white"
           }
          },
          "shapedefaults": {
           "line": {
            "color": "#2a3f5f"
           }
          },
          "ternary": {
           "aaxis": {
            "gridcolor": "white",
            "linecolor": "white",
            "ticks": ""
           },
           "baxis": {
            "gridcolor": "white",
            "linecolor": "white",
            "ticks": ""
           },
           "bgcolor": "#E5ECF6",
           "caxis": {
            "gridcolor": "white",
            "linecolor": "white",
            "ticks": ""
           }
          },
          "title": {
           "x": 0.05
          },
          "xaxis": {
           "automargin": true,
           "gridcolor": "white",
           "linecolor": "white",
           "ticks": "",
           "title": {
            "standoff": 15
           },
           "zerolinecolor": "white",
           "zerolinewidth": 2
          },
          "yaxis": {
           "automargin": true,
           "gridcolor": "white",
           "linecolor": "white",
           "ticks": "",
           "title": {
            "standoff": 15
           },
           "zerolinecolor": "white",
           "zerolinewidth": 2
          }
         }
        },
        "title": {
         "text": "LLM vs. BERT Sentiment Confusion Matrix"
        },
        "xaxis": {
         "anchor": "y",
         "domain": [
          0,
          1
         ],
         "side": "bottom",
         "title": {
          "text": "BERT Sentiment Prediction"
         },
         "type": "category"
        },
        "yaxis": {
         "anchor": "x",
         "autorange": "reversed",
         "domain": [
          0,
          1
         ],
         "title": {
          "text": "LLM Sentiment Assignment"
         },
         "type": "category"
        }
       }
      }
     },
     "metadata": {},
     "output_type": "display_data"
    },
    {
     "name": "stderr",
     "output_type": "stream",
     "text": [
      "2025-03-29 00:43:42,501 - New Data Processor Notebook - INFO - Creating LLM vs BERT Topic Sentiment Comparison...\n",
      "2025-03-29 00:43:42,502 - New Data Processor Notebook - INFO - Normalized 'llm_sentiment'. Unique values now: ['neutral']\n",
      "2025-03-29 00:43:42,503 - New Data Processor Notebook - INFO - Normalized 'bert_sentiment'. Unique values now: ['positive' 'negative']\n",
      "2025-03-29 00:43:42,536 - New Data Processor Notebook - INFO - Topic sentiment comparison saved to /Users/DINGZEEFS/Documents/Fine_tuning_odido/output_dir/new_data_notebook_results/visualizations/llm_vs_bert_topic_sentiment.html\n"
     ]
    },
    {
     "data": {
      "application/vnd.plotly.v1+json": {
       "config": {
        "plotlyServerURL": "https://plot.ly"
       },
       "data": [
        {
         "base": 0,
         "legendgroup": "LLM",
         "legendgrouptitle": {
          "text": "LLM"
         },
         "marker": {
          "color": "lightgreen"
         },
         "name": "LLM Positive",
         "offsetgroup": "0",
         "type": "bar",
         "x": [
          "Productkwaliteit & Ervaring",
          "Customer Service",
          "Prijs & Kosten",
          "Overig"
         ],
         "y": {
          "bdata": "AAAAAA==",
          "dtype": "i1"
         }
        },
        {
         "base": [
          0,
          0,
          0,
          0
         ],
         "legendgroup": "LLM",
         "marker": {
          "color": "lightgrey"
         },
         "name": "LLM Neutral",
         "offsetgroup": "0",
         "type": "bar",
         "x": [
          "Productkwaliteit & Ervaring",
          "Customer Service",
          "Prijs & Kosten",
          "Overig"
         ],
         "y": {
          "bdata": "CAYFAQ==",
          "dtype": "i1"
         }
        },
        {
         "base": [
          8,
          6,
          5,
          1
         ],
         "legendgroup": "LLM",
         "marker": {
          "color": "lightcoral"
         },
         "name": "LLM Negative",
         "offsetgroup": "0",
         "type": "bar",
         "x": [
          "Productkwaliteit & Ervaring",
          "Customer Service",
          "Prijs & Kosten",
          "Overig"
         ],
         "y": {
          "bdata": "AAAAAA==",
          "dtype": "i1"
         }
        },
        {
         "base": 0,
         "legendgroup": "BERT",
         "legendgrouptitle": {
          "text": "BERT"
         },
         "marker": {
          "color": "darkgreen"
         },
         "name": "BERT Positive",
         "offsetgroup": "1",
         "type": "bar",
         "x": [
          "Productkwaliteit & Ervaring",
          "Customer Service",
          "Prijs & Kosten",
          "Overig"
         ],
         "y": {
          "bdata": "AwUCAQ==",
          "dtype": "i1"
         }
        },
        {
         "base": [
          3,
          5,
          2,
          1
         ],
         "legendgroup": "BERT",
         "marker": {
          "color": "darkgrey"
         },
         "name": "BERT Neutral",
         "offsetgroup": "1",
         "type": "bar",
         "x": [
          "Productkwaliteit & Ervaring",
          "Customer Service",
          "Prijs & Kosten",
          "Overig"
         ],
         "y": {
          "bdata": "AAAAAA==",
          "dtype": "i1"
         }
        },
        {
         "base": [
          3,
          5,
          2,
          1
         ],
         "legendgroup": "BERT",
         "marker": {
          "color": "darkred"
         },
         "name": "BERT Negative",
         "offsetgroup": "1",
         "type": "bar",
         "x": [
          "Productkwaliteit & Ervaring",
          "Customer Service",
          "Prijs & Kosten",
          "Overig"
         ],
         "y": {
          "bdata": "BQEDAA==",
          "dtype": "i1"
         }
        }
       ],
       "layout": {
        "barmode": "relative",
        "legend": {
         "title": {
          "text": "Model & Sentiment"
         }
        },
        "template": {
         "data": {
          "bar": [
           {
            "error_x": {
             "color": "#2a3f5f"
            },
            "error_y": {
             "color": "#2a3f5f"
            },
            "marker": {
             "line": {
              "color": "#E5ECF6",
              "width": 0.5
             },
             "pattern": {
              "fillmode": "overlay",
              "size": 10,
              "solidity": 0.2
             }
            },
            "type": "bar"
           }
          ],
          "barpolar": [
           {
            "marker": {
             "line": {
              "color": "#E5ECF6",
              "width": 0.5
             },
             "pattern": {
              "fillmode": "overlay",
              "size": 10,
              "solidity": 0.2
             }
            },
            "type": "barpolar"
           }
          ],
          "carpet": [
           {
            "aaxis": {
             "endlinecolor": "#2a3f5f",
             "gridcolor": "white",
             "linecolor": "white",
             "minorgridcolor": "white",
             "startlinecolor": "#2a3f5f"
            },
            "baxis": {
             "endlinecolor": "#2a3f5f",
             "gridcolor": "white",
             "linecolor": "white",
             "minorgridcolor": "white",
             "startlinecolor": "#2a3f5f"
            },
            "type": "carpet"
           }
          ],
          "choropleth": [
           {
            "colorbar": {
             "outlinewidth": 0,
             "ticks": ""
            },
            "type": "choropleth"
           }
          ],
          "contour": [
           {
            "colorbar": {
             "outlinewidth": 0,
             "ticks": ""
            },
            "colorscale": [
             [
              0,
              "#0d0887"
             ],
             [
              0.1111111111111111,
              "#46039f"
             ],
             [
              0.2222222222222222,
              "#7201a8"
             ],
             [
              0.3333333333333333,
              "#9c179e"
             ],
             [
              0.4444444444444444,
              "#bd3786"
             ],
             [
              0.5555555555555556,
              "#d8576b"
             ],
             [
              0.6666666666666666,
              "#ed7953"
             ],
             [
              0.7777777777777778,
              "#fb9f3a"
             ],
             [
              0.8888888888888888,
              "#fdca26"
             ],
             [
              1,
              "#f0f921"
             ]
            ],
            "type": "contour"
           }
          ],
          "contourcarpet": [
           {
            "colorbar": {
             "outlinewidth": 0,
             "ticks": ""
            },
            "type": "contourcarpet"
           }
          ],
          "heatmap": [
           {
            "colorbar": {
             "outlinewidth": 0,
             "ticks": ""
            },
            "colorscale": [
             [
              0,
              "#0d0887"
             ],
             [
              0.1111111111111111,
              "#46039f"
             ],
             [
              0.2222222222222222,
              "#7201a8"
             ],
             [
              0.3333333333333333,
              "#9c179e"
             ],
             [
              0.4444444444444444,
              "#bd3786"
             ],
             [
              0.5555555555555556,
              "#d8576b"
             ],
             [
              0.6666666666666666,
              "#ed7953"
             ],
             [
              0.7777777777777778,
              "#fb9f3a"
             ],
             [
              0.8888888888888888,
              "#fdca26"
             ],
             [
              1,
              "#f0f921"
             ]
            ],
            "type": "heatmap"
           }
          ],
          "histogram": [
           {
            "marker": {
             "pattern": {
              "fillmode": "overlay",
              "size": 10,
              "solidity": 0.2
             }
            },
            "type": "histogram"
           }
          ],
          "histogram2d": [
           {
            "colorbar": {
             "outlinewidth": 0,
             "ticks": ""
            },
            "colorscale": [
             [
              0,
              "#0d0887"
             ],
             [
              0.1111111111111111,
              "#46039f"
             ],
             [
              0.2222222222222222,
              "#7201a8"
             ],
             [
              0.3333333333333333,
              "#9c179e"
             ],
             [
              0.4444444444444444,
              "#bd3786"
             ],
             [
              0.5555555555555556,
              "#d8576b"
             ],
             [
              0.6666666666666666,
              "#ed7953"
             ],
             [
              0.7777777777777778,
              "#fb9f3a"
             ],
             [
              0.8888888888888888,
              "#fdca26"
             ],
             [
              1,
              "#f0f921"
             ]
            ],
            "type": "histogram2d"
           }
          ],
          "histogram2dcontour": [
           {
            "colorbar": {
             "outlinewidth": 0,
             "ticks": ""
            },
            "colorscale": [
             [
              0,
              "#0d0887"
             ],
             [
              0.1111111111111111,
              "#46039f"
             ],
             [
              0.2222222222222222,
              "#7201a8"
             ],
             [
              0.3333333333333333,
              "#9c179e"
             ],
             [
              0.4444444444444444,
              "#bd3786"
             ],
             [
              0.5555555555555556,
              "#d8576b"
             ],
             [
              0.6666666666666666,
              "#ed7953"
             ],
             [
              0.7777777777777778,
              "#fb9f3a"
             ],
             [
              0.8888888888888888,
              "#fdca26"
             ],
             [
              1,
              "#f0f921"
             ]
            ],
            "type": "histogram2dcontour"
           }
          ],
          "mesh3d": [
           {
            "colorbar": {
             "outlinewidth": 0,
             "ticks": ""
            },
            "type": "mesh3d"
           }
          ],
          "parcoords": [
           {
            "line": {
             "colorbar": {
              "outlinewidth": 0,
              "ticks": ""
             }
            },
            "type": "parcoords"
           }
          ],
          "pie": [
           {
            "automargin": true,
            "type": "pie"
           }
          ],
          "scatter": [
           {
            "fillpattern": {
             "fillmode": "overlay",
             "size": 10,
             "solidity": 0.2
            },
            "type": "scatter"
           }
          ],
          "scatter3d": [
           {
            "line": {
             "colorbar": {
              "outlinewidth": 0,
              "ticks": ""
             }
            },
            "marker": {
             "colorbar": {
              "outlinewidth": 0,
              "ticks": ""
             }
            },
            "type": "scatter3d"
           }
          ],
          "scattercarpet": [
           {
            "marker": {
             "colorbar": {
              "outlinewidth": 0,
              "ticks": ""
             }
            },
            "type": "scattercarpet"
           }
          ],
          "scattergeo": [
           {
            "marker": {
             "colorbar": {
              "outlinewidth": 0,
              "ticks": ""
             }
            },
            "type": "scattergeo"
           }
          ],
          "scattergl": [
           {
            "marker": {
             "colorbar": {
              "outlinewidth": 0,
              "ticks": ""
             }
            },
            "type": "scattergl"
           }
          ],
          "scattermap": [
           {
            "marker": {
             "colorbar": {
              "outlinewidth": 0,
              "ticks": ""
             }
            },
            "type": "scattermap"
           }
          ],
          "scattermapbox": [
           {
            "marker": {
             "colorbar": {
              "outlinewidth": 0,
              "ticks": ""
             }
            },
            "type": "scattermapbox"
           }
          ],
          "scatterpolar": [
           {
            "marker": {
             "colorbar": {
              "outlinewidth": 0,
              "ticks": ""
             }
            },
            "type": "scatterpolar"
           }
          ],
          "scatterpolargl": [
           {
            "marker": {
             "colorbar": {
              "outlinewidth": 0,
              "ticks": ""
             }
            },
            "type": "scatterpolargl"
           }
          ],
          "scatterternary": [
           {
            "marker": {
             "colorbar": {
              "outlinewidth": 0,
              "ticks": ""
             }
            },
            "type": "scatterternary"
           }
          ],
          "surface": [
           {
            "colorbar": {
             "outlinewidth": 0,
             "ticks": ""
            },
            "colorscale": [
             [
              0,
              "#0d0887"
             ],
             [
              0.1111111111111111,
              "#46039f"
             ],
             [
              0.2222222222222222,
              "#7201a8"
             ],
             [
              0.3333333333333333,
              "#9c179e"
             ],
             [
              0.4444444444444444,
              "#bd3786"
             ],
             [
              0.5555555555555556,
              "#d8576b"
             ],
             [
              0.6666666666666666,
              "#ed7953"
             ],
             [
              0.7777777777777778,
              "#fb9f3a"
             ],
             [
              0.8888888888888888,
              "#fdca26"
             ],
             [
              1,
              "#f0f921"
             ]
            ],
            "type": "surface"
           }
          ],
          "table": [
           {
            "cells": {
             "fill": {
              "color": "#EBF0F8"
             },
             "line": {
              "color": "white"
             }
            },
            "header": {
             "fill": {
              "color": "#C8D4E3"
             },
             "line": {
              "color": "white"
             }
            },
            "type": "table"
           }
          ]
         },
         "layout": {
          "annotationdefaults": {
           "arrowcolor": "#2a3f5f",
           "arrowhead": 0,
           "arrowwidth": 1
          },
          "autotypenumbers": "strict",
          "coloraxis": {
           "colorbar": {
            "outlinewidth": 0,
            "ticks": ""
           }
          },
          "colorscale": {
           "diverging": [
            [
             0,
             "#8e0152"
            ],
            [
             0.1,
             "#c51b7d"
            ],
            [
             0.2,
             "#de77ae"
            ],
            [
             0.3,
             "#f1b6da"
            ],
            [
             0.4,
             "#fde0ef"
            ],
            [
             0.5,
             "#f7f7f7"
            ],
            [
             0.6,
             "#e6f5d0"
            ],
            [
             0.7,
             "#b8e186"
            ],
            [
             0.8,
             "#7fbc41"
            ],
            [
             0.9,
             "#4d9221"
            ],
            [
             1,
             "#276419"
            ]
           ],
           "sequential": [
            [
             0,
             "#0d0887"
            ],
            [
             0.1111111111111111,
             "#46039f"
            ],
            [
             0.2222222222222222,
             "#7201a8"
            ],
            [
             0.3333333333333333,
             "#9c179e"
            ],
            [
             0.4444444444444444,
             "#bd3786"
            ],
            [
             0.5555555555555556,
             "#d8576b"
            ],
            [
             0.6666666666666666,
             "#ed7953"
            ],
            [
             0.7777777777777778,
             "#fb9f3a"
            ],
            [
             0.8888888888888888,
             "#fdca26"
            ],
            [
             1,
             "#f0f921"
            ]
           ],
           "sequentialminus": [
            [
             0,
             "#0d0887"
            ],
            [
             0.1111111111111111,
             "#46039f"
            ],
            [
             0.2222222222222222,
             "#7201a8"
            ],
            [
             0.3333333333333333,
             "#9c179e"
            ],
            [
             0.4444444444444444,
             "#bd3786"
            ],
            [
             0.5555555555555556,
             "#d8576b"
            ],
            [
             0.6666666666666666,
             "#ed7953"
            ],
            [
             0.7777777777777778,
             "#fb9f3a"
            ],
            [
             0.8888888888888888,
             "#fdca26"
            ],
            [
             1,
             "#f0f921"
            ]
           ]
          },
          "colorway": [
           "#636efa",
           "#EF553B",
           "#00cc96",
           "#ab63fa",
           "#FFA15A",
           "#19d3f3",
           "#FF6692",
           "#B6E880",
           "#FF97FF",
           "#FECB52"
          ],
          "font": {
           "color": "#2a3f5f"
          },
          "geo": {
           "bgcolor": "white",
           "lakecolor": "white",
           "landcolor": "#E5ECF6",
           "showlakes": true,
           "showland": true,
           "subunitcolor": "white"
          },
          "hoverlabel": {
           "align": "left"
          },
          "hovermode": "closest",
          "mapbox": {
           "style": "light"
          },
          "paper_bgcolor": "white",
          "plot_bgcolor": "#E5ECF6",
          "polar": {
           "angularaxis": {
            "gridcolor": "white",
            "linecolor": "white",
            "ticks": ""
           },
           "bgcolor": "#E5ECF6",
           "radialaxis": {
            "gridcolor": "white",
            "linecolor": "white",
            "ticks": ""
           }
          },
          "scene": {
           "xaxis": {
            "backgroundcolor": "#E5ECF6",
            "gridcolor": "white",
            "gridwidth": 2,
            "linecolor": "white",
            "showbackground": true,
            "ticks": "",
            "zerolinecolor": "white"
           },
           "yaxis": {
            "backgroundcolor": "#E5ECF6",
            "gridcolor": "white",
            "gridwidth": 2,
            "linecolor": "white",
            "showbackground": true,
            "ticks": "",
            "zerolinecolor": "white"
           },
           "zaxis": {
            "backgroundcolor": "#E5ECF6",
            "gridcolor": "white",
            "gridwidth": 2,
            "linecolor": "white",
            "showbackground": true,
            "ticks": "",
            "zerolinecolor": "white"
           }
          },
          "shapedefaults": {
           "line": {
            "color": "#2a3f5f"
           }
          },
          "ternary": {
           "aaxis": {
            "gridcolor": "white",
            "linecolor": "white",
            "ticks": ""
           },
           "baxis": {
            "gridcolor": "white",
            "linecolor": "white",
            "ticks": ""
           },
           "bgcolor": "#E5ECF6",
           "caxis": {
            "gridcolor": "white",
            "linecolor": "white",
            "ticks": ""
           }
          },
          "title": {
           "x": 0.05
          },
          "xaxis": {
           "automargin": true,
           "gridcolor": "white",
           "linecolor": "white",
           "ticks": "",
           "title": {
            "standoff": 15
           },
           "zerolinecolor": "white",
           "zerolinewidth": 2
          },
          "yaxis": {
           "automargin": true,
           "gridcolor": "white",
           "linecolor": "white",
           "ticks": "",
           "title": {
            "standoff": 15
           },
           "zerolinecolor": "white",
           "zerolinewidth": 2
          }
         }
        },
        "title": {
         "text": "LLM vs. BERT Sentiment Distribution by Topic"
        },
        "xaxis": {
         "tickangle": -45,
         "title": {
          "text": "Topic"
         }
        },
        "yaxis": {
         "title": {
          "text": "Count"
         }
        }
       }
      }
     },
     "metadata": {},
     "output_type": "display_data"
    },
    {
     "name": "stderr",
     "output_type": "stream",
     "text": [
      "2025-03-29 00:43:42,539 - New Data Processor Notebook - INFO - All requested visualizations generated (or skipped) and saved to /Users/DINGZEEFS/Documents/Fine_tuning_odido/output_dir/new_data_notebook_results/visualizations and displayed inline where applicable.\n",
      "2025-03-29 00:43:42,540 - New Data Processor Notebook - INFO - Processing complete. Final results CSV at: /Users/DINGZEEFS/Documents/Fine_tuning_odido/output_dir/new_data_notebook_results/new_data_analysis_notebook.csv\n"
     ]
    }
   ],
   "source": [
    "logger.info(\"Generating visualizations...\")\n",
    "\n",
    "# --- Original Visualizations ---\n",
    "\n",
    "# Create topic distribution chart (using schema_main_category or topic_name)\n",
    "logger.info(\"Creating Topic Distribution Chart...\")\n",
    "# Decide which column represents the final topics ('topic_name' or 'schema_main_category')\n",
    "topic_col_for_dist = 'schema_main_category' if 'schema_main_category' in results_df.columns else 'topic_name'\n",
    "create_topic_distribution_chart(\n",
    "    results_df,\n",
    "    output_file=VIS_DIR / \"new_data_topic_distribution.html\",\n",
    "    display_inline=True\n",
    ")\n",
    "\n",
    "# Create sentiment pie charts (BERT)\n",
    "logger.info(\"Creating Sentiment Pie Chart (BERT)...\")\n",
    "create_sentiment_pie_chart(\n",
    "    results_df,\n",
    "    sentiment_column='bert_sentiment', # Make sure this column name matches output\n",
    "    output_file=VIS_DIR / \"new_data_bert_sentiment.html\",\n",
    "    display_inline=True\n",
    ")\n",
    "\n",
    "# Get improved topic terms (if needed for custom barchart)\n",
    "logger.info(\"Cleaning topic terms for custom barchart...\")\n",
    "improved_topics = clean_topic_terms(topic_model)\n",
    "\n",
    "# Create meaningful topic visualization (Custom Barchart)\n",
    "logger.info(\"Creating Custom Topic Barchart...\")\n",
    "create_custom_barchart(\n",
    "    topic_model,\n",
    "    improved_topics,\n",
    "    VIS_DIR,\n",
    "    display_inline=True\n",
    ")\n",
    "\n",
    "# --- Additional Visualizations ---\n",
    "\n",
    "# Create Topic Sentiment Heatmap (BERT)\n",
    "logger.info(\"Creating Topic Sentiment Heatmap (BERT)...\")\n",
    "create_topic_sentiment_heatmap(\n",
    "    results_df,\n",
    "    sentiment_column='bert_sentiment',\n",
    "    output_file=VIS_DIR / \"topic_sentiment_heatmap_bert.html\",\n",
    "    display_inline=True\n",
    ")\n",
    "\n",
    "# Create Topic Co-occurrence Network Graph\n",
    "logger.info(\"Creating Topic Co-occurrence Network Graph...\")\n",
    "# Check if enough data points exist for a meaningful graph\n",
    "if len(results_df) > 20: # Example threshold\n",
    "     create_theme_network_graph(\n",
    "         results_df,\n",
    "         min_co_occurrence=2, # Adjust threshold as needed\n",
    "         output_file=VIS_DIR / \"theme_network_graph.html\",\n",
    "         display_inline=True\n",
    "     )\n",
    "else:\n",
    "     logger.warning(\"Skipping theme network graph due to insufficient data.\")\n",
    "\n",
    "\n",
    "# Create standard BERTopic visualizations (will save multiple files)\n",
    "logger.info(\"Creating Standard BERTopic Visualizations...\")\n",
    "create_bertopic_visualizations(\n",
    "    topic_model,\n",
    "    VIS_DIR,\n",
    "    display_inline=True # Will show similarity map and barchart inline if possible\n",
    ")\n",
    "\n",
    "\n",
    "# --- LLM vs BERT Comparison Visualizations (Optional) ---\n",
    "# Check if LLM results are present before attempting comparison plots\n",
    "llm_cols_present = all(col in results_df.columns for col in ['llm_sentiment', 'llm_sentiment_score'])\n",
    "\n",
    "if llm_cols_present:\n",
    "    logger.info(\"LLM sentiment columns found. Creating comparison visualizations...\")\n",
    "\n",
    "    # Create LLM vs BERT Sentiment Dashboard\n",
    "    logger.info(\"Creating LLM vs BERT Sentiment Dashboard...\")\n",
    "    create_sentiment_comparison_dashboard(\n",
    "        results_df,\n",
    "        output_file=VIS_DIR / \"llm_vs_bert_dashboard.html\",\n",
    "        use_dutch=False, # Set to True for Dutch labels\n",
    "        display_inline=True\n",
    "    )\n",
    "\n",
    "    # Create LLM vs BERT Confusion Matrix\n",
    "    logger.info(\"Creating LLM vs BERT Confusion Matrix...\")\n",
    "    create_confusion_matrix(\n",
    "        results_df,\n",
    "        output_file=VIS_DIR / \"llm_vs_bert_confusion_matrix.html\",\n",
    "        use_dutch=False, # Set to True for Dutch labels\n",
    "        display_inline=True\n",
    "    )\n",
    "\n",
    "    # Create LLM vs BERT Topic Sentiment Comparison Bars\n",
    "    logger.info(\"Creating LLM vs BERT Topic Sentiment Comparison...\")\n",
    "    create_topic_sentiment_comparison(\n",
    "        results_df,\n",
    "        output_file=VIS_DIR / \"llm_vs_bert_topic_sentiment.html\",\n",
    "        use_dutch=False, # Set to True for Dutch labels\n",
    "        display_inline=True\n",
    "    )\n",
    "\n",
    "else:\n",
    "    logger.warning(\"LLM sentiment columns ('llm_sentiment', 'llm_sentiment_score') not found in results. Skipping LLM vs BERT comparison plots.\")\n",
    "\n",
    "\n",
    "# --- Final Summary ---\n",
    "logger.info(f\"All requested visualizations generated (or skipped) and saved to {VIS_DIR} and displayed inline where applicable.\")\n",
    "logger.info(f\"Processing complete. Final results CSV at: {output_csv_path}\")\n"
   ]
  }
 ],
 "metadata": {
  "kernelspec": {
   "display_name": "feedback-analysis-env",
   "language": "python",
   "name": "python3"
  },
  "language_info": {
   "codemirror_mode": {
    "name": "ipython",
    "version": 3
   },
   "file_extension": ".py",
   "mimetype": "text/x-python",
   "name": "python",
   "nbconvert_exporter": "python",
   "pygments_lexer": "ipython3",
   "version": "3.12.2"
  }
 },
 "nbformat": 4,
 "nbformat_minor": 2
}
